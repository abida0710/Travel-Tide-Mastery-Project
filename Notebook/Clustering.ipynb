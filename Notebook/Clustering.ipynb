{
 "cells": [
  {
   "metadata": {
    "id": "e7341dc9f425761c"
   },
   "cell_type": "markdown",
   "source": [
    "# Clustering of user features"
   ],
   "id": "e7341dc9f425761c"
  },
  {
   "metadata": {
    "id": "d949316e0ed7b90b"
   },
   "cell_type": "markdown",
   "source": [
    "\n",
    "# Preprocessing"
   ],
   "id": "d949316e0ed7b90b"
  },
  {
   "cell_type": "code",
   "id": "initial_id",
   "metadata": {
    "collapsed": true,
    "id": "initial_id",
    "executionInfo": {
     "status": "ok",
     "timestamp": 1745534647313,
     "user_tz": -120,
     "elapsed": 11,
     "user": {
      "displayName": "Abida Sultana Sweety",
      "userId": "17696066625316086292"
     }
    }
   },
   "source": [
    "import pandas as pd\n",
    "import plotly.express as px\n",
    "from sklearn.preprocessing import StandardScaler\n",
    "from sklearn.decomposition import PCA\n",
    "import numpy as np\n",
    "from sklearn.cluster import KMeans\n",
    "import matplotlib.pyplot as plt\n",
    "import seaborn as sns"
   ],
   "outputs": [],
   "execution_count": null
  },
  {
   "metadata": {
    "colab": {
     "base_uri": "https://localhost:8080/",
     "height": 444
    },
    "id": "24c2d3b0dfd8da94",
    "executionInfo": {
     "status": "ok",
     "timestamp": 1745534647473,
     "user_tz": -120,
     "elapsed": 159,
     "user": {
      "displayName": "Abida Sultana Sweety",
      "userId": "17696066625316086292"
     }
    },
    "outputId": "8598181f-f6ab-4040-d42a-b6b823cbbd91"
   },
   "cell_type": "code",
   "source": [
    "df = pd.read_csv('user_features.csv')\n",
    "df"
   ],
   "id": "24c2d3b0dfd8da94",
   "outputs": [],
   "execution_count": null
  },
  {
   "metadata": {
    "id": "aec87411e10bbe4b",
    "executionInfo": {
     "status": "ok",
     "timestamp": 1745534647474,
     "user_tz": -120,
     "elapsed": 2,
     "user": {
      "displayName": "Abida Sultana Sweety",
      "userId": "17696066625316086292"
     }
    }
   },
   "cell_type": "code",
   "source": [
    "df = pd.read_csv('user_features.csv').drop(columns=['user_id'])"
   ],
   "id": "aec87411e10bbe4b",
   "outputs": [],
   "execution_count": null
  },
  {
   "cell_type": "code",
   "source": [
    "df.isna().sum()"
   ],
   "metadata": {
    "colab": {
     "base_uri": "https://localhost:8080/",
     "height": 680
    },
    "id": "fuvjgogoydso",
    "executionInfo": {
     "status": "ok",
     "timestamp": 1745534647477,
     "user_tz": -120,
     "elapsed": 5,
     "user": {
      "displayName": "Abida Sultana Sweety",
      "userId": "17696066625316086292"
     }
    },
    "outputId": "62e2a235-f112-468d-e855-2a9fb689e7c9"
   },
   "id": "fuvjgogoydso",
   "outputs": [],
   "execution_count": null
  },
  {
   "metadata": {
    "colab": {
     "base_uri": "https://localhost:8080/"
    },
    "id": "5296ced6da742add",
    "executionInfo": {
     "status": "ok",
     "timestamp": 1745534647498,
     "user_tz": -120,
     "elapsed": 2,
     "user": {
      "displayName": "Abida Sultana Sweety",
      "userId": "17696066625316086292"
     }
    },
    "outputId": "07cea98a-881b-41f8-a0e5-04e79277b6f7"
   },
   "cell_type": "code",
   "source": [
    "df.info()"
   ],
   "id": "5296ced6da742add",
   "outputs": [],
   "execution_count": null
  },
  {
   "metadata": {
    "id": "e555811cd0ff06d1",
    "executionInfo": {
     "status": "ok",
     "timestamp": 1745534647529,
     "user_tz": -120,
     "elapsed": 31,
     "user": {
      "displayName": "Abida Sultana Sweety",
      "userId": "17696066625316086292"
     }
    }
   },
   "cell_type": "code",
   "source": [
    "binary_cols = ['married', 'has_children']\n",
    "df[binary_cols] = df[binary_cols].astype('int64')"
   ],
   "id": "e555811cd0ff06d1",
   "outputs": [],
   "execution_count": null
  },
  {
   "metadata": {
    "colab": {
     "base_uri": "https://localhost:8080/",
     "height": 444
    },
    "id": "8ba6bd7285e336a2",
    "executionInfo": {
     "status": "ok",
     "timestamp": 1745534647568,
     "user_tz": -120,
     "elapsed": 38,
     "user": {
      "displayName": "Abida Sultana Sweety",
      "userId": "17696066625316086292"
     }
    },
    "outputId": "8700a99f-3c45-45af-c809-e38e34fcfb1b"
   },
   "cell_type": "code",
   "source": [
    "df"
   ],
   "id": "8ba6bd7285e336a2",
   "outputs": [],
   "execution_count": null
  },
  {
   "metadata": {
    "id": "d503289c0202319c"
   },
   "cell_type": "markdown",
   "source": [
    "# Groups found in EDA of user_features"
   ],
   "id": "d503289c0202319c"
  },
  {
   "metadata": {
    "id": "8352884fe1af25d0",
    "executionInfo": {
     "status": "ok",
     "timestamp": 1745534647569,
     "user_tz": -120,
     "elapsed": 1,
     "user": {
      "displayName": "Abida Sultana Sweety",
      "userId": "17696066625316086292"
     }
    }
   },
   "cell_type": "code",
   "source": [
    "df_cancelled = df[df['canceled_trips'] != 0].copy() # Group cancelled"
   ],
   "id": "8352884fe1af25d0",
   "outputs": [],
   "execution_count": null
  },
  {
   "metadata": {
    "colab": {
     "base_uri": "https://localhost:8080/",
     "height": 444
    },
    "id": "ed76276a10a259cd",
    "executionInfo": {
     "status": "ok",
     "timestamp": 1745534647667,
     "user_tz": -120,
     "elapsed": 98,
     "user": {
      "displayName": "Abida Sultana Sweety",
      "userId": "17696066625316086292"
     }
    },
    "outputId": "0a555ec7-8519-48ae-f591-6b1509e43e87"
   },
   "cell_type": "code",
   "source": [
    "df_cancelled"
   ],
   "id": "ed76276a10a259cd",
   "outputs": [],
   "execution_count": null
  },
  {
   "cell_type": "code",
   "source": [
    "# Calculate the percentage of users who have cancelled trips\n",
    "percentage_cancelled = (len(df_cancelled) / (len(df_cancelled) + len(df))) * 100\n",
    "\n",
    "# Print the percentage\n",
    "print(f\"Percentage of users who have cancelled trips: {percentage_cancelled:.2f}%\")"
   ],
   "metadata": {
    "colab": {
     "base_uri": "https://localhost:8080/"
    },
    "id": "ehyKrUEwCqrL",
    "executionInfo": {
     "status": "ok",
     "timestamp": 1745534647670,
     "user_tz": -120,
     "elapsed": 3,
     "user": {
      "displayName": "Abida Sultana Sweety",
      "userId": "17696066625316086292"
     }
    },
    "outputId": "b22849fc-a390-43f4-e61b-84f4a462820e"
   },
   "id": "ehyKrUEwCqrL",
   "outputs": [],
   "execution_count": null
  },
  {
   "metadata": {
    "id": "9fda8eb45a56b3a1",
    "executionInfo": {
     "status": "ok",
     "timestamp": 1745534647671,
     "user_tz": -120,
     "elapsed": 1,
     "user": {
      "displayName": "Abida Sultana Sweety",
      "userId": "17696066625316086292"
     }
    }
   },
   "cell_type": "code",
   "source": [
    "df = df[df['canceled_trips'] == 0].copy() #not canceled group\n",
    "df.drop(columns=['canceled_trips'], inplace=True)"
   ],
   "id": "9fda8eb45a56b3a1",
   "outputs": [],
   "execution_count": null
  },
  {
   "metadata": {
    "colab": {
     "base_uri": "https://localhost:8080/",
     "height": 444
    },
    "id": "dac8f2cad0fd5c5d",
    "executionInfo": {
     "status": "ok",
     "timestamp": 1745534647687,
     "user_tz": -120,
     "elapsed": 16,
     "user": {
      "displayName": "Abida Sultana Sweety",
      "userId": "17696066625316086292"
     }
    },
    "outputId": "d11b4aa2-0756-47e8-f69b-805aafb000b3"
   },
   "cell_type": "code",
   "source": [
    "df_abi = df[df['age'] == 18].copy() # Group age 18\n",
    "df_abi"
   ],
   "id": "dac8f2cad0fd5c5d",
   "outputs": [],
   "execution_count": null
  },
  {
   "cell_type": "code",
   "source": [
    "# Calculate the percentage of users who are 18 years old\n",
    "percentage_18 = (len(df_abi) / (len(df_abi) + len(df))) * 100\n",
    "\n",
    "# Print the percentage\n",
    "print(f\"Percentage of users who are 18 years old: {percentage_18:.2f}%\")"
   ],
   "metadata": {
    "colab": {
     "base_uri": "https://localhost:8080/"
    },
    "id": "PAK5nWTbDl9z",
    "executionInfo": {
     "status": "ok",
     "timestamp": 1745534647690,
     "user_tz": -120,
     "elapsed": 3,
     "user": {
      "displayName": "Abida Sultana Sweety",
      "userId": "17696066625316086292"
     }
    },
    "outputId": "cbd03b5b-168a-45be-91ea-faa0f381d0bc"
   },
   "id": "PAK5nWTbDl9z",
   "outputs": [],
   "execution_count": null
  },
  {
   "metadata": {
    "id": "f7c1e897c2ffb8a0",
    "executionInfo": {
     "status": "ok",
     "timestamp": 1745534647691,
     "user_tz": -120,
     "elapsed": 1,
     "user": {
      "displayName": "Abida Sultana Sweety",
      "userId": "17696066625316086292"
     }
    }
   },
   "cell_type": "code",
   "source": [
    "df = df[df['age'] != 18].copy()"
   ],
   "id": "f7c1e897c2ffb8a0",
   "outputs": [],
   "execution_count": null
  },
  {
   "cell_type": "code",
   "source": [
    "df_discounted_hotel = df[df['hotel_discount_amount'] != 0].copy() # Group discounted hotel\n",
    "df_discounted_hotel\n"
   ],
   "metadata": {
    "colab": {
     "base_uri": "https://localhost:8080/",
     "height": 444
    },
    "id": "JkPzjyYwVICH",
    "executionInfo": {
     "status": "ok",
     "timestamp": 1745534647750,
     "user_tz": -120,
     "elapsed": 60,
     "user": {
      "displayName": "Abida Sultana Sweety",
      "userId": "17696066625316086292"
     }
    },
    "outputId": "ff9b15a1-4300-483e-f674-e7bf7b5acfd7"
   },
   "id": "JkPzjyYwVICH",
   "outputs": [],
   "execution_count": null
  },
  {
   "cell_type": "code",
   "source": [
    "df_not_discounted_hotel = df[df['hotel_discount_amount'] == 0].copy() # Group not discounted hotel\n",
    "df_not_discounted_hotel"
   ],
   "metadata": {
    "colab": {
     "base_uri": "https://localhost:8080/",
     "height": 444
    },
    "id": "gYWs2T0EWG1Q",
    "executionInfo": {
     "status": "ok",
     "timestamp": 1745534647789,
     "user_tz": -120,
     "elapsed": 38,
     "user": {
      "displayName": "Abida Sultana Sweety",
      "userId": "17696066625316086292"
     }
    },
    "outputId": "eabfd3e8-b2b8-49ed-eccc-2eeb1c35ad46"
   },
   "id": "gYWs2T0EWG1Q",
   "outputs": [],
   "execution_count": null
  },
  {
   "cell_type": "code",
   "source": [
    "# Group data by 'amount_of_trips' and count occurrences for each group, excluding 0 trips\n",
    "discounted_trips_counts_hotel = df_discounted_hotel[df_discounted_hotel['amount_of_trips'] != 0]['amount_of_trips'].value_counts().sort_index()\n",
    "not_discounted_trips_counts = df_not_discounted_hotel[df_not_discounted_hotel['amount_of_trips'] != 0]['amount_of_trips'].value_counts().sort_index()\n",
    "\n",
    "# Create a bar chart\n",
    "plt.figure(figsize=(10, 6))  # Adjust figure size as needed\n",
    "width = 0.35  # Width of the bars\n",
    "\n",
    "plt.bar(discounted_trips_counts_hotel.index - width/2, discounted_trips_counts_hotel.values, width, label='Discounted Hotel')\n",
    "plt.bar(not_discounted_trips_counts.index + width/2, not_discounted_trips_counts.values, width, label='Not Discounted Hotel')\n",
    "\n",
    "# Customize chart\n",
    "plt.xlabel('Amount of Trips')\n",
    "plt.ylabel('Number of Users')\n",
    "plt.title('Discounted vs. Not Discounted Hotel')\n",
    "plt.xticks(discounted_trips_counts_hotel.index)  # Ensure all trip values are shown on x-axis\n",
    "plt.legend()\n",
    "plt.tight_layout()\n",
    "plt.show()"
   ],
   "metadata": {
    "colab": {
     "base_uri": "https://localhost:8080/",
     "height": 565
    },
    "id": "EhbKPd9nYD0K",
    "executionInfo": {
     "status": "ok",
     "timestamp": 1745534648024,
     "user_tz": -120,
     "elapsed": 235,
     "user": {
      "displayName": "Abida Sultana Sweety",
      "userId": "17696066625316086292"
     }
    },
    "outputId": "64291952-c262-4f11-9f52-ce7f2cd3feb0"
   },
   "id": "EhbKPd9nYD0K",
   "outputs": [],
   "execution_count": null
  },
  {
   "cell_type": "code",
   "source": [
    "df_discounted_flight = df[df['flight_discount_amount'] != 0].copy() # Group discounted flight\n",
    "df_discounted_flight"
   ],
   "metadata": {
    "colab": {
     "base_uri": "https://localhost:8080/",
     "height": 444
    },
    "id": "zCCZH0akYok-",
    "executionInfo": {
     "status": "ok",
     "timestamp": 1745534648064,
     "user_tz": -120,
     "elapsed": 40,
     "user": {
      "displayName": "Abida Sultana Sweety",
      "userId": "17696066625316086292"
     }
    },
    "outputId": "ab467f8e-b972-4947-9f58-f2bfc7c54592"
   },
   "id": "zCCZH0akYok-",
   "outputs": [],
   "execution_count": null
  },
  {
   "cell_type": "code",
   "source": [
    "df_not_discounted_flight = df[df['flight_discount_amount'] == 0].copy() # Group not discounted flight\n",
    "df_not_discounted_flight"
   ],
   "metadata": {
    "colab": {
     "base_uri": "https://localhost:8080/",
     "height": 444
    },
    "id": "2zyh-Q_CY2cp",
    "executionInfo": {
     "status": "ok",
     "timestamp": 1745534648113,
     "user_tz": -120,
     "elapsed": 50,
     "user": {
      "displayName": "Abida Sultana Sweety",
      "userId": "17696066625316086292"
     }
    },
    "outputId": "21888cc8-86a7-40f0-af03-a1e7dfb98a03"
   },
   "id": "2zyh-Q_CY2cp",
   "outputs": [],
   "execution_count": null
  },
  {
   "cell_type": "code",
   "source": [
    "# Group data by 'amount_of_trips' and count occurrences for each group, excluding 0 trips\n",
    "discounted_trips_counts_flight = df_discounted_flight[df_discounted_flight['amount_of_trips'] != 0]['amount_of_trips'].value_counts().sort_index()\n",
    "not_discounted_trips_counts_flight = df_not_discounted_flight[df_not_discounted_flight['amount_of_trips'] != 0]['amount_of_trips'].value_counts().sort_index()\n",
    "\n",
    "# Create a bar chart\n",
    "plt.figure(figsize=(10, 6))  # Adjust figure size as needed\n",
    "width = 0.35  # Width of the bars\n",
    "\n",
    "plt.bar(discounted_trips_counts_flight.index - width/2, discounted_trips_counts_flight.values, width, label='Discounted Flight')\n",
    "plt.bar(not_discounted_trips_counts_flight.index + width/2, not_discounted_trips_counts_flight.values, width, label='Not Discounted Flight')\n",
    "\n",
    "# Customize chart\n",
    "plt.xlabel('Amount of Trips')\n",
    "plt.ylabel('Number of Users')\n",
    "plt.title('Discounted vs. Not Discounted Flight')\n",
    "plt.xticks(discounted_trips_counts_flight.index)  # Ensure all trip values are shown on x-axis\n",
    "plt.legend()\n",
    "plt.tight_layout()\n",
    "plt.show()"
   ],
   "metadata": {
    "colab": {
     "base_uri": "https://localhost:8080/",
     "height": 565
    },
    "id": "ld6Us_DxZyJJ",
    "executionInfo": {
     "status": "ok",
     "timestamp": 1745534648371,
     "user_tz": -120,
     "elapsed": 258,
     "user": {
      "displayName": "Abida Sultana Sweety",
      "userId": "17696066625316086292"
     }
    },
    "outputId": "ff4d4cc7-f7a0-4527-c5f3-e65fc692d6da"
   },
   "id": "ld6Us_DxZyJJ",
   "outputs": [],
   "execution_count": null
  },
  {
   "cell_type": "markdown",
   "source": [],
   "metadata": {
    "id": "GVBD438XY6E5"
   },
   "id": "GVBD438XY6E5"
  },
  {
   "metadata": {
    "colab": {
     "base_uri": "https://localhost:8080/",
     "height": 444
    },
    "id": "c93b3c9f894bf343",
    "executionInfo": {
     "status": "ok",
     "timestamp": 1745534648405,
     "user_tz": -120,
     "elapsed": 35,
     "user": {
      "displayName": "Abida Sultana Sweety",
      "userId": "17696066625316086292"
     }
    },
    "outputId": "2c7b0147-d513-4f53-fced-cca5cbabdb8c"
   },
   "cell_type": "code",
   "source": [
    "df"
   ],
   "id": "c93b3c9f894bf343",
   "outputs": [],
   "execution_count": null
  },
  {
   "cell_type": "code",
   "source": [
    "df = df.drop(columns=['hotel_discount_amount', 'flight_discount_amount', 'tenure_months', 'session_duration_invalid_avg_sec'])\n",
    "\n"
   ],
   "metadata": {
    "colab": {
     "base_uri": "https://localhost:8080/",
     "height": 347
    },
    "id": "rtki60fG8rZB",
    "executionInfo": {
     "status": "error",
     "timestamp": 1745534792739,
     "user_tz": -120,
     "elapsed": 23,
     "user": {
      "displayName": "Abida Sultana Sweety",
      "userId": "17696066625316086292"
     }
    },
    "outputId": "a1586440-b23b-4b0d-9424-0c098c9845b2"
   },
   "id": "rtki60fG8rZB",
   "outputs": [],
   "execution_count": null
  },
  {
   "cell_type": "code",
   "source": [
    "df"
   ],
   "metadata": {
    "colab": {
     "base_uri": "https://localhost:8080/",
     "height": 444
    },
    "id": "kGHMbeBe-m8Z",
    "executionInfo": {
     "status": "ok",
     "timestamp": 1745534746238,
     "user_tz": -120,
     "elapsed": 54,
     "user": {
      "displayName": "Abida Sultana Sweety",
      "userId": "17696066625316086292"
     }
    },
    "outputId": "5a39b0f8-26ae-4c2f-d9c1-287eb8c71a6e"
   },
   "id": "kGHMbeBe-m8Z",
   "outputs": [],
   "execution_count": null
  },
  {
   "metadata": {
    "id": "da41f47f8c981c15"
   },
   "cell_type": "markdown",
   "source": [
    "# Scaling"
   ],
   "id": "da41f47f8c981c15"
  },
  {
   "metadata": {
    "colab": {
     "base_uri": "https://localhost:8080/"
    },
    "id": "7aa302a115a637ca",
    "executionInfo": {
     "status": "ok",
     "timestamp": 1745534815467,
     "user_tz": -120,
     "elapsed": 17,
     "user": {
      "displayName": "Abida Sultana Sweety",
      "userId": "17696066625316086292"
     }
    },
    "outputId": "a4319f31-477f-47f1-e3da-0e7d2066bd71"
   },
   "cell_type": "code",
   "source": [
    "scaler = StandardScaler()\n",
    "df_scaled = scaler.fit_transform(df)\n",
    "df_scaled"
   ],
   "id": "7aa302a115a637ca",
   "outputs": [],
   "execution_count": null
  },
  {
   "metadata": {
    "id": "1df2093f94b1610f"
   },
   "cell_type": "markdown",
   "source": [
    "## PCA"
   ],
   "id": "1df2093f94b1610f"
  },
  {
   "metadata": {
    "colab": {
     "base_uri": "https://localhost:8080/"
    },
    "id": "3f4f1d0f6651c68c",
    "executionInfo": {
     "status": "ok",
     "timestamp": 1745534818257,
     "user_tz": -120,
     "elapsed": 10,
     "user": {
      "displayName": "Abida Sultana Sweety",
      "userId": "17696066625316086292"
     }
    },
    "outputId": "2f7ab1f7-6272-4fe1-db7d-e480a9dc5c34"
   },
   "cell_type": "code",
   "source": [
    "# PCA\n",
    "pca = PCA()\n",
    "pca_result = pca.fit_transform(df_scaled)\n",
    "pca_result"
   ],
   "id": "3f4f1d0f6651c68c",
   "outputs": [],
   "execution_count": null
  },
  {
   "metadata": {
    "colab": {
     "base_uri": "https://localhost:8080/"
    },
    "id": "20ebe3a9ed971112",
    "executionInfo": {
     "status": "ok",
     "timestamp": 1745534821386,
     "user_tz": -120,
     "elapsed": 6,
     "user": {
      "displayName": "Abida Sultana Sweety",
      "userId": "17696066625316086292"
     }
    },
    "outputId": "22dd4369-228d-4c18-83d4-b987dc799755"
   },
   "cell_type": "code",
   "source": [
    "pca.explained_variance_ratio_"
   ],
   "id": "20ebe3a9ed971112",
   "outputs": [],
   "execution_count": null
  },
  {
   "metadata": {
    "colab": {
     "base_uri": "https://localhost:8080/",
     "height": 487
    },
    "id": "f381fe5a69396071",
    "executionInfo": {
     "status": "ok",
     "timestamp": 1745534825374,
     "user_tz": -120,
     "elapsed": 459,
     "user": {
      "displayName": "Abida Sultana Sweety",
      "userId": "17696066625316086292"
     }
    },
    "outputId": "1eb56983-3250-48d6-a9ea-1d77a8d6466c"
   },
   "cell_type": "code",
   "source": [
    "# Cumulative explained variance\n",
    "cumulative_variance = np.cumsum(pca.explained_variance_ratio_)\n",
    "plt.figure(figsize=(8, 5))\n",
    "plt.plot(range(1, len(cumulative_variance) + 1), cumulative_variance, marker='o', linestyle='--', color='green')\n",
    "plt.title('Cumulative Explained Variance by PCA Components')\n",
    "plt.xlabel('Number of Components')\n",
    "plt.ylabel('Cumulative Explained Variance')\n",
    "plt.grid(True)\n",
    "plt.show()\n"
   ],
   "id": "f381fe5a69396071",
   "outputs": [],
   "execution_count": null
  },
  {
   "metadata": {
    "colab": {
     "base_uri": "https://localhost:8080/"
    },
    "id": "75006e3e96f9db09",
    "executionInfo": {
     "status": "ok",
     "timestamp": 1745534829382,
     "user_tz": -120,
     "elapsed": 8,
     "user": {
      "displayName": "Abida Sultana Sweety",
      "userId": "17696066625316086292"
     }
    },
    "outputId": "8e15ba96-cb18-44fd-bf25-4d3ba7ae3ad7"
   },
   "cell_type": "code",
   "source": [
    "# only first 8 components are needed\n",
    "pca_result = pca_result[:, :8]\n",
    "pca_result"
   ],
   "id": "75006e3e96f9db09",
   "outputs": [],
   "execution_count": null
  },
  {
   "metadata": {
    "id": "517f60ff93543238"
   },
   "cell_type": "markdown",
   "source": [
    "# KMeans"
   ],
   "id": "517f60ff93543238"
  },
  {
   "metadata": {
    "id": "62119220494c53fb",
    "executionInfo": {
     "status": "ok",
     "timestamp": 1745534832364,
     "user_tz": -120,
     "elapsed": 1,
     "user": {
      "displayName": "Abida Sultana Sweety",
      "userId": "17696066625316086292"
     }
    }
   },
   "cell_type": "code",
   "source": [
    "X = pca_result # df_scaled can also be used"
   ],
   "id": "62119220494c53fb",
   "outputs": [],
   "execution_count": null
  },
  {
   "cell_type": "code",
   "source": [
    "X_df_scaled = df_scaled"
   ],
   "metadata": {
    "id": "BVu8-F7g6Jmk",
    "executionInfo": {
     "status": "ok",
     "timestamp": 1745534550866,
     "user_tz": -120,
     "elapsed": 4,
     "user": {
      "displayName": "Abida Sultana Sweety",
      "userId": "17696066625316086292"
     }
    }
   },
   "id": "BVu8-F7g6Jmk",
   "outputs": [],
   "execution_count": null
  },
  {
   "cell_type": "code",
   "source": [
    "# Calculate Within-Cluster-Sum-of-Squares (WCSS) for different k values\n",
    "wcss = []\n",
    "for k in range(1, 8):\n",
    "    kmeans = KMeans(n_clusters=k)\n",
    "    kmeans.fit(X)\n",
    "    wcss.append(kmeans.inertia_)\n",
    "\n",
    "# Plot the elbow curve\n",
    "plt.plot(range(1, 8), wcss, marker='o')\n",
    "plt.xlabel('Number of clusters')\n",
    "plt.ylabel('WCSS')\n",
    "plt.title('Elbow Method')\n",
    "plt.show()"
   ],
   "metadata": {
    "colab": {
     "base_uri": "https://localhost:8080/",
     "height": 472
    },
    "id": "BcHmfacTiZYt",
    "executionInfo": {
     "status": "ok",
     "timestamp": 1745534851567,
     "user_tz": -120,
     "elapsed": 208,
     "user": {
      "displayName": "Abida Sultana Sweety",
      "userId": "17696066625316086292"
     }
    },
    "outputId": "2bd0076e-4220-4e4c-b23f-4230e48feb7e"
   },
   "id": "BcHmfacTiZYt",
   "outputs": [],
   "execution_count": null
  },
  {
   "metadata": {
    "colab": {
     "base_uri": "https://localhost:8080/",
     "height": 80
    },
    "id": "83e170b8df7f2476",
    "executionInfo": {
     "status": "ok",
     "timestamp": 1745534883281,
     "user_tz": -120,
     "elapsed": 120,
     "user": {
      "displayName": "Abida Sultana Sweety",
      "userId": "17696066625316086292"
     }
    },
    "outputId": "2649c5a7-3836-4995-ef07-d67e5fc28f40"
   },
   "cell_type": "code",
   "source": [
    "kmeans = KMeans(n_clusters=4, random_state=42, n_init=10) #7\n",
    "kmeans.fit(X)"
   ],
   "id": "83e170b8df7f2476",
   "outputs": [],
   "execution_count": null
  },
  {
   "metadata": {
    "colab": {
     "base_uri": "https://localhost:8080/"
    },
    "id": "d2bb200f4fbdd054",
    "executionInfo": {
     "status": "ok",
     "timestamp": 1745534886138,
     "user_tz": -120,
     "elapsed": 17,
     "user": {
      "displayName": "Abida Sultana Sweety",
      "userId": "17696066625316086292"
     }
    },
    "outputId": "298b2e7e-2b7d-49dd-c520-3d3921524fd8"
   },
   "cell_type": "code",
   "source": [
    "kmeans.labels_"
   ],
   "id": "d2bb200f4fbdd054",
   "outputs": [],
   "execution_count": null
  },
  {
   "cell_type": "code",
   "source": [
    "from sklearn.metrics import silhouette_score\n",
    "silhouette = silhouette_score(X, kmeans.labels_)\n",
    "\n",
    "print(f\"The average silhouette score is: {silhouette}\")"
   ],
   "metadata": {
    "colab": {
     "base_uri": "https://localhost:8080/"
    },
    "id": "XkudJ2TL3Vtm",
    "executionInfo": {
     "status": "ok",
     "timestamp": 1745534887916,
     "user_tz": -120,
     "elapsed": 369,
     "user": {
      "displayName": "Abida Sultana Sweety",
      "userId": "17696066625316086292"
     }
    },
    "outputId": "b80f2139-bd7a-4d5e-b15e-dfc7f34900d5"
   },
   "id": "XkudJ2TL3Vtm",
   "outputs": [],
   "execution_count": null
  },
  {
   "metadata": {
    "colab": {
     "base_uri": "https://localhost:8080/",
     "height": 444
    },
    "id": "a10653717329da16",
    "executionInfo": {
     "status": "ok",
     "timestamp": 1745534891175,
     "user_tz": -120,
     "elapsed": 40,
     "user": {
      "displayName": "Abida Sultana Sweety",
      "userId": "17696066625316086292"
     }
    },
    "outputId": "a9f1f170-f142-4aa8-c824-83e52af9789c"
   },
   "cell_type": "code",
   "source": [
    "df['cluster'] = kmeans.labels_\n",
    "df"
   ],
   "id": "a10653717329da16",
   "outputs": [],
   "execution_count": null
  },
  {
   "metadata": {
    "colab": {
     "base_uri": "https://localhost:8080/"
    },
    "id": "b2772c6b1c2124d7",
    "executionInfo": {
     "status": "ok",
     "timestamp": 1745518960035,
     "user_tz": -120,
     "elapsed": 14,
     "user": {
      "displayName": "Abida Sultana Sweety",
      "userId": "17696066625316086292"
     }
    },
    "outputId": "2b17e388-56b7-42eb-a182-504e6b12fb6a"
   },
   "cell_type": "code",
   "source": [
    "df.info()"
   ],
   "id": "b2772c6b1c2124d7",
   "outputs": [],
   "execution_count": null
  },
  {
   "metadata": {
    "colab": {
     "base_uri": "https://localhost:8080/",
     "height": 241
    },
    "id": "8626cd0c3fac221c",
    "executionInfo": {
     "status": "ok",
     "timestamp": 1745518962619,
     "user_tz": -120,
     "elapsed": 12,
     "user": {
      "displayName": "Abida Sultana Sweety",
      "userId": "17696066625316086292"
     }
    },
    "outputId": "c8560d74-6956-4744-fff4-85653b6efb1a"
   },
   "cell_type": "code",
   "source": [
    "df['cluster'].value_counts()"
   ],
   "id": "8626cd0c3fac221c",
   "outputs": [],
   "execution_count": null
  },
  {
   "metadata": {
    "colab": {
     "base_uri": "https://localhost:8080/",
     "height": 226
    },
    "id": "ecbe008ea98aec1d",
    "executionInfo": {
     "status": "ok",
     "timestamp": 1745518968948,
     "user_tz": -120,
     "elapsed": 91,
     "user": {
      "displayName": "Abida Sultana Sweety",
      "userId": "17696066625316086292"
     }
    },
    "outputId": "38fe5340-be4c-4308-93c4-b7b4f3c91041"
   },
   "cell_type": "code",
   "source": [
    "df.groupby('cluster').mean()"
   ],
   "id": "ecbe008ea98aec1d",
   "outputs": [],
   "execution_count": null
  },
  {
   "metadata": {
    "colab": {
     "base_uri": "https://localhost:8080/",
     "height": 554
    },
    "id": "56eb7d8e3666a668",
    "executionInfo": {
     "status": "ok",
     "timestamp": 1745518994751,
     "user_tz": -120,
     "elapsed": 11,
     "user": {
      "displayName": "Abida Sultana Sweety",
      "userId": "17696066625316086292"
     }
    },
    "outputId": "9ac10a0d-6a40-46bd-d095-e982c04134a4"
   },
   "cell_type": "code",
   "source": [
    "df.mean()"
   ],
   "id": "56eb7d8e3666a668",
   "outputs": [],
   "execution_count": null
  },
  {
   "cell_type": "code",
   "source": [
    "df_cancelled['canceled_trips'].value_counts()"
   ],
   "metadata": {
    "colab": {
     "base_uri": "https://localhost:8080/",
     "height": 178
    },
    "id": "sBsXTc1_LubA",
    "executionInfo": {
     "status": "ok",
     "timestamp": 1745519010664,
     "user_tz": -120,
     "elapsed": 43,
     "user": {
      "displayName": "Abida Sultana Sweety",
      "userId": "17696066625316086292"
     }
    },
    "outputId": "e32bca31-f468-4cff-8c7a-fcf25761b1ab"
   },
   "id": "sBsXTc1_LubA",
   "outputs": [],
   "execution_count": null
  },
  {
   "cell_type": "code",
   "source": [
    "# Get the list of columns (dimensions) to visualize, excluding specified columns\n",
    "columns_to_visualize = [col for col in df.columns\n",
    "                        if col not in ['cluster', 'gender', 'married', 'has_children', 'age','tenure_months','flight_discount_amount','hotel_discount_amount']]\n",
    "\n",
    "# Calculate number of rows and columns for subplots\n",
    "num_cols = len(columns_to_visualize)\n",
    "num_rows = (num_cols + 2) // 3  # Calculate number of rows for grid, ensuring at least 4\n",
    "\n",
    "# Create subplots\n",
    "fig, axes = plt.subplots(num_rows, 3, figsize=(15, num_rows * 5))  # Adjust figsize as needed\n",
    "\n",
    "# Iterate through each dimension (column) and plot on subplots\n",
    "for i, col in enumerate(columns_to_visualize):\n",
    "    row = i // 3  # Calculate subplot row index\n",
    "    col_num = i % 3  # Calculate subplot column index\n",
    "\n",
    "    # Create the visualization on the current subplot\n",
    "    if df[col].dtype in ['int64', 'float64']:\n",
    "        sns.boxplot(data=df, x='cluster', y=col, showfliers=False, ax=axes[row, col_num])\n",
    "    else:\n",
    "        sns.countplot(data=df, x=col, hue='cluster', ax=axes[row, col_num])\n",
    "\n",
    "    axes[row, col_num].set_title(f\"Distribution of '{col}' across Clusters\")\n",
    "    axes[row, col_num].set_xlabel(\"Cluster\")\n",
    "    axes[row, col_num].set_ylabel(col)\n",
    "\n",
    "# Hide any unused subplots\n",
    "for i in range(len(columns_to_visualize), num_rows * 3):\n",
    "    row = i // 3\n",
    "    col_num = i % 3\n",
    "    fig.delaxes(axes[row, col_num])  # Remove unused subplot\n",
    "\n",
    "# Adjust layout to prevent overlapping\n",
    "plt.tight_layout()\n",
    "plt.show()\n",
    "\n"
   ],
   "metadata": {
    "colab": {
     "base_uri": "https://localhost:8080/",
     "height": 1000
    },
    "id": "T16-FBTHmwXX",
    "executionInfo": {
     "status": "ok",
     "timestamp": 1745519265963,
     "user_tz": -120,
     "elapsed": 1787,
     "user": {
      "displayName": "Abida Sultana Sweety",
      "userId": "17696066625316086292"
     }
    },
    "outputId": "dea0b56b-c2b1-4533-81aa-c9eb2d4d5f3e"
   },
   "id": "T16-FBTHmwXX",
   "outputs": [],
   "execution_count": null
  },
  {
   "cell_type": "markdown",
   "source": [
    "## 🧠 Cluster-Based Customer Segmentation Analysis & Suggested Perks\n",
    "\n",
    "Based on qualitative cluster profiling using behavioral, demographic, and engagement features, we recommend the following perks tailored to each segment:\n",
    "\n",
    "---\n",
    "\n",
    "### 🔹 Cluster 0: Family-Oriented Frequent Flyers\n",
    "- **Hotel Count**: High / Very High  \n",
    "- **Flight Count**: High  \n",
    "- **Checked Bags / Seats Avg**: High  \n",
    "- **Family**: Many  \n",
    "- **Married**: Most  \n",
    "- **Session Time**: High / Very High  \n",
    "\n",
    "🎁 **Suggested Perk**: *Free Checked Bag + Kids Stay Free*  \n",
    "> These customers travel frequently with family. Practical perks that reduce family travel cost will boost loyalty and satisfaction.\n",
    "\n",
    "---\n",
    "\n",
    "### 🔹 Cluster 1: Low-Engagement Budget Users\n",
    "- **Hotel & Flight Price**: Very Low  \n",
    "- **Trip Count**: Very Low / Low  \n",
    "- **Family**: Few  \n",
    "- **Session Time**: Very Low  \n",
    "- **Nights Avg**: Low / Very Low  \n",
    "\n",
    "🎁 **Suggested Perk**: *Exclusive Discounts on First Booking*  \n",
    "> Price-conscious and not very active. Activate this group with limited-time or first-time user discounts.\n",
    "\n",
    "---\n",
    "\n",
    "### 🔹 Cluster 2: High-End Hybrid Travelers\n",
    "- **Hotel & Flight Price**: Very High  \n",
    "- **Seats / Trip Count**: High  \n",
    "- **Family**: Some  \n",
    "- **Session Time**: Medium / High  \n",
    "\n",
    "🎁 **Suggested Perk**: *1 Night Free Hotel with Flight*  \n",
    "> These are high-spending, consistent travelers. A premium bundled offer encourages retention and upsell.\n",
    "\n",
    "---\n",
    "\n",
    "### 🔹 Cluster 3: Business or Power Travelers\n",
    "- **Checked Bags / Seats**: High  \n",
    "- **Family / Married**: Few / Very Few  \n",
    "- **Session Time**: Medium / High  \n",
    "- **Hotel Nights**: Medium  \n",
    "\n",
    "🎁 **Suggested Perk**: *Free Hotel Meal or Express Check-In*  \n",
    "> Likely business travelers or frequent solo flyers. Offer perks that add comfort or convenience.\n",
    "\n",
    "---\n",
    "\n",
    "### ✅ Summary Table\n",
    "\n",
    "| Cluster | Traveler Type               | Suggested Perk                                 |\n",
    "|---------|-----------------------------|------------------------------------------------|\n",
    "| 0       | Family Frequent Flyers      | Free Checked Bag + Kids Stay Free              |\n",
    "| 1       | Budget Inactive Users       | Exclusive Discounts on First Booking           |\n",
    "| 2       | High-Spend Hybrid Travelers | 1 Night Free Hotel with Flight                 |\n",
    "| 3       | Business / Power Travelers  | Free Hotel Meal or Express Check-In            |\n"
   ],
   "metadata": {
    "id": "s2Iwjrc_95eg"
   },
   "id": "s2Iwjrc_95eg"
  },
  {
   "metadata": {
    "id": "7d140d1ead6ab7aa"
   },
   "cell_type": "markdown",
   "source": [
    "# Analyze the clusters\n"
   ],
   "id": "7d140d1ead6ab7aa"
  },
  {
   "cell_type": "code",
   "source": [
    "import seaborn as sns\n",
    "import matplotlib.pyplot as plt\n",
    "\n",
    "num_cols = len(df.columns)\n",
    "num_rows = (num_cols + 2) // 3  # Calculate number of rows for grid\n",
    "\n",
    "fig, axes = plt.subplots(num_rows, 3, figsize=(15, num_rows * 5))  # Adjust figsize as needed\n",
    "\n",
    "for i, col in enumerate(df.columns):\n",
    "    row = i // 3\n",
    "    col_num = i % 3\n",
    "    sns.boxplot(data=df, y=col, hue='cluster', ax=axes[row, col_num])\n",
    "    axes[row, col_num].set_title(col)  # Set title for each\n",
    "\n",
    "plt.tight_layout()  # Adjust layout to prevent overlapping\n",
    "plt.show()\n",
    "\n"
   ],
   "metadata": {
    "colab": {
     "base_uri": "https://localhost:8080/",
     "height": 1000
    },
    "id": "gie9cQb5X427",
    "executionInfo": {
     "status": "ok",
     "timestamp": 1745444455664,
     "user_tz": -120,
     "elapsed": 4047,
     "user": {
      "displayName": "Abida Sultana Sweety",
      "userId": "17696066625316086292"
     }
    },
    "outputId": "b29c0fa5-9069-4d21-f250-1aa49225d627"
   },
   "id": "gie9cQb5X427",
   "outputs": [],
   "execution_count": null
  },
  {
   "metadata": {
    "colab": {
     "base_uri": "https://localhost:8080/",
     "height": 1000
    },
    "id": "7b09e6adf9e5dd03",
    "executionInfo": {
     "status": "ok",
     "timestamp": 1745356706987,
     "user_tz": -120,
     "elapsed": 3663,
     "user": {
      "displayName": "Abida Sultana Sweety",
      "userId": "17696066625316086292"
     }
    },
    "outputId": "1fa957f1-f29d-44b4-c47a-29712b364b1b"
   },
   "cell_type": "code",
   "source": [
    "for col in df.columns:\n",
    "    sns.boxplot(data=df,y=col, hue='cluster')\n",
    "    plt.show()\n",
    "    print('\\n')"
   ],
   "id": "7b09e6adf9e5dd03",
   "outputs": [],
   "execution_count": null
  },
  {
   "metadata": {
    "id": "fcafdfaa4623a8d6",
    "outputId": "4cb1bdcc-7ca9-4b88-e34d-69f5bd54940f",
    "colab": {
     "base_uri": "https://localhost:8080/",
     "height": 313
    },
    "executionInfo": {
     "status": "ok",
     "timestamp": 1745519332810,
     "user_tz": -120,
     "elapsed": 62,
     "user": {
      "displayName": "Abida Sultana Sweety",
      "userId": "17696066625316086292"
     }
    }
   },
   "cell_type": "code",
   "source": [
    "# Rebuild cluster summary\n",
    "qualitative_cols = [\n",
    "    \"hotel_price_avg\", \"flight_price_avg\", \"hotel_count\", \"flight_count\",\n",
    "    \"has_children\", \"session_duration_avg_sec\", \"married\", \"age\", \"amount_of_trips\", \"seats_avg\",\n",
    "    \"checked_bags_avg\", \"nights_avg\"\n",
    "]\n",
    "\n",
    "cluster_summary = df.groupby(\"cluster\")[qualitative_cols].mean()\n",
    "\n",
    "def label_quantiles(series, labels):\n",
    "    \"\"\"\n",
    "    Label values based on quantile thresholds\n",
    "    \"\"\"\n",
    "    quantiles = series.quantile([0.2, 0.4, 0.6, 0.8]).values\n",
    "    return series.apply(\n",
    "        lambda x: labels[0] if x <= quantiles[0] else\n",
    "                  labels[1] if x <= quantiles[1] else\n",
    "                  labels[2] if x <= quantiles[2] else\n",
    "                  labels[3] if x <= quantiles[3] else\n",
    "                  labels[4]\n",
    "    )\n",
    "\n",
    "# Label map depending on type of column\n",
    "label_map = {\n",
    "    \"default\": [\"Very Low\", \"Low\", \"Medium\", \"High\", \"Very High\"],\n",
    "    \"binary_like\": [\"Very Few\", \"Few\", \"Some\", \"Many\", \"Most\"]\n",
    "}\n",
    "\n",
    "# Custom labeling logic\n",
    "qualitative_summary = pd.DataFrame(index=cluster_summary.index)\n",
    "binary_like_columns = [\"has_children\", \"married\"]\n",
    "for col in cluster_summary.columns:\n",
    "    if col in binary_like_columns:  # binary-like features\n",
    "        qualitative_summary[col] = label_quantiles(cluster_summary[col], label_map[\"binary_like\"])\n",
    "    else:\n",
    "        qualitative_summary[col] = label_quantiles(cluster_summary[col], label_map[\"default\"])\n",
    "\n",
    "# Optional renaming for presentation\n",
    "qualitative_summary.rename(columns={\n",
    "    \"has_children\": \"Family\",\n",
    "    \"canceled_trips\": \"Cancellations\",\n",
    "    \"session_duration_avg_sec\": \"Session Time\",\n",
    "    \"hotel_price_avg\": \"Hotel Price\",\n",
    "    \"flight_price_avg\": \"Flight Price\",\n",
    "    \"hotel_count\": \"Hotel Count\",\n",
    "    \"flight_count\": \"Flight Count\"\n",
    "}, inplace=True)\n",
    "\n",
    "# Display final qualitative cluster summary\n",
    "display(qualitative_summary)"
   ],
   "id": "fcafdfaa4623a8d6",
   "outputs": [],
   "execution_count": null
  },
  {
   "metadata": {
    "id": "5284c1c761ae113c"
   },
   "cell_type": "markdown",
   "source": [
    "# PCA - visualization\n"
   ],
   "id": "5284c1c761ae113c"
  },
  {
   "metadata": {
    "id": "eeae589781526f2d",
    "outputId": "41b6e388-7250-4699-bc55-7e5707909444"
   },
   "cell_type": "code",
   "source": [
    "# Plotly 3d\n",
    "fig = px.scatter_3d(pca_result[:,:3], x=0, y=1, z=2, color=kmeans.labels_)\n",
    "fig.update_traces(marker=dict(size=0.5))\n",
    "fig.show()"
   ],
   "id": "eeae589781526f2d",
   "outputs": [],
   "execution_count": null
  },
  {
   "metadata": {
    "id": "112c17f9fa681efa"
   },
   "cell_type": "code",
   "source": [
    "fig.write_html(\"plots/plot.html\")"
   ],
   "id": "112c17f9fa681efa",
   "outputs": [],
   "execution_count": null
  }
 ],
 "metadata": {
  "kernelspec": {
   "display_name": "Python 3",
   "language": "python",
   "name": "python3"
  },
  "language_info": {
   "codemirror_mode": {
    "name": "ipython",
    "version": 2
   },
   "file_extension": ".py",
   "mimetype": "text/x-python",
   "name": "python",
   "nbconvert_exporter": "python",
   "pygments_lexer": "ipython2",
   "version": "2.7.6"
  },
  "colab": {
   "provenance": []
  }
 },
 "nbformat": 4,
 "nbformat_minor": 5
}
