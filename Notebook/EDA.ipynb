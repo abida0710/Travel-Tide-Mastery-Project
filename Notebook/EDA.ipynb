{
 "cells": [
  {
   "cell_type": "markdown",
   "id": "c3fe2d788b5e5434",
   "metadata": {},
   "source": [
    "# Exploratory Data Analysis\n",
    "tables: users, flights, hotels and sessions after filtering"
   ]
  },
  {
   "cell_type": "code",
   "id": "initial_id",
   "metadata": {
    "collapsed": true,
    "ExecuteTime": {
     "end_time": "2025-04-21T16:52:22.462160Z",
     "start_time": "2025-04-21T16:52:22.450072Z"
    }
   },
   "source": [
    "import pandas as pd\n",
    "import matplotlib.pyplot as plt\n",
    "import seaborn as sns"
   ],
   "outputs": [],
   "execution_count": 28
  },
  {
   "cell_type": "markdown",
   "id": "293adbda0781146a",
   "metadata": {},
   "source": [
    "# Users"
   ]
  },
  {
   "cell_type": "code",
   "id": "4da2042646232165",
   "metadata": {
    "ExecuteTime": {
     "end_time": "2025-04-21T16:50:47.963109Z",
     "start_time": "2025-04-21T16:50:47.947778Z"
    }
   },
   "source": "df = pd.read_csv('../Data/users.csv')",
   "outputs": [],
   "execution_count": 21
  },
  {
   "cell_type": "code",
   "id": "40e98f5bfd5bb896",
   "metadata": {
    "ExecuteTime": {
     "end_time": "2025-04-21T16:50:49.940387Z",
     "start_time": "2025-04-21T16:50:49.930539Z"
    }
   },
   "source": [
    "df.head()"
   ],
   "outputs": [
    {
     "data": {
      "text/plain": [
       "   user_id   birthdate gender  married  has_children home_country  \\\n",
       "0   531931  1984-05-26      F    False         False          usa   \n",
       "1   611065  1981-08-20      F    False         False          usa   \n",
       "2   586762  1987-09-26      F    False         False       canada   \n",
       "3   229330  1976-11-08      F     True         False          usa   \n",
       "4   536035  1995-11-09      M    False         False          usa   \n",
       "\n",
       "          home_city home_airport  home_airport_lat  home_airport_lon  \\\n",
       "0          san jose          SJC            37.362          -121.929   \n",
       "1       los angeles          LAX            33.942          -118.408   \n",
       "2          montreal          YUL            45.468           -73.741   \n",
       "3  colorado springs          COS            38.806          -104.700   \n",
       "4          new york          LGA            40.777           -73.872   \n",
       "\n",
       "  sign_up_date  \n",
       "0   2023-01-15  \n",
       "1   2023-02-22  \n",
       "2   2023-02-11  \n",
       "3   2022-06-27  \n",
       "4   2023-01-17  "
      ],
      "text/html": [
       "<div>\n",
       "<style scoped>\n",
       "    .dataframe tbody tr th:only-of-type {\n",
       "        vertical-align: middle;\n",
       "    }\n",
       "\n",
       "    .dataframe tbody tr th {\n",
       "        vertical-align: top;\n",
       "    }\n",
       "\n",
       "    .dataframe thead th {\n",
       "        text-align: right;\n",
       "    }\n",
       "</style>\n",
       "<table border=\"1\" class=\"dataframe\">\n",
       "  <thead>\n",
       "    <tr style=\"text-align: right;\">\n",
       "      <th></th>\n",
       "      <th>user_id</th>\n",
       "      <th>birthdate</th>\n",
       "      <th>gender</th>\n",
       "      <th>married</th>\n",
       "      <th>has_children</th>\n",
       "      <th>home_country</th>\n",
       "      <th>home_city</th>\n",
       "      <th>home_airport</th>\n",
       "      <th>home_airport_lat</th>\n",
       "      <th>home_airport_lon</th>\n",
       "      <th>sign_up_date</th>\n",
       "    </tr>\n",
       "  </thead>\n",
       "  <tbody>\n",
       "    <tr>\n",
       "      <th>0</th>\n",
       "      <td>531931</td>\n",
       "      <td>1984-05-26</td>\n",
       "      <td>F</td>\n",
       "      <td>False</td>\n",
       "      <td>False</td>\n",
       "      <td>usa</td>\n",
       "      <td>san jose</td>\n",
       "      <td>SJC</td>\n",
       "      <td>37.362</td>\n",
       "      <td>-121.929</td>\n",
       "      <td>2023-01-15</td>\n",
       "    </tr>\n",
       "    <tr>\n",
       "      <th>1</th>\n",
       "      <td>611065</td>\n",
       "      <td>1981-08-20</td>\n",
       "      <td>F</td>\n",
       "      <td>False</td>\n",
       "      <td>False</td>\n",
       "      <td>usa</td>\n",
       "      <td>los angeles</td>\n",
       "      <td>LAX</td>\n",
       "      <td>33.942</td>\n",
       "      <td>-118.408</td>\n",
       "      <td>2023-02-22</td>\n",
       "    </tr>\n",
       "    <tr>\n",
       "      <th>2</th>\n",
       "      <td>586762</td>\n",
       "      <td>1987-09-26</td>\n",
       "      <td>F</td>\n",
       "      <td>False</td>\n",
       "      <td>False</td>\n",
       "      <td>canada</td>\n",
       "      <td>montreal</td>\n",
       "      <td>YUL</td>\n",
       "      <td>45.468</td>\n",
       "      <td>-73.741</td>\n",
       "      <td>2023-02-11</td>\n",
       "    </tr>\n",
       "    <tr>\n",
       "      <th>3</th>\n",
       "      <td>229330</td>\n",
       "      <td>1976-11-08</td>\n",
       "      <td>F</td>\n",
       "      <td>True</td>\n",
       "      <td>False</td>\n",
       "      <td>usa</td>\n",
       "      <td>colorado springs</td>\n",
       "      <td>COS</td>\n",
       "      <td>38.806</td>\n",
       "      <td>-104.700</td>\n",
       "      <td>2022-06-27</td>\n",
       "    </tr>\n",
       "    <tr>\n",
       "      <th>4</th>\n",
       "      <td>536035</td>\n",
       "      <td>1995-11-09</td>\n",
       "      <td>M</td>\n",
       "      <td>False</td>\n",
       "      <td>False</td>\n",
       "      <td>usa</td>\n",
       "      <td>new york</td>\n",
       "      <td>LGA</td>\n",
       "      <td>40.777</td>\n",
       "      <td>-73.872</td>\n",
       "      <td>2023-01-17</td>\n",
       "    </tr>\n",
       "  </tbody>\n",
       "</table>\n",
       "</div>"
      ]
     },
     "execution_count": 22,
     "metadata": {},
     "output_type": "execute_result"
    }
   ],
   "execution_count": 22
  },
  {
   "cell_type": "code",
   "id": "7ee4fddf55e311c9",
   "metadata": {
    "ExecuteTime": {
     "end_time": "2025-04-21T16:50:52.769559Z",
     "start_time": "2025-04-21T16:50:52.761820Z"
    }
   },
   "source": [
    "df.info()"
   ],
   "outputs": [
    {
     "name": "stdout",
     "output_type": "stream",
     "text": [
      "<class 'pandas.core.frame.DataFrame'>\n",
      "RangeIndex: 5782 entries, 0 to 5781\n",
      "Data columns (total 11 columns):\n",
      " #   Column            Non-Null Count  Dtype  \n",
      "---  ------            --------------  -----  \n",
      " 0   user_id           5782 non-null   int64  \n",
      " 1   birthdate         5782 non-null   object \n",
      " 2   gender            5782 non-null   object \n",
      " 3   married           5782 non-null   bool   \n",
      " 4   has_children      5782 non-null   bool   \n",
      " 5   home_country      5782 non-null   object \n",
      " 6   home_city         5782 non-null   object \n",
      " 7   home_airport      5782 non-null   object \n",
      " 8   home_airport_lat  5782 non-null   float64\n",
      " 9   home_airport_lon  5782 non-null   float64\n",
      " 10  sign_up_date      5782 non-null   object \n",
      "dtypes: bool(2), float64(2), int64(1), object(6)\n",
      "memory usage: 418.0+ KB\n"
     ]
    }
   ],
   "execution_count": 23
  },
  {
   "cell_type": "code",
   "id": "d3e3962be2d6f1c6",
   "metadata": {
    "ExecuteTime": {
     "end_time": "2025-04-21T16:50:55.057486Z",
     "start_time": "2025-04-21T16:50:55.028356Z"
    }
   },
   "source": "df.describe()",
   "outputs": [
    {
     "data": {
      "text/plain": [
       "             user_id  home_airport_lat  home_airport_lon\n",
       "count    5782.000000       5782.000000       5782.000000\n",
       "mean   547670.236077         38.449324        -94.158017\n",
       "std     64035.394540          6.199542         18.070420\n",
       "min     94883.000000         21.316000       -157.927000\n",
       "25%    519413.750000         33.818000       -112.289250\n",
       "50%    542279.500000         39.175000        -90.035000\n",
       "75%    576215.500000         42.276000        -79.370000\n",
       "max    844489.000000         61.251000        -63.499000"
      ],
      "text/html": [
       "<div>\n",
       "<style scoped>\n",
       "    .dataframe tbody tr th:only-of-type {\n",
       "        vertical-align: middle;\n",
       "    }\n",
       "\n",
       "    .dataframe tbody tr th {\n",
       "        vertical-align: top;\n",
       "    }\n",
       "\n",
       "    .dataframe thead th {\n",
       "        text-align: right;\n",
       "    }\n",
       "</style>\n",
       "<table border=\"1\" class=\"dataframe\">\n",
       "  <thead>\n",
       "    <tr style=\"text-align: right;\">\n",
       "      <th></th>\n",
       "      <th>user_id</th>\n",
       "      <th>home_airport_lat</th>\n",
       "      <th>home_airport_lon</th>\n",
       "    </tr>\n",
       "  </thead>\n",
       "  <tbody>\n",
       "    <tr>\n",
       "      <th>count</th>\n",
       "      <td>5782.000000</td>\n",
       "      <td>5782.000000</td>\n",
       "      <td>5782.000000</td>\n",
       "    </tr>\n",
       "    <tr>\n",
       "      <th>mean</th>\n",
       "      <td>547670.236077</td>\n",
       "      <td>38.449324</td>\n",
       "      <td>-94.158017</td>\n",
       "    </tr>\n",
       "    <tr>\n",
       "      <th>std</th>\n",
       "      <td>64035.394540</td>\n",
       "      <td>6.199542</td>\n",
       "      <td>18.070420</td>\n",
       "    </tr>\n",
       "    <tr>\n",
       "      <th>min</th>\n",
       "      <td>94883.000000</td>\n",
       "      <td>21.316000</td>\n",
       "      <td>-157.927000</td>\n",
       "    </tr>\n",
       "    <tr>\n",
       "      <th>25%</th>\n",
       "      <td>519413.750000</td>\n",
       "      <td>33.818000</td>\n",
       "      <td>-112.289250</td>\n",
       "    </tr>\n",
       "    <tr>\n",
       "      <th>50%</th>\n",
       "      <td>542279.500000</td>\n",
       "      <td>39.175000</td>\n",
       "      <td>-90.035000</td>\n",
       "    </tr>\n",
       "    <tr>\n",
       "      <th>75%</th>\n",
       "      <td>576215.500000</td>\n",
       "      <td>42.276000</td>\n",
       "      <td>-79.370000</td>\n",
       "    </tr>\n",
       "    <tr>\n",
       "      <th>max</th>\n",
       "      <td>844489.000000</td>\n",
       "      <td>61.251000</td>\n",
       "      <td>-63.499000</td>\n",
       "    </tr>\n",
       "  </tbody>\n",
       "</table>\n",
       "</div>"
      ]
     },
     "execution_count": 24,
     "metadata": {},
     "output_type": "execute_result"
    }
   ],
   "execution_count": 24
  },
  {
   "cell_type": "code",
   "id": "fb290b607a6e58e6",
   "metadata": {
    "ExecuteTime": {
     "end_time": "2025-04-21T16:50:58.783353Z",
     "start_time": "2025-04-21T16:50:58.767545Z"
    }
   },
   "source": [
    "df.duplicated().sum()"
   ],
   "outputs": [
    {
     "data": {
      "text/plain": [
       "np.int64(0)"
      ]
     },
     "execution_count": 25,
     "metadata": {},
     "output_type": "execute_result"
    }
   ],
   "execution_count": 25
  },
  {
   "cell_type": "code",
   "id": "96c94fb81a8509e",
   "metadata": {
    "ExecuteTime": {
     "end_time": "2025-04-21T16:53:22.629049Z",
     "start_time": "2025-04-21T16:53:22.605461Z"
    }
   },
   "source": [
    "df['birthdate'] = pd.to_datetime(df['birthdate'])\n",
    "df"
   ],
   "outputs": [
    {
     "data": {
      "text/plain": [
       "      user_id  birthdate gender  married  has_children home_country  \\\n",
       "0      531931 1984-05-26      F    False         False          usa   \n",
       "1      611065 1981-08-20      F    False         False          usa   \n",
       "2      586762 1987-09-26      F    False         False       canada   \n",
       "3      229330 1976-11-08      F     True         False          usa   \n",
       "4      536035 1995-11-09      M    False         False          usa   \n",
       "...       ...        ...    ...      ...           ...          ...   \n",
       "5777   591155 1982-12-26      M     True         False       canada   \n",
       "5778   521235 1989-06-21      F    False         False          usa   \n",
       "5779   600351 1976-07-15      F     True         False          usa   \n",
       "5780   577044 1969-07-26      F     True          True          usa   \n",
       "5781   597300 1987-09-04      F     True          True          usa   \n",
       "\n",
       "             home_city home_airport  home_airport_lat  home_airport_lon  \\\n",
       "0             san jose          SJC            37.362          -121.929   \n",
       "1          los angeles          LAX            33.942          -118.408   \n",
       "2             montreal          YUL            45.468           -73.741   \n",
       "3     colorado springs          COS            38.806          -104.700   \n",
       "4             new york          LGA            40.777           -73.872   \n",
       "...                ...          ...               ...               ...   \n",
       "5777           windsor          YQG            42.276           -82.956   \n",
       "5778           seattle          SEA            47.449          -122.309   \n",
       "5779          portland          PDX            45.589          -122.597   \n",
       "5780           chicago          UGN            42.422           -87.868   \n",
       "5781          new york          JFK            40.640           -73.779   \n",
       "\n",
       "     sign_up_date  \n",
       "0      2023-01-15  \n",
       "1      2023-02-22  \n",
       "2      2023-02-11  \n",
       "3      2022-06-27  \n",
       "4      2023-01-17  \n",
       "...           ...  \n",
       "5777   2023-02-13  \n",
       "5778   2023-01-10  \n",
       "5779   2023-02-17  \n",
       "5780   2023-02-06  \n",
       "5781   2023-02-16  \n",
       "\n",
       "[5782 rows x 11 columns]"
      ],
      "text/html": [
       "<div>\n",
       "<style scoped>\n",
       "    .dataframe tbody tr th:only-of-type {\n",
       "        vertical-align: middle;\n",
       "    }\n",
       "\n",
       "    .dataframe tbody tr th {\n",
       "        vertical-align: top;\n",
       "    }\n",
       "\n",
       "    .dataframe thead th {\n",
       "        text-align: right;\n",
       "    }\n",
       "</style>\n",
       "<table border=\"1\" class=\"dataframe\">\n",
       "  <thead>\n",
       "    <tr style=\"text-align: right;\">\n",
       "      <th></th>\n",
       "      <th>user_id</th>\n",
       "      <th>birthdate</th>\n",
       "      <th>gender</th>\n",
       "      <th>married</th>\n",
       "      <th>has_children</th>\n",
       "      <th>home_country</th>\n",
       "      <th>home_city</th>\n",
       "      <th>home_airport</th>\n",
       "      <th>home_airport_lat</th>\n",
       "      <th>home_airport_lon</th>\n",
       "      <th>sign_up_date</th>\n",
       "    </tr>\n",
       "  </thead>\n",
       "  <tbody>\n",
       "    <tr>\n",
       "      <th>0</th>\n",
       "      <td>531931</td>\n",
       "      <td>1984-05-26</td>\n",
       "      <td>F</td>\n",
       "      <td>False</td>\n",
       "      <td>False</td>\n",
       "      <td>usa</td>\n",
       "      <td>san jose</td>\n",
       "      <td>SJC</td>\n",
       "      <td>37.362</td>\n",
       "      <td>-121.929</td>\n",
       "      <td>2023-01-15</td>\n",
       "    </tr>\n",
       "    <tr>\n",
       "      <th>1</th>\n",
       "      <td>611065</td>\n",
       "      <td>1981-08-20</td>\n",
       "      <td>F</td>\n",
       "      <td>False</td>\n",
       "      <td>False</td>\n",
       "      <td>usa</td>\n",
       "      <td>los angeles</td>\n",
       "      <td>LAX</td>\n",
       "      <td>33.942</td>\n",
       "      <td>-118.408</td>\n",
       "      <td>2023-02-22</td>\n",
       "    </tr>\n",
       "    <tr>\n",
       "      <th>2</th>\n",
       "      <td>586762</td>\n",
       "      <td>1987-09-26</td>\n",
       "      <td>F</td>\n",
       "      <td>False</td>\n",
       "      <td>False</td>\n",
       "      <td>canada</td>\n",
       "      <td>montreal</td>\n",
       "      <td>YUL</td>\n",
       "      <td>45.468</td>\n",
       "      <td>-73.741</td>\n",
       "      <td>2023-02-11</td>\n",
       "    </tr>\n",
       "    <tr>\n",
       "      <th>3</th>\n",
       "      <td>229330</td>\n",
       "      <td>1976-11-08</td>\n",
       "      <td>F</td>\n",
       "      <td>True</td>\n",
       "      <td>False</td>\n",
       "      <td>usa</td>\n",
       "      <td>colorado springs</td>\n",
       "      <td>COS</td>\n",
       "      <td>38.806</td>\n",
       "      <td>-104.700</td>\n",
       "      <td>2022-06-27</td>\n",
       "    </tr>\n",
       "    <tr>\n",
       "      <th>4</th>\n",
       "      <td>536035</td>\n",
       "      <td>1995-11-09</td>\n",
       "      <td>M</td>\n",
       "      <td>False</td>\n",
       "      <td>False</td>\n",
       "      <td>usa</td>\n",
       "      <td>new york</td>\n",
       "      <td>LGA</td>\n",
       "      <td>40.777</td>\n",
       "      <td>-73.872</td>\n",
       "      <td>2023-01-17</td>\n",
       "    </tr>\n",
       "    <tr>\n",
       "      <th>...</th>\n",
       "      <td>...</td>\n",
       "      <td>...</td>\n",
       "      <td>...</td>\n",
       "      <td>...</td>\n",
       "      <td>...</td>\n",
       "      <td>...</td>\n",
       "      <td>...</td>\n",
       "      <td>...</td>\n",
       "      <td>...</td>\n",
       "      <td>...</td>\n",
       "      <td>...</td>\n",
       "    </tr>\n",
       "    <tr>\n",
       "      <th>5777</th>\n",
       "      <td>591155</td>\n",
       "      <td>1982-12-26</td>\n",
       "      <td>M</td>\n",
       "      <td>True</td>\n",
       "      <td>False</td>\n",
       "      <td>canada</td>\n",
       "      <td>windsor</td>\n",
       "      <td>YQG</td>\n",
       "      <td>42.276</td>\n",
       "      <td>-82.956</td>\n",
       "      <td>2023-02-13</td>\n",
       "    </tr>\n",
       "    <tr>\n",
       "      <th>5778</th>\n",
       "      <td>521235</td>\n",
       "      <td>1989-06-21</td>\n",
       "      <td>F</td>\n",
       "      <td>False</td>\n",
       "      <td>False</td>\n",
       "      <td>usa</td>\n",
       "      <td>seattle</td>\n",
       "      <td>SEA</td>\n",
       "      <td>47.449</td>\n",
       "      <td>-122.309</td>\n",
       "      <td>2023-01-10</td>\n",
       "    </tr>\n",
       "    <tr>\n",
       "      <th>5779</th>\n",
       "      <td>600351</td>\n",
       "      <td>1976-07-15</td>\n",
       "      <td>F</td>\n",
       "      <td>True</td>\n",
       "      <td>False</td>\n",
       "      <td>usa</td>\n",
       "      <td>portland</td>\n",
       "      <td>PDX</td>\n",
       "      <td>45.589</td>\n",
       "      <td>-122.597</td>\n",
       "      <td>2023-02-17</td>\n",
       "    </tr>\n",
       "    <tr>\n",
       "      <th>5780</th>\n",
       "      <td>577044</td>\n",
       "      <td>1969-07-26</td>\n",
       "      <td>F</td>\n",
       "      <td>True</td>\n",
       "      <td>True</td>\n",
       "      <td>usa</td>\n",
       "      <td>chicago</td>\n",
       "      <td>UGN</td>\n",
       "      <td>42.422</td>\n",
       "      <td>-87.868</td>\n",
       "      <td>2023-02-06</td>\n",
       "    </tr>\n",
       "    <tr>\n",
       "      <th>5781</th>\n",
       "      <td>597300</td>\n",
       "      <td>1987-09-04</td>\n",
       "      <td>F</td>\n",
       "      <td>True</td>\n",
       "      <td>True</td>\n",
       "      <td>usa</td>\n",
       "      <td>new york</td>\n",
       "      <td>JFK</td>\n",
       "      <td>40.640</td>\n",
       "      <td>-73.779</td>\n",
       "      <td>2023-02-16</td>\n",
       "    </tr>\n",
       "  </tbody>\n",
       "</table>\n",
       "<p>5782 rows × 11 columns</p>\n",
       "</div>"
      ]
     },
     "execution_count": 30,
     "metadata": {},
     "output_type": "execute_result"
    }
   ],
   "execution_count": 30
  },
  {
   "cell_type": "code",
   "id": "7ad35de5296623bf",
   "metadata": {
    "ExecuteTime": {
     "end_time": "2025-04-21T16:51:20.768374Z",
     "start_time": "2025-04-21T16:51:20.752061Z"
    }
   },
   "source": [
    "# Examples of datetimes functions year, month, day, day_name(), quarter, dayofyear, dayofweek, day_name()\n",
    "\n",
    "df['birthdate'].dt.month"
   ],
   "outputs": [
    {
     "data": {
      "text/plain": [
       "0        5\n",
       "1        8\n",
       "2        9\n",
       "3       11\n",
       "4       11\n",
       "        ..\n",
       "5777    12\n",
       "5778     6\n",
       "5779     7\n",
       "5780     7\n",
       "5781     9\n",
       "Name: birthdate, Length: 5782, dtype: int32"
      ]
     },
     "execution_count": 27,
     "metadata": {},
     "output_type": "execute_result"
    }
   ],
   "execution_count": 27
  },
  {
   "cell_type": "code",
   "id": "5e8d4f941a41aa4f",
   "metadata": {
    "ExecuteTime": {
     "end_time": "2025-04-21T16:52:53.341928Z",
     "start_time": "2025-04-21T16:52:53.333377Z"
    }
   },
   "source": [
    "today = pd.Timestamp.today()"
   ],
   "outputs": [],
   "execution_count": 29
  },
  {
   "cell_type": "code",
   "id": "a4d02b14be1e92ad",
   "metadata": {
    "ExecuteTime": {
     "end_time": "2025-04-21T16:54:15.678632Z",
     "start_time": "2025-04-21T16:54:15.663936Z"
    }
   },
   "source": [
    "df['age'] = (today-df['birthdate']).dt.days//365\n",
    "df['birthday_dayofyear'] = df['birthdate'].dt.dayofyear"
   ],
   "outputs": [],
   "execution_count": 31
  },
  {
   "cell_type": "code",
   "id": "8b33b160f9f9b928",
   "metadata": {
    "ExecuteTime": {
     "end_time": "2025-04-21T16:55:12.338978Z",
     "start_time": "2025-04-21T16:55:12.306643Z"
    }
   },
   "source": [
    "df.head()"
   ],
   "outputs": [
    {
     "data": {
      "text/plain": [
       "   user_id  birthdate gender  married  has_children home_country  \\\n",
       "0   531931 1984-05-26      F    False         False          usa   \n",
       "1   611065 1981-08-20      F    False         False          usa   \n",
       "2   586762 1987-09-26      F    False         False       canada   \n",
       "3   229330 1976-11-08      F     True         False          usa   \n",
       "4   536035 1995-11-09      M    False         False          usa   \n",
       "\n",
       "          home_city home_airport  home_airport_lat  home_airport_lon  \\\n",
       "0          san jose          SJC            37.362          -121.929   \n",
       "1       los angeles          LAX            33.942          -118.408   \n",
       "2          montreal          YUL            45.468           -73.741   \n",
       "3  colorado springs          COS            38.806          -104.700   \n",
       "4          new york          LGA            40.777           -73.872   \n",
       "\n",
       "  sign_up_date  age  birthday_dayofyear  \n",
       "0   2023-01-15   40                 147  \n",
       "1   2023-02-22   43                 232  \n",
       "2   2023-02-11   37                 269  \n",
       "3   2022-06-27   48                 313  \n",
       "4   2023-01-17   29                 313  "
      ],
      "text/html": [
       "<div>\n",
       "<style scoped>\n",
       "    .dataframe tbody tr th:only-of-type {\n",
       "        vertical-align: middle;\n",
       "    }\n",
       "\n",
       "    .dataframe tbody tr th {\n",
       "        vertical-align: top;\n",
       "    }\n",
       "\n",
       "    .dataframe thead th {\n",
       "        text-align: right;\n",
       "    }\n",
       "</style>\n",
       "<table border=\"1\" class=\"dataframe\">\n",
       "  <thead>\n",
       "    <tr style=\"text-align: right;\">\n",
       "      <th></th>\n",
       "      <th>user_id</th>\n",
       "      <th>birthdate</th>\n",
       "      <th>gender</th>\n",
       "      <th>married</th>\n",
       "      <th>has_children</th>\n",
       "      <th>home_country</th>\n",
       "      <th>home_city</th>\n",
       "      <th>home_airport</th>\n",
       "      <th>home_airport_lat</th>\n",
       "      <th>home_airport_lon</th>\n",
       "      <th>sign_up_date</th>\n",
       "      <th>age</th>\n",
       "      <th>birthday_dayofyear</th>\n",
       "    </tr>\n",
       "  </thead>\n",
       "  <tbody>\n",
       "    <tr>\n",
       "      <th>0</th>\n",
       "      <td>531931</td>\n",
       "      <td>1984-05-26</td>\n",
       "      <td>F</td>\n",
       "      <td>False</td>\n",
       "      <td>False</td>\n",
       "      <td>usa</td>\n",
       "      <td>san jose</td>\n",
       "      <td>SJC</td>\n",
       "      <td>37.362</td>\n",
       "      <td>-121.929</td>\n",
       "      <td>2023-01-15</td>\n",
       "      <td>40</td>\n",
       "      <td>147</td>\n",
       "    </tr>\n",
       "    <tr>\n",
       "      <th>1</th>\n",
       "      <td>611065</td>\n",
       "      <td>1981-08-20</td>\n",
       "      <td>F</td>\n",
       "      <td>False</td>\n",
       "      <td>False</td>\n",
       "      <td>usa</td>\n",
       "      <td>los angeles</td>\n",
       "      <td>LAX</td>\n",
       "      <td>33.942</td>\n",
       "      <td>-118.408</td>\n",
       "      <td>2023-02-22</td>\n",
       "      <td>43</td>\n",
       "      <td>232</td>\n",
       "    </tr>\n",
       "    <tr>\n",
       "      <th>2</th>\n",
       "      <td>586762</td>\n",
       "      <td>1987-09-26</td>\n",
       "      <td>F</td>\n",
       "      <td>False</td>\n",
       "      <td>False</td>\n",
       "      <td>canada</td>\n",
       "      <td>montreal</td>\n",
       "      <td>YUL</td>\n",
       "      <td>45.468</td>\n",
       "      <td>-73.741</td>\n",
       "      <td>2023-02-11</td>\n",
       "      <td>37</td>\n",
       "      <td>269</td>\n",
       "    </tr>\n",
       "    <tr>\n",
       "      <th>3</th>\n",
       "      <td>229330</td>\n",
       "      <td>1976-11-08</td>\n",
       "      <td>F</td>\n",
       "      <td>True</td>\n",
       "      <td>False</td>\n",
       "      <td>usa</td>\n",
       "      <td>colorado springs</td>\n",
       "      <td>COS</td>\n",
       "      <td>38.806</td>\n",
       "      <td>-104.700</td>\n",
       "      <td>2022-06-27</td>\n",
       "      <td>48</td>\n",
       "      <td>313</td>\n",
       "    </tr>\n",
       "    <tr>\n",
       "      <th>4</th>\n",
       "      <td>536035</td>\n",
       "      <td>1995-11-09</td>\n",
       "      <td>M</td>\n",
       "      <td>False</td>\n",
       "      <td>False</td>\n",
       "      <td>usa</td>\n",
       "      <td>new york</td>\n",
       "      <td>LGA</td>\n",
       "      <td>40.777</td>\n",
       "      <td>-73.872</td>\n",
       "      <td>2023-01-17</td>\n",
       "      <td>29</td>\n",
       "      <td>313</td>\n",
       "    </tr>\n",
       "  </tbody>\n",
       "</table>\n",
       "</div>"
      ]
     },
     "execution_count": 32,
     "metadata": {},
     "output_type": "execute_result"
    }
   ],
   "execution_count": 32
  },
  {
   "cell_type": "code",
   "id": "661c05c23aa5e02a",
   "metadata": {
    "ExecuteTime": {
     "end_time": "2025-04-21T16:56:19.316329Z",
     "start_time": "2025-04-21T16:56:19.295723Z"
    }
   },
   "source": [
    "df['tenure_months'] = ((today-pd.to_datetime(df['sign_up_date'])).dt.days//30.41).astype('int64')"
   ],
   "outputs": [],
   "execution_count": 33
  },
  {
   "cell_type": "code",
   "id": "440ec4b1315beb68",
   "metadata": {
    "ExecuteTime": {
     "end_time": "2025-04-21T16:56:52.421771Z",
     "start_time": "2025-04-21T16:56:52.393321Z"
    }
   },
   "source": [
    "df.head()"
   ],
   "outputs": [
    {
     "data": {
      "text/plain": [
       "   user_id  birthdate gender  married  has_children home_country  \\\n",
       "0   531931 1984-05-26      F    False         False          usa   \n",
       "1   611065 1981-08-20      F    False         False          usa   \n",
       "2   586762 1987-09-26      F    False         False       canada   \n",
       "3   229330 1976-11-08      F     True         False          usa   \n",
       "4   536035 1995-11-09      M    False         False          usa   \n",
       "\n",
       "          home_city home_airport  home_airport_lat  home_airport_lon  \\\n",
       "0          san jose          SJC            37.362          -121.929   \n",
       "1       los angeles          LAX            33.942          -118.408   \n",
       "2          montreal          YUL            45.468           -73.741   \n",
       "3  colorado springs          COS            38.806          -104.700   \n",
       "4          new york          LGA            40.777           -73.872   \n",
       "\n",
       "  sign_up_date  age  birthday_dayofyear  tenure_months  \n",
       "0   2023-01-15   40                 147             27  \n",
       "1   2023-02-22   43                 232             25  \n",
       "2   2023-02-11   37                 269             26  \n",
       "3   2022-06-27   48                 313             33  \n",
       "4   2023-01-17   29                 313             27  "
      ],
      "text/html": [
       "<div>\n",
       "<style scoped>\n",
       "    .dataframe tbody tr th:only-of-type {\n",
       "        vertical-align: middle;\n",
       "    }\n",
       "\n",
       "    .dataframe tbody tr th {\n",
       "        vertical-align: top;\n",
       "    }\n",
       "\n",
       "    .dataframe thead th {\n",
       "        text-align: right;\n",
       "    }\n",
       "</style>\n",
       "<table border=\"1\" class=\"dataframe\">\n",
       "  <thead>\n",
       "    <tr style=\"text-align: right;\">\n",
       "      <th></th>\n",
       "      <th>user_id</th>\n",
       "      <th>birthdate</th>\n",
       "      <th>gender</th>\n",
       "      <th>married</th>\n",
       "      <th>has_children</th>\n",
       "      <th>home_country</th>\n",
       "      <th>home_city</th>\n",
       "      <th>home_airport</th>\n",
       "      <th>home_airport_lat</th>\n",
       "      <th>home_airport_lon</th>\n",
       "      <th>sign_up_date</th>\n",
       "      <th>age</th>\n",
       "      <th>birthday_dayofyear</th>\n",
       "      <th>tenure_months</th>\n",
       "    </tr>\n",
       "  </thead>\n",
       "  <tbody>\n",
       "    <tr>\n",
       "      <th>0</th>\n",
       "      <td>531931</td>\n",
       "      <td>1984-05-26</td>\n",
       "      <td>F</td>\n",
       "      <td>False</td>\n",
       "      <td>False</td>\n",
       "      <td>usa</td>\n",
       "      <td>san jose</td>\n",
       "      <td>SJC</td>\n",
       "      <td>37.362</td>\n",
       "      <td>-121.929</td>\n",
       "      <td>2023-01-15</td>\n",
       "      <td>40</td>\n",
       "      <td>147</td>\n",
       "      <td>27</td>\n",
       "    </tr>\n",
       "    <tr>\n",
       "      <th>1</th>\n",
       "      <td>611065</td>\n",
       "      <td>1981-08-20</td>\n",
       "      <td>F</td>\n",
       "      <td>False</td>\n",
       "      <td>False</td>\n",
       "      <td>usa</td>\n",
       "      <td>los angeles</td>\n",
       "      <td>LAX</td>\n",
       "      <td>33.942</td>\n",
       "      <td>-118.408</td>\n",
       "      <td>2023-02-22</td>\n",
       "      <td>43</td>\n",
       "      <td>232</td>\n",
       "      <td>25</td>\n",
       "    </tr>\n",
       "    <tr>\n",
       "      <th>2</th>\n",
       "      <td>586762</td>\n",
       "      <td>1987-09-26</td>\n",
       "      <td>F</td>\n",
       "      <td>False</td>\n",
       "      <td>False</td>\n",
       "      <td>canada</td>\n",
       "      <td>montreal</td>\n",
       "      <td>YUL</td>\n",
       "      <td>45.468</td>\n",
       "      <td>-73.741</td>\n",
       "      <td>2023-02-11</td>\n",
       "      <td>37</td>\n",
       "      <td>269</td>\n",
       "      <td>26</td>\n",
       "    </tr>\n",
       "    <tr>\n",
       "      <th>3</th>\n",
       "      <td>229330</td>\n",
       "      <td>1976-11-08</td>\n",
       "      <td>F</td>\n",
       "      <td>True</td>\n",
       "      <td>False</td>\n",
       "      <td>usa</td>\n",
       "      <td>colorado springs</td>\n",
       "      <td>COS</td>\n",
       "      <td>38.806</td>\n",
       "      <td>-104.700</td>\n",
       "      <td>2022-06-27</td>\n",
       "      <td>48</td>\n",
       "      <td>313</td>\n",
       "      <td>33</td>\n",
       "    </tr>\n",
       "    <tr>\n",
       "      <th>4</th>\n",
       "      <td>536035</td>\n",
       "      <td>1995-11-09</td>\n",
       "      <td>M</td>\n",
       "      <td>False</td>\n",
       "      <td>False</td>\n",
       "      <td>usa</td>\n",
       "      <td>new york</td>\n",
       "      <td>LGA</td>\n",
       "      <td>40.777</td>\n",
       "      <td>-73.872</td>\n",
       "      <td>2023-01-17</td>\n",
       "      <td>29</td>\n",
       "      <td>313</td>\n",
       "      <td>27</td>\n",
       "    </tr>\n",
       "  </tbody>\n",
       "</table>\n",
       "</div>"
      ]
     },
     "execution_count": 34,
     "metadata": {},
     "output_type": "execute_result"
    }
   ],
   "execution_count": 34
  },
  {
   "cell_type": "markdown",
   "id": "fc2155a40b37636c",
   "metadata": {},
   "source": [
    "## Plots"
   ]
  },
  {
   "cell_type": "code",
   "id": "e16038e1b4e6db12",
   "metadata": {
    "ExecuteTime": {
     "end_time": "2025-04-21T16:57:38.597793Z",
     "start_time": "2025-04-21T16:57:38.592680Z"
    }
   },
   "source": [
    "cat_col = ['gender', 'home_country', 'home_city', 'home_airport']"
   ],
   "outputs": [],
   "execution_count": 35
  },
  {
   "cell_type": "code",
   "id": "2b799466fdedc3ae",
   "metadata": {
    "ExecuteTime": {
     "end_time": "2025-04-21T16:57:40.972149Z",
     "start_time": "2025-04-21T16:57:40.967080Z"
    }
   },
   "source": [
    "num_col = [col for col in df.columns if col not in cat_col + [ 'birthdate', 'sign_up_date']]"
   ],
   "outputs": [],
   "execution_count": 36
  },
  {
   "cell_type": "markdown",
   "id": "68747469e1a97f44",
   "metadata": {},
   "source": [
    "### Categorical Columns"
   ]
  },
  {
   "cell_type": "code",
   "id": "5a0f4eff87c2a80b",
   "metadata": {
    "ExecuteTime": {
     "end_time": "2025-04-21T16:58:20.649939Z",
     "start_time": "2025-04-21T16:58:19.674348Z"
    }
   },
   "source": [
    "for col in cat_col:\n",
    "    plt.figure(figsize=(8, 5))\n",
    "    sns.countplot(data=df, x=col)\n",
    "    plt.title(f'Distribution of {col}')\n",
    "    plt.xlabel(col)\n",
    "    plt.ylabel('Count')\n",
    "    plt.xticks(rotation=45)\n",
    "    plt.show()"
   ],
   "outputs": [
    {
     "data": {
      "text/plain": [
       "<Figure size 800x500 with 1 Axes>"
      ],
      "image/png": "[encoded data removed]"
     },
     "metadata": {},
     "output_type": "display_data"
    },
    {
     "data": {
      "text/plain": [
       "<Figure size 800x500 with 1 Axes>"
      ],
      "image/png": "[encoded data removed]"
     },
     "metadata": {},
     "output_type": "display_data"
    },
    {
     "data": {
      "text/plain": [
       "<Figure size 800x500 with 1 Axes>"
      ],
      "image/png": "[encoded data removed]"
     },
     "metadata": {},
     "output_type": "display_data"
    },
    {
     "data": {
      "text/plain": [
       "<Figure size 800x500 with 1 Axes>"
      ],
      "image/png": "[encoded data removed]"
     },
     "metadata": {},
     "output_type": "display_data"
    }
   ],
   "execution_count": 37
  },
  {
   "cell_type": "code",
   "id": "bcca0b925ff2c80c",
   "metadata": {
    "ExecuteTime": {
     "end_time": "2025-04-21T16:59:51.941575Z",
     "start_time": "2025-04-21T16:59:51.923150Z"
    }
   },
   "source": [
    "df.gender.value_counts()"
   ],
   "outputs": [
    {
     "data": {
      "text/plain": [
       "gender\n",
       "F    5118\n",
       "M     653\n",
       "O      11\n",
       "Name: count, dtype: int64"
      ]
     },
     "execution_count": 38,
     "metadata": {},
     "output_type": "execute_result"
    }
   ],
   "execution_count": 38
  },
  {
   "cell_type": "markdown",
   "id": "faf219c3305f9772",
   "metadata": {},
   "source": [
    "### Numerical Columns"
   ]
  },
  {
   "cell_type": "code",
   "id": "327bfd852ce2aa88",
   "metadata": {
    "ExecuteTime": {
     "end_time": "2025-04-21T17:00:00.803847Z",
     "start_time": "2025-04-21T17:00:00.232076Z"
    }
   },
   "source": [
    "for col in num_col:\n",
    "    sns.histplot(data=df, x=col)\n",
    "    plt.title(f'Distribution of {col}')\n",
    "    plt.xlabel(col)\n",
    "    plt.ylabel('Count')\n",
    "    plt.show()"
   ],
   "outputs": [
    {
     "data": {
      "text/plain": [
       "<Figure size 640x480 with 1 Axes>"
      ],
      "image/png": "[encoded data removed]"
     },
     "metadata": {},
     "output_type": "display_data"
    },
    {
     "data": {
      "text/plain": [
       "<Figure size 640x480 with 1 Axes>"
      ],
      "image/png": "[encoded data removed]"
     },
     "metadata": {},
     "output_type": "display_data"
    },
    {
     "data": {
      "text/plain": [
       "<Figure size 640x480 with 1 Axes>"
      ],
      "image/png": "[encoded data removed]"
     },
     "metadata": {},
     "output_type": "display_data"
    },
    {
     "data": {
      "text/plain": [
       "<Figure size 640x480 with 1 Axes>"
      ],
      "image/png": "[encoded data removed]"
     },
     "metadata": {},
     "output_type": "display_data"
    },
    {
     "data": {
      "text/plain": [
       "<Figure size 640x480 with 1 Axes>"
      ],
      "image/png": "[encoded data removed]"
     },
     "metadata": {},
     "output_type": "display_data"
    },
    {
     "data": {
      "text/plain": [
       "<Figure size 640x480 with 1 Axes>"
      ],
      "image/png": "[encoded data removed]"
     },
     "metadata": {},
     "output_type": "display_data"
    },
    {
     "data": {
      "text/plain": [
       "<Figure size 640x480 with 1 Axes>"
      ],
      "image/png": "[encoded data removed]"
     },
     "metadata": {},
     "output_type": "display_data"
    },
    {
     "data": {
      "text/plain": [
       "<Figure size 640x480 with 1 Axes>"
      ],
      "image/png": "[encoded data removed]"
     },
     "metadata": {},
     "output_type": "display_data"
    }
   ],
   "execution_count": 39
  },
  {
   "cell_type": "code",
   "id": "7545c5457a8dae9b",
   "metadata": {
    "ExecuteTime": {
     "end_time": "2025-04-21T17:00:46.048853Z",
     "start_time": "2025-04-21T17:00:46.025637Z"
    }
   },
   "source": [
    "df['tenure_months'].value_counts()"
   ],
   "outputs": [
    {
     "data": {
      "text/plain": [
       "tenure_months\n",
       "27    2540\n",
       "26    2118\n",
       "25     602\n",
       "28     234\n",
       "24     113\n",
       "29      80\n",
       "30      26\n",
       "31      15\n",
       "34      11\n",
       "23      11\n",
       "33      10\n",
       "35       9\n",
       "32       4\n",
       "38       3\n",
       "36       3\n",
       "37       3\n",
       "Name: count, dtype: int64"
      ]
     },
     "execution_count": 40,
     "metadata": {},
     "output_type": "execute_result"
    }
   ],
   "execution_count": 40
  },
  {
   "cell_type": "markdown",
   "id": "771abb13be0e8646",
   "metadata": {},
   "source": [
    "# Hotels"
   ]
  },
  {
   "cell_type": "code",
   "id": "18b97652f235ce0f",
   "metadata": {
    "ExecuteTime": {
     "end_time": "2025-04-21T17:27:23.161365Z",
     "start_time": "2025-04-21T17:27:23.135120Z"
    }
   },
   "source": "df = pd.read_csv('../Data/hotels.csv')",
   "outputs": [],
   "execution_count": 85
  },
  {
   "cell_type": "markdown",
   "id": "550f094af6712510",
   "metadata": {},
   "source": [
    "## Data Exploration"
   ]
  },
  {
   "cell_type": "code",
   "id": "820330d8593dc1ba",
   "metadata": {
    "ExecuteTime": {
     "end_time": "2025-04-21T17:27:30.597179Z",
     "start_time": "2025-04-21T17:27:30.590981Z"
    }
   },
   "source": [
    "df.head()"
   ],
   "outputs": [
    {
     "data": {
      "text/plain": [
       "                                   trip_id                hotel_name  nights  \\\n",
       "0  582979-5475b9940ee240bf9328a0cc0bc9900c        NH Hotel  - ottawa       6   \n",
       "1  588386-233db0f627cf4aaaaeaa9a632daa5ec4      Accor - philadelphia       1   \n",
       "2  514785-863ac3b4eb984f1eb226d67955623a5d  Choice Hotels - montreal       3   \n",
       "3  600395-79e934e3dcf2462587a0beffbebd6783       Marriott  - memphis       1   \n",
       "4  474120-a87f749cf54b4f4ca9262d07080a06b2     Accor - san francisco       4   \n",
       "\n",
       "   rooms               check_in_time              check_out_time  \\\n",
       "0      1  2023-03-31 13:32:21.030000  2023-04-07 11:00:00.000000   \n",
       "1      1  2023-04-04 10:43:44.175000  2023-04-05 11:00:00.000000   \n",
       "2      1  2023-06-21 20:06:24.300000  2023-06-25 11:00:00.000000   \n",
       "3      2  2023-04-21 15:58:28.200000  2023-04-23 11:00:00.000000   \n",
       "4      2  2023-02-02 14:18:11.205000  2023-02-07 11:00:00.000000   \n",
       "\n",
       "   hotel_per_room_usd  \n",
       "0                 110  \n",
       "1                 126  \n",
       "2                  87  \n",
       "3                 153  \n",
       "4                 346  "
      ],
      "text/html": [
       "<div>\n",
       "<style scoped>\n",
       "    .dataframe tbody tr th:only-of-type {\n",
       "        vertical-align: middle;\n",
       "    }\n",
       "\n",
       "    .dataframe tbody tr th {\n",
       "        vertical-align: top;\n",
       "    }\n",
       "\n",
       "    .dataframe thead th {\n",
       "        text-align: right;\n",
       "    }\n",
       "</style>\n",
       "<table border=\"1\" class=\"dataframe\">\n",
       "  <thead>\n",
       "    <tr style=\"text-align: right;\">\n",
       "      <th></th>\n",
       "      <th>trip_id</th>\n",
       "      <th>hotel_name</th>\n",
       "      <th>nights</th>\n",
       "      <th>rooms</th>\n",
       "      <th>check_in_time</th>\n",
       "      <th>check_out_time</th>\n",
       "      <th>hotel_per_room_usd</th>\n",
       "    </tr>\n",
       "  </thead>\n",
       "  <tbody>\n",
       "    <tr>\n",
       "      <th>0</th>\n",
       "      <td>582979-5475b9940ee240bf9328a0cc0bc9900c</td>\n",
       "      <td>NH Hotel  - ottawa</td>\n",
       "      <td>6</td>\n",
       "      <td>1</td>\n",
       "      <td>2023-03-31 13:32:21.030000</td>\n",
       "      <td>2023-04-07 11:00:00.000000</td>\n",
       "      <td>110</td>\n",
       "    </tr>\n",
       "    <tr>\n",
       "      <th>1</th>\n",
       "      <td>588386-233db0f627cf4aaaaeaa9a632daa5ec4</td>\n",
       "      <td>Accor - philadelphia</td>\n",
       "      <td>1</td>\n",
       "      <td>1</td>\n",
       "      <td>2023-04-04 10:43:44.175000</td>\n",
       "      <td>2023-04-05 11:00:00.000000</td>\n",
       "      <td>126</td>\n",
       "    </tr>\n",
       "    <tr>\n",
       "      <th>2</th>\n",
       "      <td>514785-863ac3b4eb984f1eb226d67955623a5d</td>\n",
       "      <td>Choice Hotels - montreal</td>\n",
       "      <td>3</td>\n",
       "      <td>1</td>\n",
       "      <td>2023-06-21 20:06:24.300000</td>\n",
       "      <td>2023-06-25 11:00:00.000000</td>\n",
       "      <td>87</td>\n",
       "    </tr>\n",
       "    <tr>\n",
       "      <th>3</th>\n",
       "      <td>600395-79e934e3dcf2462587a0beffbebd6783</td>\n",
       "      <td>Marriott  - memphis</td>\n",
       "      <td>1</td>\n",
       "      <td>2</td>\n",
       "      <td>2023-04-21 15:58:28.200000</td>\n",
       "      <td>2023-04-23 11:00:00.000000</td>\n",
       "      <td>153</td>\n",
       "    </tr>\n",
       "    <tr>\n",
       "      <th>4</th>\n",
       "      <td>474120-a87f749cf54b4f4ca9262d07080a06b2</td>\n",
       "      <td>Accor - san francisco</td>\n",
       "      <td>4</td>\n",
       "      <td>2</td>\n",
       "      <td>2023-02-02 14:18:11.205000</td>\n",
       "      <td>2023-02-07 11:00:00.000000</td>\n",
       "      <td>346</td>\n",
       "    </tr>\n",
       "  </tbody>\n",
       "</table>\n",
       "</div>"
      ]
     },
     "execution_count": 86,
     "metadata": {},
     "output_type": "execute_result"
    }
   ],
   "execution_count": 86
  },
  {
   "cell_type": "code",
   "id": "4b1dd63fb581697c",
   "metadata": {
    "ExecuteTime": {
     "end_time": "2025-04-21T17:27:33.066324Z",
     "start_time": "2025-04-21T17:27:33.051276Z"
    }
   },
   "source": [
    "df.info()"
   ],
   "outputs": [
    {
     "name": "stdout",
     "output_type": "stream",
     "text": [
      "<class 'pandas.core.frame.DataFrame'>\n",
      "RangeIndex: 13772 entries, 0 to 13771\n",
      "Data columns (total 7 columns):\n",
      " #   Column              Non-Null Count  Dtype \n",
      "---  ------              --------------  ----- \n",
      " 0   trip_id             13772 non-null  object\n",
      " 1   hotel_name          13772 non-null  object\n",
      " 2   nights              13772 non-null  int64 \n",
      " 3   rooms               13772 non-null  int64 \n",
      " 4   check_in_time       13772 non-null  object\n",
      " 5   check_out_time      13772 non-null  object\n",
      " 6   hotel_per_room_usd  13772 non-null  int64 \n",
      "dtypes: int64(3), object(4)\n",
      "memory usage: 753.3+ KB\n"
     ]
    }
   ],
   "execution_count": 87
  },
  {
   "cell_type": "code",
   "id": "54f9bfe9d3c90870",
   "metadata": {
    "ExecuteTime": {
     "end_time": "2025-04-21T17:27:36.923836Z",
     "start_time": "2025-04-21T17:27:36.897774Z"
    }
   },
   "source": [
    "df.describe()"
   ],
   "outputs": [
    {
     "data": {
      "text/plain": [
       "             nights         rooms  hotel_per_room_usd\n",
       "count  13772.000000  13772.000000        13772.000000\n",
       "mean       3.616250      1.195396          178.147401\n",
       "std        3.758377      0.499596          119.019998\n",
       "min       -2.000000      1.000000           17.000000\n",
       "25%        1.000000      1.000000           99.000000\n",
       "50%        2.000000      1.000000          148.000000\n",
       "75%        5.000000      1.000000          223.000000\n",
       "max       43.000000      4.000000         1376.000000"
      ],
      "text/html": [
       "<div>\n",
       "<style scoped>\n",
       "    .dataframe tbody tr th:only-of-type {\n",
       "        vertical-align: middle;\n",
       "    }\n",
       "\n",
       "    .dataframe tbody tr th {\n",
       "        vertical-align: top;\n",
       "    }\n",
       "\n",
       "    .dataframe thead th {\n",
       "        text-align: right;\n",
       "    }\n",
       "</style>\n",
       "<table border=\"1\" class=\"dataframe\">\n",
       "  <thead>\n",
       "    <tr style=\"text-align: right;\">\n",
       "      <th></th>\n",
       "      <th>nights</th>\n",
       "      <th>rooms</th>\n",
       "      <th>hotel_per_room_usd</th>\n",
       "    </tr>\n",
       "  </thead>\n",
       "  <tbody>\n",
       "    <tr>\n",
       "      <th>count</th>\n",
       "      <td>13772.000000</td>\n",
       "      <td>13772.000000</td>\n",
       "      <td>13772.000000</td>\n",
       "    </tr>\n",
       "    <tr>\n",
       "      <th>mean</th>\n",
       "      <td>3.616250</td>\n",
       "      <td>1.195396</td>\n",
       "      <td>178.147401</td>\n",
       "    </tr>\n",
       "    <tr>\n",
       "      <th>std</th>\n",
       "      <td>3.758377</td>\n",
       "      <td>0.499596</td>\n",
       "      <td>119.019998</td>\n",
       "    </tr>\n",
       "    <tr>\n",
       "      <th>min</th>\n",
       "      <td>-2.000000</td>\n",
       "      <td>1.000000</td>\n",
       "      <td>17.000000</td>\n",
       "    </tr>\n",
       "    <tr>\n",
       "      <th>25%</th>\n",
       "      <td>1.000000</td>\n",
       "      <td>1.000000</td>\n",
       "      <td>99.000000</td>\n",
       "    </tr>\n",
       "    <tr>\n",
       "      <th>50%</th>\n",
       "      <td>2.000000</td>\n",
       "      <td>1.000000</td>\n",
       "      <td>148.000000</td>\n",
       "    </tr>\n",
       "    <tr>\n",
       "      <th>75%</th>\n",
       "      <td>5.000000</td>\n",
       "      <td>1.000000</td>\n",
       "      <td>223.000000</td>\n",
       "    </tr>\n",
       "    <tr>\n",
       "      <th>max</th>\n",
       "      <td>43.000000</td>\n",
       "      <td>4.000000</td>\n",
       "      <td>1376.000000</td>\n",
       "    </tr>\n",
       "  </tbody>\n",
       "</table>\n",
       "</div>"
      ]
     },
     "execution_count": 88,
     "metadata": {},
     "output_type": "execute_result"
    }
   ],
   "execution_count": 88
  },
  {
   "cell_type": "code",
   "id": "2051402d77ef588f",
   "metadata": {
    "ExecuteTime": {
     "end_time": "2025-04-21T17:27:39.976661Z",
     "start_time": "2025-04-21T17:27:39.966082Z"
    }
   },
   "source": "df.duplicated().sum()",
   "outputs": [
    {
     "data": {
      "text/plain": [
       "np.int64(0)"
      ]
     },
     "execution_count": 89,
     "metadata": {},
     "output_type": "execute_result"
    }
   ],
   "execution_count": 89
  },
  {
   "cell_type": "markdown",
   "id": "75d6ad0b4672e0d",
   "metadata": {},
   "source": [
    "## Convert check in and check out time"
   ]
  },
  {
   "cell_type": "code",
   "id": "ccd1154ba5319706",
   "metadata": {
    "ExecuteTime": {
     "end_time": "2025-04-21T17:27:43.714610Z",
     "start_time": "2025-04-21T17:27:43.554003Z"
    }
   },
   "source": [
    "df['check_in_time'] = pd.to_datetime(df['check_in_time'])\n",
    "df['check_in_dayofyear'] = df['check_in_time'].dt.dayofyear\n",
    "df['check_in_hour'] = df['check_in_time'].dt.hour\n",
    "\n",
    "df['check_out_time'] = pd.to_datetime(df['check_out_time'])\n",
    "df['check_out_dayofyear'] = df['check_out_time'].dt.dayofyear\n",
    "df['check_out_hour'] = df['check_out_time'].dt.hour"
   ],
   "outputs": [],
   "execution_count": 91
  },
  {
   "cell_type": "code",
   "id": "a00e0a05880963d",
   "metadata": {
    "ExecuteTime": {
     "end_time": "2025-04-21T17:27:45.178587Z",
     "start_time": "2025-04-21T17:27:45.168480Z"
    }
   },
   "source": [
    "df.head()"
   ],
   "outputs": [
    {
     "data": {
      "text/plain": [
       "                                   trip_id                hotel_name  nights  \\\n",
       "0  582979-5475b9940ee240bf9328a0cc0bc9900c        NH Hotel  - ottawa       6   \n",
       "1  588386-233db0f627cf4aaaaeaa9a632daa5ec4      Accor - philadelphia       1   \n",
       "2  514785-863ac3b4eb984f1eb226d67955623a5d  Choice Hotels - montreal       3   \n",
       "3  600395-79e934e3dcf2462587a0beffbebd6783       Marriott  - memphis       1   \n",
       "4  474120-a87f749cf54b4f4ca9262d07080a06b2     Accor - san francisco       4   \n",
       "\n",
       "   rooms           check_in_time      check_out_time  hotel_per_room_usd  \\\n",
       "0      1 2023-03-31 13:32:21.030 2023-04-07 11:00:00                 110   \n",
       "1      1 2023-04-04 10:43:44.175 2023-04-05 11:00:00                 126   \n",
       "2      1 2023-06-21 20:06:24.300 2023-06-25 11:00:00                  87   \n",
       "3      2 2023-04-21 15:58:28.200 2023-04-23 11:00:00                 153   \n",
       "4      2 2023-02-02 14:18:11.205 2023-02-07 11:00:00                 346   \n",
       "\n",
       "   check_in_dayofyear  check_in_hour  check_out_dayofyear  check_out_hour  \n",
       "0                  90             13                   97              11  \n",
       "1                  94             10                   95              11  \n",
       "2                 172             20                  176              11  \n",
       "3                 111             15                  113              11  \n",
       "4                  33             14                   38              11  "
      ],
      "text/html": [
       "<div>\n",
       "<style scoped>\n",
       "    .dataframe tbody tr th:only-of-type {\n",
       "        vertical-align: middle;\n",
       "    }\n",
       "\n",
       "    .dataframe tbody tr th {\n",
       "        vertical-align: top;\n",
       "    }\n",
       "\n",
       "    .dataframe thead th {\n",
       "        text-align: right;\n",
       "    }\n",
       "</style>\n",
       "<table border=\"1\" class=\"dataframe\">\n",
       "  <thead>\n",
       "    <tr style=\"text-align: right;\">\n",
       "      <th></th>\n",
       "      <th>trip_id</th>\n",
       "      <th>hotel_name</th>\n",
       "      <th>nights</th>\n",
       "      <th>rooms</th>\n",
       "      <th>check_in_time</th>\n",
       "      <th>check_out_time</th>\n",
       "      <th>hotel_per_room_usd</th>\n",
       "      <th>check_in_dayofyear</th>\n",
       "      <th>check_in_hour</th>\n",
       "      <th>check_out_dayofyear</th>\n",
       "      <th>check_out_hour</th>\n",
       "    </tr>\n",
       "  </thead>\n",
       "  <tbody>\n",
       "    <tr>\n",
       "      <th>0</th>\n",
       "      <td>582979-5475b9940ee240bf9328a0cc0bc9900c</td>\n",
       "      <td>NH Hotel  - ottawa</td>\n",
       "      <td>6</td>\n",
       "      <td>1</td>\n",
       "      <td>2023-03-31 13:32:21.030</td>\n",
       "      <td>2023-04-07 11:00:00</td>\n",
       "      <td>110</td>\n",
       "      <td>90</td>\n",
       "      <td>13</td>\n",
       "      <td>97</td>\n",
       "      <td>11</td>\n",
       "    </tr>\n",
       "    <tr>\n",
       "      <th>1</th>\n",
       "      <td>588386-233db0f627cf4aaaaeaa9a632daa5ec4</td>\n",
       "      <td>Accor - philadelphia</td>\n",
       "      <td>1</td>\n",
       "      <td>1</td>\n",
       "      <td>2023-04-04 10:43:44.175</td>\n",
       "      <td>2023-04-05 11:00:00</td>\n",
       "      <td>126</td>\n",
       "      <td>94</td>\n",
       "      <td>10</td>\n",
       "      <td>95</td>\n",
       "      <td>11</td>\n",
       "    </tr>\n",
       "    <tr>\n",
       "      <th>2</th>\n",
       "      <td>514785-863ac3b4eb984f1eb226d67955623a5d</td>\n",
       "      <td>Choice Hotels - montreal</td>\n",
       "      <td>3</td>\n",
       "      <td>1</td>\n",
       "      <td>2023-06-21 20:06:24.300</td>\n",
       "      <td>2023-06-25 11:00:00</td>\n",
       "      <td>87</td>\n",
       "      <td>172</td>\n",
       "      <td>20</td>\n",
       "      <td>176</td>\n",
       "      <td>11</td>\n",
       "    </tr>\n",
       "    <tr>\n",
       "      <th>3</th>\n",
       "      <td>600395-79e934e3dcf2462587a0beffbebd6783</td>\n",
       "      <td>Marriott  - memphis</td>\n",
       "      <td>1</td>\n",
       "      <td>2</td>\n",
       "      <td>2023-04-21 15:58:28.200</td>\n",
       "      <td>2023-04-23 11:00:00</td>\n",
       "      <td>153</td>\n",
       "      <td>111</td>\n",
       "      <td>15</td>\n",
       "      <td>113</td>\n",
       "      <td>11</td>\n",
       "    </tr>\n",
       "    <tr>\n",
       "      <th>4</th>\n",
       "      <td>474120-a87f749cf54b4f4ca9262d07080a06b2</td>\n",
       "      <td>Accor - san francisco</td>\n",
       "      <td>4</td>\n",
       "      <td>2</td>\n",
       "      <td>2023-02-02 14:18:11.205</td>\n",
       "      <td>2023-02-07 11:00:00</td>\n",
       "      <td>346</td>\n",
       "      <td>33</td>\n",
       "      <td>14</td>\n",
       "      <td>38</td>\n",
       "      <td>11</td>\n",
       "    </tr>\n",
       "  </tbody>\n",
       "</table>\n",
       "</div>"
      ]
     },
     "execution_count": 92,
     "metadata": {},
     "output_type": "execute_result"
    }
   ],
   "execution_count": 92
  },
  {
   "cell_type": "markdown",
   "id": "a6074f9b7114bf3a",
   "metadata": {},
   "source": [
    "## Plots"
   ]
  },
  {
   "cell_type": "code",
   "id": "a097ed63a29f6d32",
   "metadata": {
    "ExecuteTime": {
     "end_time": "2025-04-21T17:27:48.987493Z",
     "start_time": "2025-04-21T17:27:48.738049Z"
    }
   },
   "source": [
    "# Group by day of the year and hour\n",
    "heatmap_data = df.groupby([ 'check_in_hour', 'check_in_dayofyear']).size().unstack(fill_value=0)\n",
    "\n",
    "# Plot heatmap using Seaborn\n",
    "plt.figure(figsize=(15, 8))\n",
    "sns.heatmap(heatmap_data, cmap=\"coolwarm\", cbar=True, linewidths=0.5)\n",
    "plt.title(\"Heatmap of Hourly Activity by Day of the Year\")\n",
    "plt.xlabel(\"Day of the Year\")\n",
    "plt.ylabel(\"Hour of the Day\")\n",
    "plt.show()"
   ],
   "outputs": [
    {
     "data": {
      "text/plain": [
       "<Figure size 1500x800 with 2 Axes>"
      ],
      "image/png": "[encoded data removed]"
     },
     "metadata": {},
     "output_type": "display_data"
    }
   ],
   "execution_count": 93
  },
  {
   "cell_type": "code",
   "id": "f3e6ca7331c12a2",
   "metadata": {
    "ExecuteTime": {
     "end_time": "2025-04-21T17:27:54.098721Z",
     "start_time": "2025-04-21T17:27:53.928646Z"
    }
   },
   "source": [
    "# Group by day of the year and hour\n",
    "heatmap_data = df.groupby([ 'check_out_hour', 'check_out_dayofyear']).size().unstack(fill_value=0)\n",
    "\n",
    "# Plot heatmap using Seaborn\n",
    "plt.figure(figsize=(15, 8))\n",
    "sns.heatmap(heatmap_data, cmap=\"coolwarm\", cbar=True, linewidths=0.5)\n",
    "plt.title(\"Heatmap of Hourly Activity by Day of the Year\")\n",
    "plt.xlabel(\"Day of the Year\")\n",
    "plt.ylabel(\"Hour of the Day\")\n",
    "plt.show()"
   ],
   "outputs": [
    {
     "data": {
      "text/plain": [
       "<Figure size 1500x800 with 2 Axes>"
      ],
      "image/png": "[encoded data removed]"
     },
     "metadata": {},
     "output_type": "display_data"
    }
   ],
   "execution_count": 94
  },
  {
   "cell_type": "code",
   "id": "e2518ad54cd31cc7",
   "metadata": {
    "ExecuteTime": {
     "end_time": "2025-04-21T17:27:56.762349Z",
     "start_time": "2025-04-21T17:27:56.756536Z"
    }
   },
   "source": [
    "df['check_out_hour'].value_counts()"
   ],
   "outputs": [
    {
     "data": {
      "text/plain": [
       "check_out_hour\n",
       "11    13772\n",
       "Name: count, dtype: int64"
      ]
     },
     "execution_count": 95,
     "metadata": {},
     "output_type": "execute_result"
    }
   ],
   "execution_count": 95
  },
  {
   "cell_type": "code",
   "id": "f4dbd7fc6c2b8765",
   "metadata": {
    "ExecuteTime": {
     "end_time": "2025-04-21T17:27:59.131933Z",
     "start_time": "2025-04-21T17:27:59.127694Z"
    }
   },
   "source": [
    "df.columns"
   ],
   "outputs": [
    {
     "data": {
      "text/plain": [
       "Index(['trip_id', 'hotel_name', 'nights', 'rooms', 'check_in_time',\n",
       "       'check_out_time', 'hotel_per_room_usd', 'check_in_dayofyear',\n",
       "       'check_in_hour', 'check_out_dayofyear', 'check_out_hour'],\n",
       "      dtype='object')"
      ]
     },
     "execution_count": 96,
     "metadata": {},
     "output_type": "execute_result"
    }
   ],
   "execution_count": 96
  },
  {
   "cell_type": "code",
   "id": "36b1291576c31586",
   "metadata": {
    "ExecuteTime": {
     "end_time": "2025-04-21T17:28:01.515512Z",
     "start_time": "2025-04-21T17:28:01.511646Z"
    }
   },
   "source": [
    "num_col = ['nights', 'rooms', 'hotel_per_room_usd', 'check_in_dayofyear', 'check_in_hour', 'check_out_dayofyear', 'check_out_hour']"
   ],
   "outputs": [],
   "execution_count": 97
  },
  {
   "cell_type": "code",
   "id": "4d2426b1fe05e21",
   "metadata": {
    "ExecuteTime": {
     "end_time": "2025-04-21T17:28:03.910561Z",
     "start_time": "2025-04-21T17:28:03.385517Z"
    }
   },
   "source": [
    "for col in num_col:\n",
    "    sns.histplot(data=df, x=col)\n",
    "    plt.title(f'Distribution of {col}')\n",
    "    plt.xlabel(col)\n",
    "    plt.ylabel('Count')\n",
    "    plt.show()"
   ],
   "outputs": [
    {
     "data": {
      "text/plain": [
       "<Figure size 640x480 with 1 Axes>"
      ],
      "image/png": "[encoded data removed]"
     },
     "metadata": {},
     "output_type": "display_data"
    },
    {
     "data": {
      "text/plain": [
       "<Figure size 640x480 with 1 Axes>"
      ],
      "image/png": "[encoded data removed]"
     },
     "metadata": {},
     "output_type": "display_data"
    },
    {
     "data": {
      "text/plain": [
       "<Figure size 640x480 with 1 Axes>"
      ],
      "image/png": "[encoded data removed]"
     },
     "metadata": {},
     "output_type": "display_data"
    },
    {
     "data": {
      "text/plain": [
       "<Figure size 640x480 with 1 Axes>"
      ],
      "image/png": "[encoded data removed]"
     },
     "metadata": {},
     "output_type": "display_data"
    },
    {
     "data": {
      "text/plain": [
       "<Figure size 640x480 with 1 Axes>"
      ],
      "image/png": "[encoded data removed]"
     },
     "metadata": {},
     "output_type": "display_data"
    },
    {
     "data": {
      "text/plain": [
       "<Figure size 640x480 with 1 Axes>"
      ],
      "image/png": "[encoded data removed]"
     },
     "metadata": {},
     "output_type": "display_data"
    },
    {
     "data": {
      "text/plain": [
       "<Figure size 640x480 with 1 Axes>"
      ],
      "image/png": "[encoded data removed]"
     },
     "metadata": {},
     "output_type": "display_data"
    }
   ],
   "execution_count": 98
  },
  {
   "cell_type": "code",
   "id": "159facebfd45ac8a",
   "metadata": {
    "ExecuteTime": {
     "end_time": "2025-04-21T17:28:12.607819Z",
     "start_time": "2025-04-21T17:28:12.541727Z"
    }
   },
   "source": [
    "df['hotel_name'].value_counts().plot()"
   ],
   "outputs": [
    {
     "data": {
      "text/plain": [
       "<Axes: xlabel='hotel_name'>"
      ]
     },
     "execution_count": 100,
     "metadata": {},
     "output_type": "execute_result"
    },
    {
     "data": {
      "text/plain": [
       "<Figure size 640x480 with 1 Axes>"
      ],
      "image/png": "[encoded data removed]"
     },
     "metadata": {},
     "output_type": "display_data"
    }
   ],
   "execution_count": 100
  },
  {
   "cell_type": "markdown",
   "id": "47a6dffd69a67900",
   "metadata": {},
   "source": [
    "## Correcting nights"
   ]
  },
  {
   "cell_type": "code",
   "id": "a5b57899f1e50bc4",
   "metadata": {
    "ExecuteTime": {
     "end_time": "2025-04-21T17:28:15.777686Z",
     "start_time": "2025-04-21T17:28:15.752410Z"
    }
   },
   "source": [
    "df"
   ],
   "outputs": [
    {
     "data": {
      "text/plain": [
       "                                       trip_id                 hotel_name  \\\n",
       "0      582979-5475b9940ee240bf9328a0cc0bc9900c         NH Hotel  - ottawa   \n",
       "1      588386-233db0f627cf4aaaaeaa9a632daa5ec4       Accor - philadelphia   \n",
       "2      514785-863ac3b4eb984f1eb226d67955623a5d   Choice Hotels - montreal   \n",
       "3      600395-79e934e3dcf2462587a0beffbebd6783        Marriott  - memphis   \n",
       "4      474120-a87f749cf54b4f4ca9262d07080a06b2      Accor - san francisco   \n",
       "...                                        ...                        ...   \n",
       "13767  583623-70097bf1d1334cfb891ac2bd09f448ae      Shangri-La - montreal   \n",
       "13768  512377-acf089357a6b497d91eda34bb532578d     Marriott  - washington   \n",
       "13769  497042-fa163de72e234eaf9c9bc8b477fbf66a        Hyatt - san antonio   \n",
       "13770  598533-40848e5db09e46aa8f56c0c3ccdefb2d              Hyatt - macau   \n",
       "13771  610144-4e95defd2af24ea190dab8b1f563fd77  Four Seasons - louisville   \n",
       "\n",
       "       nights  rooms           check_in_time      check_out_time  \\\n",
       "0           6      1 2023-03-31 13:32:21.030 2023-04-07 11:00:00   \n",
       "1           1      1 2023-04-04 10:43:44.175 2023-04-05 11:00:00   \n",
       "2           3      1 2023-06-21 20:06:24.300 2023-06-25 11:00:00   \n",
       "3           1      2 2023-04-21 15:58:28.200 2023-04-23 11:00:00   \n",
       "4           4      2 2023-02-02 14:18:11.205 2023-02-07 11:00:00   \n",
       "...       ...    ...                     ...                 ...   \n",
       "13767       3      1 2023-02-23 17:25:07.185 2023-02-27 11:00:00   \n",
       "13768       5      1 2023-04-02 12:25:51.465 2023-04-08 11:00:00   \n",
       "13769       2      1 2023-04-13 11:40:58.350 2023-04-15 11:00:00   \n",
       "13770      12      1 2024-01-24 09:54:31.635 2024-02-05 11:00:00   \n",
       "13771       5      1 2023-07-05 17:42:22.545 2023-07-11 11:00:00   \n",
       "\n",
       "       hotel_per_room_usd  check_in_dayofyear  check_in_hour  \\\n",
       "0                     110                  90             13   \n",
       "1                     126                  94             10   \n",
       "2                      87                 172             20   \n",
       "3                     153                 111             15   \n",
       "4                     346                  33             14   \n",
       "...                   ...                 ...            ...   \n",
       "13767                 142                  54             17   \n",
       "13768                 446                  92             12   \n",
       "13769                 103                 103             11   \n",
       "13770                 114                  24              9   \n",
       "13771                 341                 186             17   \n",
       "\n",
       "       check_out_dayofyear  check_out_hour  \n",
       "0                       97              11  \n",
       "1                       95              11  \n",
       "2                      176              11  \n",
       "3                      113              11  \n",
       "4                       38              11  \n",
       "...                    ...             ...  \n",
       "13767                   58              11  \n",
       "13768                   98              11  \n",
       "13769                  105              11  \n",
       "13770                   36              11  \n",
       "13771                  192              11  \n",
       "\n",
       "[13772 rows x 11 columns]"
      ],
      "text/html": [
       "<div>\n",
       "<style scoped>\n",
       "    .dataframe tbody tr th:only-of-type {\n",
       "        vertical-align: middle;\n",
       "    }\n",
       "\n",
       "    .dataframe tbody tr th {\n",
       "        vertical-align: top;\n",
       "    }\n",
       "\n",
       "    .dataframe thead th {\n",
       "        text-align: right;\n",
       "    }\n",
       "</style>\n",
       "<table border=\"1\" class=\"dataframe\">\n",
       "  <thead>\n",
       "    <tr style=\"text-align: right;\">\n",
       "      <th></th>\n",
       "      <th>trip_id</th>\n",
       "      <th>hotel_name</th>\n",
       "      <th>nights</th>\n",
       "      <th>rooms</th>\n",
       "      <th>check_in_time</th>\n",
       "      <th>check_out_time</th>\n",
       "      <th>hotel_per_room_usd</th>\n",
       "      <th>check_in_dayofyear</th>\n",
       "      <th>check_in_hour</th>\n",
       "      <th>check_out_dayofyear</th>\n",
       "      <th>check_out_hour</th>\n",
       "    </tr>\n",
       "  </thead>\n",
       "  <tbody>\n",
       "    <tr>\n",
       "      <th>0</th>\n",
       "      <td>582979-5475b9940ee240bf9328a0cc0bc9900c</td>\n",
       "      <td>NH Hotel  - ottawa</td>\n",
       "      <td>6</td>\n",
       "      <td>1</td>\n",
       "      <td>2023-03-31 13:32:21.030</td>\n",
       "      <td>2023-04-07 11:00:00</td>\n",
       "      <td>110</td>\n",
       "      <td>90</td>\n",
       "      <td>13</td>\n",
       "      <td>97</td>\n",
       "      <td>11</td>\n",
       "    </tr>\n",
       "    <tr>\n",
       "      <th>1</th>\n",
       "      <td>588386-233db0f627cf4aaaaeaa9a632daa5ec4</td>\n",
       "      <td>Accor - philadelphia</td>\n",
       "      <td>1</td>\n",
       "      <td>1</td>\n",
       "      <td>2023-04-04 10:43:44.175</td>\n",
       "      <td>2023-04-05 11:00:00</td>\n",
       "      <td>126</td>\n",
       "      <td>94</td>\n",
       "      <td>10</td>\n",
       "      <td>95</td>\n",
       "      <td>11</td>\n",
       "    </tr>\n",
       "    <tr>\n",
       "      <th>2</th>\n",
       "      <td>514785-863ac3b4eb984f1eb226d67955623a5d</td>\n",
       "      <td>Choice Hotels - montreal</td>\n",
       "      <td>3</td>\n",
       "      <td>1</td>\n",
       "      <td>2023-06-21 20:06:24.300</td>\n",
       "      <td>2023-06-25 11:00:00</td>\n",
       "      <td>87</td>\n",
       "      <td>172</td>\n",
       "      <td>20</td>\n",
       "      <td>176</td>\n",
       "      <td>11</td>\n",
       "    </tr>\n",
       "    <tr>\n",
       "      <th>3</th>\n",
       "      <td>600395-79e934e3dcf2462587a0beffbebd6783</td>\n",
       "      <td>Marriott  - memphis</td>\n",
       "      <td>1</td>\n",
       "      <td>2</td>\n",
       "      <td>2023-04-21 15:58:28.200</td>\n",
       "      <td>2023-04-23 11:00:00</td>\n",
       "      <td>153</td>\n",
       "      <td>111</td>\n",
       "      <td>15</td>\n",
       "      <td>113</td>\n",
       "      <td>11</td>\n",
       "    </tr>\n",
       "    <tr>\n",
       "      <th>4</th>\n",
       "      <td>474120-a87f749cf54b4f4ca9262d07080a06b2</td>\n",
       "      <td>Accor - san francisco</td>\n",
       "      <td>4</td>\n",
       "      <td>2</td>\n",
       "      <td>2023-02-02 14:18:11.205</td>\n",
       "      <td>2023-02-07 11:00:00</td>\n",
       "      <td>346</td>\n",
       "      <td>33</td>\n",
       "      <td>14</td>\n",
       "      <td>38</td>\n",
       "      <td>11</td>\n",
       "    </tr>\n",
       "    <tr>\n",
       "      <th>...</th>\n",
       "      <td>...</td>\n",
       "      <td>...</td>\n",
       "      <td>...</td>\n",
       "      <td>...</td>\n",
       "      <td>...</td>\n",
       "      <td>...</td>\n",
       "      <td>...</td>\n",
       "      <td>...</td>\n",
       "      <td>...</td>\n",
       "      <td>...</td>\n",
       "      <td>...</td>\n",
       "    </tr>\n",
       "    <tr>\n",
       "      <th>13767</th>\n",
       "      <td>583623-70097bf1d1334cfb891ac2bd09f448ae</td>\n",
       "      <td>Shangri-La - montreal</td>\n",
       "      <td>3</td>\n",
       "      <td>1</td>\n",
       "      <td>2023-02-23 17:25:07.185</td>\n",
       "      <td>2023-02-27 11:00:00</td>\n",
       "      <td>142</td>\n",
       "      <td>54</td>\n",
       "      <td>17</td>\n",
       "      <td>58</td>\n",
       "      <td>11</td>\n",
       "    </tr>\n",
       "    <tr>\n",
       "      <th>13768</th>\n",
       "      <td>512377-acf089357a6b497d91eda34bb532578d</td>\n",
       "      <td>Marriott  - washington</td>\n",
       "      <td>5</td>\n",
       "      <td>1</td>\n",
       "      <td>2023-04-02 12:25:51.465</td>\n",
       "      <td>2023-04-08 11:00:00</td>\n",
       "      <td>446</td>\n",
       "      <td>92</td>\n",
       "      <td>12</td>\n",
       "      <td>98</td>\n",
       "      <td>11</td>\n",
       "    </tr>\n",
       "    <tr>\n",
       "      <th>13769</th>\n",
       "      <td>497042-fa163de72e234eaf9c9bc8b477fbf66a</td>\n",
       "      <td>Hyatt - san antonio</td>\n",
       "      <td>2</td>\n",
       "      <td>1</td>\n",
       "      <td>2023-04-13 11:40:58.350</td>\n",
       "      <td>2023-04-15 11:00:00</td>\n",
       "      <td>103</td>\n",
       "      <td>103</td>\n",
       "      <td>11</td>\n",
       "      <td>105</td>\n",
       "      <td>11</td>\n",
       "    </tr>\n",
       "    <tr>\n",
       "      <th>13770</th>\n",
       "      <td>598533-40848e5db09e46aa8f56c0c3ccdefb2d</td>\n",
       "      <td>Hyatt - macau</td>\n",
       "      <td>12</td>\n",
       "      <td>1</td>\n",
       "      <td>2024-01-24 09:54:31.635</td>\n",
       "      <td>2024-02-05 11:00:00</td>\n",
       "      <td>114</td>\n",
       "      <td>24</td>\n",
       "      <td>9</td>\n",
       "      <td>36</td>\n",
       "      <td>11</td>\n",
       "    </tr>\n",
       "    <tr>\n",
       "      <th>13771</th>\n",
       "      <td>610144-4e95defd2af24ea190dab8b1f563fd77</td>\n",
       "      <td>Four Seasons - louisville</td>\n",
       "      <td>5</td>\n",
       "      <td>1</td>\n",
       "      <td>2023-07-05 17:42:22.545</td>\n",
       "      <td>2023-07-11 11:00:00</td>\n",
       "      <td>341</td>\n",
       "      <td>186</td>\n",
       "      <td>17</td>\n",
       "      <td>192</td>\n",
       "      <td>11</td>\n",
       "    </tr>\n",
       "  </tbody>\n",
       "</table>\n",
       "<p>13772 rows × 11 columns</p>\n",
       "</div>"
      ]
     },
     "execution_count": 101,
     "metadata": {},
     "output_type": "execute_result"
    }
   ],
   "execution_count": 101
  },
  {
   "cell_type": "code",
   "id": "aacdc076ffc50b4c",
   "metadata": {
    "ExecuteTime": {
     "end_time": "2025-04-21T17:28:18.705142Z",
     "start_time": "2025-04-21T17:28:18.699367Z"
    }
   },
   "source": [
    "df_wrong_nights = df[df['nights'] < 1].copy()"
   ],
   "outputs": [],
   "execution_count": 102
  },
  {
   "cell_type": "code",
   "id": "ae81f93eb124b7dd",
   "metadata": {
    "ExecuteTime": {
     "end_time": "2025-04-21T17:28:20.237063Z",
     "start_time": "2025-04-21T17:28:20.229818Z"
    }
   },
   "source": [
    "# Tip: See the check in and checkout times\n",
    "df_wrong_nights"
   ],
   "outputs": [
    {
     "data": {
      "text/plain": [
       "                                       trip_id  \\\n",
       "14     521956-3f5c4243e6ef493cbd7a116263dbded8   \n",
       "21     540666-7e2dbdb4bdf045299f3a154ad0e4e312   \n",
       "67     676570-ed23a4a861404b84b240ca68b9da1cb3   \n",
       "85     516456-2a5e97d1772641dda4fb5fe66eeaa74e   \n",
       "88     592158-b880536527d049a7bbfe8da5596d4243   \n",
       "...                                        ...   \n",
       "13653  526901-ddb83d0c771f483d93e412e5232d4e36   \n",
       "13669  519725-cd3c41f793b4427e8ea87390fd4cf1b5   \n",
       "13687  530322-197abc1d374d42dcb3a34f10dd651652   \n",
       "13691  522533-226606028b544eb68edcc774d3055574   \n",
       "13707  573704-2dd509deb16e4488bf68fac5552c0329   \n",
       "\n",
       "                            hotel_name  nights  rooms           check_in_time  \\\n",
       "14                 Conrad  - charlotte       0      1 2023-01-17 16:10:51.690   \n",
       "21             Crowne Plaza - new york       0      1 2023-04-04 14:11:22.965   \n",
       "67                  Radisson  - tucson       0      1 2023-04-05 18:52:19.605   \n",
       "85             Best Western - new york       0      1 2023-06-20 17:12:04.095   \n",
       "88                Marriott  - portland       0      1 2023-02-20 13:40:12.810   \n",
       "...                                ...     ...    ...                     ...   \n",
       "13653               Radisson  - quebec       0      1 2023-01-22 13:18:46.935   \n",
       "13669         Extended Stay  - houston       0      1 2023-02-02 12:37:17.175   \n",
       "13687           Choice Hotels - quebec       0      1 2023-03-13 17:18:13.770   \n",
       "13691  InterContinental  - los angeles       0      1 2023-02-27 19:40:15.465   \n",
       "13707           Crowne Plaza - houston       0      1 2023-02-11 11:51:41.400   \n",
       "\n",
       "           check_out_time  hotel_per_room_usd  check_in_dayofyear  \\\n",
       "14    2023-01-18 11:00:00                  97                  17   \n",
       "21    2023-04-05 11:00:00                 422                  94   \n",
       "67    2023-04-06 11:00:00                 193                  95   \n",
       "85    2023-06-21 11:00:00                 228                 171   \n",
       "88    2023-02-21 11:00:00                 137                  51   \n",
       "...                   ...                 ...                 ...   \n",
       "13653 2023-01-23 11:00:00                 117                  22   \n",
       "13669 2023-02-03 11:00:00                  63                  33   \n",
       "13687 2023-03-14 11:00:00                 200                  72   \n",
       "13691 2023-02-28 11:00:00                 240                  58   \n",
       "13707 2023-02-11 11:00:00                 289                  42   \n",
       "\n",
       "       check_in_hour  check_out_dayofyear  check_out_hour  \n",
       "14                16                   18              11  \n",
       "21                14                   95              11  \n",
       "67                18                   96              11  \n",
       "85                17                  172              11  \n",
       "88                13                   52              11  \n",
       "...              ...                  ...             ...  \n",
       "13653             13                   23              11  \n",
       "13669             12                   34              11  \n",
       "13687             17                   73              11  \n",
       "13691             19                   59              11  \n",
       "13707             11                   42              11  \n",
       "\n",
       "[1259 rows x 11 columns]"
      ],
      "text/html": [
       "<div>\n",
       "<style scoped>\n",
       "    .dataframe tbody tr th:only-of-type {\n",
       "        vertical-align: middle;\n",
       "    }\n",
       "\n",
       "    .dataframe tbody tr th {\n",
       "        vertical-align: top;\n",
       "    }\n",
       "\n",
       "    .dataframe thead th {\n",
       "        text-align: right;\n",
       "    }\n",
       "</style>\n",
       "<table border=\"1\" class=\"dataframe\">\n",
       "  <thead>\n",
       "    <tr style=\"text-align: right;\">\n",
       "      <th></th>\n",
       "      <th>trip_id</th>\n",
       "      <th>hotel_name</th>\n",
       "      <th>nights</th>\n",
       "      <th>rooms</th>\n",
       "      <th>check_in_time</th>\n",
       "      <th>check_out_time</th>\n",
       "      <th>hotel_per_room_usd</th>\n",
       "      <th>check_in_dayofyear</th>\n",
       "      <th>check_in_hour</th>\n",
       "      <th>check_out_dayofyear</th>\n",
       "      <th>check_out_hour</th>\n",
       "    </tr>\n",
       "  </thead>\n",
       "  <tbody>\n",
       "    <tr>\n",
       "      <th>14</th>\n",
       "      <td>521956-3f5c4243e6ef493cbd7a116263dbded8</td>\n",
       "      <td>Conrad  - charlotte</td>\n",
       "      <td>0</td>\n",
       "      <td>1</td>\n",
       "      <td>2023-01-17 16:10:51.690</td>\n",
       "      <td>2023-01-18 11:00:00</td>\n",
       "      <td>97</td>\n",
       "      <td>17</td>\n",
       "      <td>16</td>\n",
       "      <td>18</td>\n",
       "      <td>11</td>\n",
       "    </tr>\n",
       "    <tr>\n",
       "      <th>21</th>\n",
       "      <td>540666-7e2dbdb4bdf045299f3a154ad0e4e312</td>\n",
       "      <td>Crowne Plaza - new york</td>\n",
       "      <td>0</td>\n",
       "      <td>1</td>\n",
       "      <td>2023-04-04 14:11:22.965</td>\n",
       "      <td>2023-04-05 11:00:00</td>\n",
       "      <td>422</td>\n",
       "      <td>94</td>\n",
       "      <td>14</td>\n",
       "      <td>95</td>\n",
       "      <td>11</td>\n",
       "    </tr>\n",
       "    <tr>\n",
       "      <th>67</th>\n",
       "      <td>676570-ed23a4a861404b84b240ca68b9da1cb3</td>\n",
       "      <td>Radisson  - tucson</td>\n",
       "      <td>0</td>\n",
       "      <td>1</td>\n",
       "      <td>2023-04-05 18:52:19.605</td>\n",
       "      <td>2023-04-06 11:00:00</td>\n",
       "      <td>193</td>\n",
       "      <td>95</td>\n",
       "      <td>18</td>\n",
       "      <td>96</td>\n",
       "      <td>11</td>\n",
       "    </tr>\n",
       "    <tr>\n",
       "      <th>85</th>\n",
       "      <td>516456-2a5e97d1772641dda4fb5fe66eeaa74e</td>\n",
       "      <td>Best Western - new york</td>\n",
       "      <td>0</td>\n",
       "      <td>1</td>\n",
       "      <td>2023-06-20 17:12:04.095</td>\n",
       "      <td>2023-06-21 11:00:00</td>\n",
       "      <td>228</td>\n",
       "      <td>171</td>\n",
       "      <td>17</td>\n",
       "      <td>172</td>\n",
       "      <td>11</td>\n",
       "    </tr>\n",
       "    <tr>\n",
       "      <th>88</th>\n",
       "      <td>592158-b880536527d049a7bbfe8da5596d4243</td>\n",
       "      <td>Marriott  - portland</td>\n",
       "      <td>0</td>\n",
       "      <td>1</td>\n",
       "      <td>2023-02-20 13:40:12.810</td>\n",
       "      <td>2023-02-21 11:00:00</td>\n",
       "      <td>137</td>\n",
       "      <td>51</td>\n",
       "      <td>13</td>\n",
       "      <td>52</td>\n",
       "      <td>11</td>\n",
       "    </tr>\n",
       "    <tr>\n",
       "      <th>...</th>\n",
       "      <td>...</td>\n",
       "      <td>...</td>\n",
       "      <td>...</td>\n",
       "      <td>...</td>\n",
       "      <td>...</td>\n",
       "      <td>...</td>\n",
       "      <td>...</td>\n",
       "      <td>...</td>\n",
       "      <td>...</td>\n",
       "      <td>...</td>\n",
       "      <td>...</td>\n",
       "    </tr>\n",
       "    <tr>\n",
       "      <th>13653</th>\n",
       "      <td>526901-ddb83d0c771f483d93e412e5232d4e36</td>\n",
       "      <td>Radisson  - quebec</td>\n",
       "      <td>0</td>\n",
       "      <td>1</td>\n",
       "      <td>2023-01-22 13:18:46.935</td>\n",
       "      <td>2023-01-23 11:00:00</td>\n",
       "      <td>117</td>\n",
       "      <td>22</td>\n",
       "      <td>13</td>\n",
       "      <td>23</td>\n",
       "      <td>11</td>\n",
       "    </tr>\n",
       "    <tr>\n",
       "      <th>13669</th>\n",
       "      <td>519725-cd3c41f793b4427e8ea87390fd4cf1b5</td>\n",
       "      <td>Extended Stay  - houston</td>\n",
       "      <td>0</td>\n",
       "      <td>1</td>\n",
       "      <td>2023-02-02 12:37:17.175</td>\n",
       "      <td>2023-02-03 11:00:00</td>\n",
       "      <td>63</td>\n",
       "      <td>33</td>\n",
       "      <td>12</td>\n",
       "      <td>34</td>\n",
       "      <td>11</td>\n",
       "    </tr>\n",
       "    <tr>\n",
       "      <th>13687</th>\n",
       "      <td>530322-197abc1d374d42dcb3a34f10dd651652</td>\n",
       "      <td>Choice Hotels - quebec</td>\n",
       "      <td>0</td>\n",
       "      <td>1</td>\n",
       "      <td>2023-03-13 17:18:13.770</td>\n",
       "      <td>2023-03-14 11:00:00</td>\n",
       "      <td>200</td>\n",
       "      <td>72</td>\n",
       "      <td>17</td>\n",
       "      <td>73</td>\n",
       "      <td>11</td>\n",
       "    </tr>\n",
       "    <tr>\n",
       "      <th>13691</th>\n",
       "      <td>522533-226606028b544eb68edcc774d3055574</td>\n",
       "      <td>InterContinental  - los angeles</td>\n",
       "      <td>0</td>\n",
       "      <td>1</td>\n",
       "      <td>2023-02-27 19:40:15.465</td>\n",
       "      <td>2023-02-28 11:00:00</td>\n",
       "      <td>240</td>\n",
       "      <td>58</td>\n",
       "      <td>19</td>\n",
       "      <td>59</td>\n",
       "      <td>11</td>\n",
       "    </tr>\n",
       "    <tr>\n",
       "      <th>13707</th>\n",
       "      <td>573704-2dd509deb16e4488bf68fac5552c0329</td>\n",
       "      <td>Crowne Plaza - houston</td>\n",
       "      <td>0</td>\n",
       "      <td>1</td>\n",
       "      <td>2023-02-11 11:51:41.400</td>\n",
       "      <td>2023-02-11 11:00:00</td>\n",
       "      <td>289</td>\n",
       "      <td>42</td>\n",
       "      <td>11</td>\n",
       "      <td>42</td>\n",
       "      <td>11</td>\n",
       "    </tr>\n",
       "  </tbody>\n",
       "</table>\n",
       "<p>1259 rows × 11 columns</p>\n",
       "</div>"
      ]
     },
     "execution_count": 103,
     "metadata": {},
     "output_type": "execute_result"
    }
   ],
   "execution_count": 103
  },
  {
   "metadata": {},
   "cell_type": "markdown",
   "source": "maybe all nights are wrong!",
   "id": "d11b47e46f01cbbc"
  },
  {
   "cell_type": "code",
   "id": "37c9d0da668b440",
   "metadata": {
    "ExecuteTime": {
     "end_time": "2025-04-21T17:28:24.320534Z",
     "start_time": "2025-04-21T17:28:24.303725Z"
    }
   },
   "source": [
    "df['new_nights'] = (df['check_out_time'].dt.floor('D') - df['check_in_time'].dt.floor('D')).dt.days"
   ],
   "outputs": [],
   "execution_count": 104
  },
  {
   "cell_type": "code",
   "id": "4b15778431e4a04",
   "metadata": {
    "ExecuteTime": {
     "end_time": "2025-04-21T17:28:57.780133Z",
     "start_time": "2025-04-21T17:28:57.758837Z"
    }
   },
   "source": [
    "#checking 0 nights\n",
    "df['new_nights'].value_counts()"
   ],
   "outputs": [
    {
     "data": {
      "text/plain": [
       "new_nights\n",
       " 2     3039\n",
       " 3     2466\n",
       " 4     1763\n",
       " 1     1701\n",
       " 5     1185\n",
       " 6      800\n",
       " 7      574\n",
       " 8      396\n",
       " 0      389\n",
       " 9      333\n",
       " 10     234\n",
       " 11     200\n",
       " 12     166\n",
       " 13     100\n",
       " 14      92\n",
       " 15      66\n",
       " 16      54\n",
       " 17      40\n",
       " 18      37\n",
       "-1       26\n",
       " 20      21\n",
       " 21      18\n",
       " 22      14\n",
       " 19       9\n",
       " 23       7\n",
       " 24       6\n",
       " 25       5\n",
       " 28       4\n",
       " 26       4\n",
       " 27       4\n",
       " 34       3\n",
       " 29       3\n",
       " 30       3\n",
       " 32       2\n",
       " 35       2\n",
       " 31       2\n",
       " 43       1\n",
       " 42       1\n",
       " 40       1\n",
       " 33       1\n",
       "Name: count, dtype: int64"
      ]
     },
     "execution_count": 105,
     "metadata": {},
     "output_type": "execute_result"
    }
   ],
   "execution_count": 105
  },
  {
   "cell_type": "code",
   "id": "d5e3190b05cb3d92",
   "metadata": {
    "ExecuteTime": {
     "end_time": "2025-04-21T17:30:48.046244Z",
     "start_time": "2025-04-21T17:30:48.020738Z"
    }
   },
   "source": [
    "# Check 0 and -1\n",
    "df[df['new_nights']==-1]"
   ],
   "outputs": [
    {
     "data": {
      "text/plain": [
       "                                       trip_id  \\\n",
       "1454   602598-22e0198df949454b92c7ee3f00d103f5   \n",
       "2131   518998-bdc08a2047d545d2b2b024aac212a5f6   \n",
       "3405   602598-528773b7fe7940f794683d3638a386bd   \n",
       "3671   566875-ec782975633b4a48a5486870fd121934   \n",
       "4448   528122-d58ec81e2ab44005a973f08d89905550   \n",
       "4512   518324-322ae705590744379ae7f288e2f4b9a9   \n",
       "4524   526490-bc1872e571624ae5aac473a046c6e9bb   \n",
       "4807   521335-3cce682f216b42a1a8778811b89cd5c9   \n",
       "4863   596320-67f28818cafd4a1c966362cf6730cd3b   \n",
       "5107   532063-c4ec4ea4518841909efb934203f18974   \n",
       "6614   768291-6571708d6a0445b683464f6cabecda0a   \n",
       "6977   540819-34df787c1f3c4138ae4215c54a2d6b23   \n",
       "7181   490629-a665c40e82c0472c9ebe27b8ca91ec76   \n",
       "7467   535912-1d604650c0004ba99fcc111cd5f3cb9c   \n",
       "7483   550229-f2303e3e13894c71a8ff49fd131e8b34   \n",
       "7515   562869-68a4238d4adc4246b669bf66c43845ca   \n",
       "7635   502444-57ea530e2f7d44f2af7bcf2997ddce45   \n",
       "8224   530118-4b5c287a469d46a4ae31b285938524ba   \n",
       "8988   416319-ddacfc9d2d9943c1b652c01b2c593e95   \n",
       "9212   506250-134d680a8ca64d99aba801607c3ed32d   \n",
       "9329   505771-5e21117bdbf1419eb632c0918be907a3   \n",
       "10626  565827-929863c95c16459ab78c9a8e8f5d438a   \n",
       "10632  504936-4de22c9efa0840b2b1469f5c92019611   \n",
       "11163  518527-8be48202730b41dfb116591d401cda74   \n",
       "11420  549274-e9762318b4434de09638968f7fe5f2e8   \n",
       "11889  543778-cdc9bc67fc074436ba74c4bdacaf59ad   \n",
       "\n",
       "                           hotel_name  nights  rooms           check_in_time  \\\n",
       "1454              Conrad  - charlotte      -1      3 2023-05-02 10:05:37.230   \n",
       "2131        Extended Stay  - new york      -1      1 2023-01-30 11:03:20.565   \n",
       "3405               Radisson  - boston      -1      1 2023-02-27 09:22:14.970   \n",
       "3671             NH Hotel  - new york      -1      1 2023-05-22 09:43:37.065   \n",
       "4448                  Hyatt - memphis      -1      1 2023-03-11 10:38:00.600   \n",
       "4512         Extended Stay  - houston      -1      1 2023-01-16 11:24:43.875   \n",
       "4524              NH Hotel  - chicago      -1      1 2023-02-05 11:15:50.400   \n",
       "4807   Extended Stay  - oklahoma city      -1      1 2023-03-11 09:59:40.290   \n",
       "4863             Accor - philadelphia      -1      3 2023-02-21 11:08:20.175   \n",
       "5107         Banyan Tree  - nashville      -1      1 2023-01-20 11:53:04.830   \n",
       "6614           Four Seasons - houston      -1      1 2023-06-18 09:29:35.610   \n",
       "6977     Best Western - san francisco      -2      1 2023-04-16 20:06:42.075   \n",
       "7181                 Hilton - toronto      -1      1 2023-01-19 09:42:32.580   \n",
       "7467              Starwood  - toronto      -1      1 2023-02-28 11:46:07.995   \n",
       "7483            Hyatt - oklahoma city      -1      2 2023-02-16 11:56:19.410   \n",
       "7515            Crowne Plaza - quebec      -1      2 2023-02-15 09:53:14.145   \n",
       "7635           Conrad  - indianapolis      -1      1 2023-06-01 11:20:12.480   \n",
       "8224        Extended Stay  - montreal      -1      1 2023-02-13 10:32:29.265   \n",
       "8988                 Conrad  - boston      -1      1 2023-07-15 10:22:14.970   \n",
       "9212          Radisson  - san antonio      -1      1 2023-07-08 11:34:58.980   \n",
       "9329                  Hilton - boston      -1      2 2023-04-20 09:30:39.555   \n",
       "10626               Conrad  - toronto      -1      1 2023-05-23 10:19:34.815   \n",
       "10632            NH Hotel  - new york      -1      2 2023-06-12 11:50:51.360   \n",
       "11163               Accor - milwaukee      -1      2 2023-01-24 11:46:15.960   \n",
       "11420       Four Seasons - louisville      -1      1 2023-05-22 09:30:57.375   \n",
       "11889       Aman Resorts - fort worth      -1      1 2023-02-19 11:49:54.570   \n",
       "\n",
       "           check_out_time  hotel_per_room_usd  check_in_dayofyear  \\\n",
       "1454  2023-05-01 11:00:00                 206                 122   \n",
       "2131  2023-01-29 11:00:00                 244                  30   \n",
       "3405  2023-02-26 11:00:00                 112                  58   \n",
       "3671  2023-05-21 11:00:00                  52                 142   \n",
       "4448  2023-03-10 11:00:00                 310                  70   \n",
       "4512  2023-01-15 11:00:00                 140                  16   \n",
       "4524  2023-02-04 11:00:00                  79                  36   \n",
       "4807  2023-03-10 11:00:00                 421                  70   \n",
       "4863  2023-02-20 11:00:00                 159                  52   \n",
       "5107  2023-01-19 11:00:00                 110                  20   \n",
       "6614  2023-06-17 11:00:00                 112                 169   \n",
       "6977  2023-04-15 11:00:00                 103                 106   \n",
       "7181  2023-01-18 11:00:00                 241                  19   \n",
       "7467  2023-02-27 11:00:00                 391                  59   \n",
       "7483  2023-02-15 11:00:00                 142                  47   \n",
       "7515  2023-02-14 11:00:00                 256                  46   \n",
       "7635  2023-05-31 11:00:00                 362                 152   \n",
       "8224  2023-02-12 11:00:00                 437                  44   \n",
       "8988  2023-07-14 11:00:00                  70                 196   \n",
       "9212  2023-07-07 11:00:00                 161                 189   \n",
       "9329  2023-04-19 11:00:00                 289                 110   \n",
       "10626 2023-05-22 11:00:00                 250                 143   \n",
       "10632 2023-06-11 11:00:00                 156                 163   \n",
       "11163 2023-01-23 11:00:00                 140                  24   \n",
       "11420 2023-05-21 11:00:00                  81                 142   \n",
       "11889 2023-02-18 11:00:00                  92                  50   \n",
       "\n",
       "       check_in_hour  check_out_dayofyear  check_out_hour  new_nights  \n",
       "1454              10                  121              11          -1  \n",
       "2131              11                   29              11          -1  \n",
       "3405               9                   57              11          -1  \n",
       "3671               9                  141              11          -1  \n",
       "4448              10                   69              11          -1  \n",
       "4512              11                   15              11          -1  \n",
       "4524              11                   35              11          -1  \n",
       "4807               9                   69              11          -1  \n",
       "4863              11                   51              11          -1  \n",
       "5107              11                   19              11          -1  \n",
       "6614               9                  168              11          -1  \n",
       "6977              20                  105              11          -1  \n",
       "7181               9                   18              11          -1  \n",
       "7467              11                   58              11          -1  \n",
       "7483              11                   46              11          -1  \n",
       "7515               9                   45              11          -1  \n",
       "7635              11                  151              11          -1  \n",
       "8224              10                   43              11          -1  \n",
       "8988              10                  195              11          -1  \n",
       "9212              11                  188              11          -1  \n",
       "9329               9                  109              11          -1  \n",
       "10626             10                  142              11          -1  \n",
       "10632             11                  162              11          -1  \n",
       "11163             11                   23              11          -1  \n",
       "11420              9                  141              11          -1  \n",
       "11889             11                   49              11          -1  "
      ],
      "text/html": [
       "<div>\n",
       "<style scoped>\n",
       "    .dataframe tbody tr th:only-of-type {\n",
       "        vertical-align: middle;\n",
       "    }\n",
       "\n",
       "    .dataframe tbody tr th {\n",
       "        vertical-align: top;\n",
       "    }\n",
       "\n",
       "    .dataframe thead th {\n",
       "        text-align: right;\n",
       "    }\n",
       "</style>\n",
       "<table border=\"1\" class=\"dataframe\">\n",
       "  <thead>\n",
       "    <tr style=\"text-align: right;\">\n",
       "      <th></th>\n",
       "      <th>trip_id</th>\n",
       "      <th>hotel_name</th>\n",
       "      <th>nights</th>\n",
       "      <th>rooms</th>\n",
       "      <th>check_in_time</th>\n",
       "      <th>check_out_time</th>\n",
       "      <th>hotel_per_room_usd</th>\n",
       "      <th>check_in_dayofyear</th>\n",
       "      <th>check_in_hour</th>\n",
       "      <th>check_out_dayofyear</th>\n",
       "      <th>check_out_hour</th>\n",
       "      <th>new_nights</th>\n",
       "    </tr>\n",
       "  </thead>\n",
       "  <tbody>\n",
       "    <tr>\n",
       "      <th>1454</th>\n",
       "      <td>602598-22e0198df949454b92c7ee3f00d103f5</td>\n",
       "      <td>Conrad  - charlotte</td>\n",
       "      <td>-1</td>\n",
       "      <td>3</td>\n",
       "      <td>2023-05-02 10:05:37.230</td>\n",
       "      <td>2023-05-01 11:00:00</td>\n",
       "      <td>206</td>\n",
       "      <td>122</td>\n",
       "      <td>10</td>\n",
       "      <td>121</td>\n",
       "      <td>11</td>\n",
       "      <td>-1</td>\n",
       "    </tr>\n",
       "    <tr>\n",
       "      <th>2131</th>\n",
       "      <td>518998-bdc08a2047d545d2b2b024aac212a5f6</td>\n",
       "      <td>Extended Stay  - new york</td>\n",
       "      <td>-1</td>\n",
       "      <td>1</td>\n",
       "      <td>2023-01-30 11:03:20.565</td>\n",
       "      <td>2023-01-29 11:00:00</td>\n",
       "      <td>244</td>\n",
       "      <td>30</td>\n",
       "      <td>11</td>\n",
       "      <td>29</td>\n",
       "      <td>11</td>\n",
       "      <td>-1</td>\n",
       "    </tr>\n",
       "    <tr>\n",
       "      <th>3405</th>\n",
       "      <td>602598-528773b7fe7940f794683d3638a386bd</td>\n",
       "      <td>Radisson  - boston</td>\n",
       "      <td>-1</td>\n",
       "      <td>1</td>\n",
       "      <td>2023-02-27 09:22:14.970</td>\n",
       "      <td>2023-02-26 11:00:00</td>\n",
       "      <td>112</td>\n",
       "      <td>58</td>\n",
       "      <td>9</td>\n",
       "      <td>57</td>\n",
       "      <td>11</td>\n",
       "      <td>-1</td>\n",
       "    </tr>\n",
       "    <tr>\n",
       "      <th>3671</th>\n",
       "      <td>566875-ec782975633b4a48a5486870fd121934</td>\n",
       "      <td>NH Hotel  - new york</td>\n",
       "      <td>-1</td>\n",
       "      <td>1</td>\n",
       "      <td>2023-05-22 09:43:37.065</td>\n",
       "      <td>2023-05-21 11:00:00</td>\n",
       "      <td>52</td>\n",
       "      <td>142</td>\n",
       "      <td>9</td>\n",
       "      <td>141</td>\n",
       "      <td>11</td>\n",
       "      <td>-1</td>\n",
       "    </tr>\n",
       "    <tr>\n",
       "      <th>4448</th>\n",
       "      <td>528122-d58ec81e2ab44005a973f08d89905550</td>\n",
       "      <td>Hyatt - memphis</td>\n",
       "      <td>-1</td>\n",
       "      <td>1</td>\n",
       "      <td>2023-03-11 10:38:00.600</td>\n",
       "      <td>2023-03-10 11:00:00</td>\n",
       "      <td>310</td>\n",
       "      <td>70</td>\n",
       "      <td>10</td>\n",
       "      <td>69</td>\n",
       "      <td>11</td>\n",
       "      <td>-1</td>\n",
       "    </tr>\n",
       "    <tr>\n",
       "      <th>4512</th>\n",
       "      <td>518324-322ae705590744379ae7f288e2f4b9a9</td>\n",
       "      <td>Extended Stay  - houston</td>\n",
       "      <td>-1</td>\n",
       "      <td>1</td>\n",
       "      <td>2023-01-16 11:24:43.875</td>\n",
       "      <td>2023-01-15 11:00:00</td>\n",
       "      <td>140</td>\n",
       "      <td>16</td>\n",
       "      <td>11</td>\n",
       "      <td>15</td>\n",
       "      <td>11</td>\n",
       "      <td>-1</td>\n",
       "    </tr>\n",
       "    <tr>\n",
       "      <th>4524</th>\n",
       "      <td>526490-bc1872e571624ae5aac473a046c6e9bb</td>\n",
       "      <td>NH Hotel  - chicago</td>\n",
       "      <td>-1</td>\n",
       "      <td>1</td>\n",
       "      <td>2023-02-05 11:15:50.400</td>\n",
       "      <td>2023-02-04 11:00:00</td>\n",
       "      <td>79</td>\n",
       "      <td>36</td>\n",
       "      <td>11</td>\n",
       "      <td>35</td>\n",
       "      <td>11</td>\n",
       "      <td>-1</td>\n",
       "    </tr>\n",
       "    <tr>\n",
       "      <th>4807</th>\n",
       "      <td>521335-3cce682f216b42a1a8778811b89cd5c9</td>\n",
       "      <td>Extended Stay  - oklahoma city</td>\n",
       "      <td>-1</td>\n",
       "      <td>1</td>\n",
       "      <td>2023-03-11 09:59:40.290</td>\n",
       "      <td>2023-03-10 11:00:00</td>\n",
       "      <td>421</td>\n",
       "      <td>70</td>\n",
       "      <td>9</td>\n",
       "      <td>69</td>\n",
       "      <td>11</td>\n",
       "      <td>-1</td>\n",
       "    </tr>\n",
       "    <tr>\n",
       "      <th>4863</th>\n",
       "      <td>596320-67f28818cafd4a1c966362cf6730cd3b</td>\n",
       "      <td>Accor - philadelphia</td>\n",
       "      <td>-1</td>\n",
       "      <td>3</td>\n",
       "      <td>2023-02-21 11:08:20.175</td>\n",
       "      <td>2023-02-20 11:00:00</td>\n",
       "      <td>159</td>\n",
       "      <td>52</td>\n",
       "      <td>11</td>\n",
       "      <td>51</td>\n",
       "      <td>11</td>\n",
       "      <td>-1</td>\n",
       "    </tr>\n",
       "    <tr>\n",
       "      <th>5107</th>\n",
       "      <td>532063-c4ec4ea4518841909efb934203f18974</td>\n",
       "      <td>Banyan Tree  - nashville</td>\n",
       "      <td>-1</td>\n",
       "      <td>1</td>\n",
       "      <td>2023-01-20 11:53:04.830</td>\n",
       "      <td>2023-01-19 11:00:00</td>\n",
       "      <td>110</td>\n",
       "      <td>20</td>\n",
       "      <td>11</td>\n",
       "      <td>19</td>\n",
       "      <td>11</td>\n",
       "      <td>-1</td>\n",
       "    </tr>\n",
       "    <tr>\n",
       "      <th>6614</th>\n",
       "      <td>768291-6571708d6a0445b683464f6cabecda0a</td>\n",
       "      <td>Four Seasons - houston</td>\n",
       "      <td>-1</td>\n",
       "      <td>1</td>\n",
       "      <td>2023-06-18 09:29:35.610</td>\n",
       "      <td>2023-06-17 11:00:00</td>\n",
       "      <td>112</td>\n",
       "      <td>169</td>\n",
       "      <td>9</td>\n",
       "      <td>168</td>\n",
       "      <td>11</td>\n",
       "      <td>-1</td>\n",
       "    </tr>\n",
       "    <tr>\n",
       "      <th>6977</th>\n",
       "      <td>540819-34df787c1f3c4138ae4215c54a2d6b23</td>\n",
       "      <td>Best Western - san francisco</td>\n",
       "      <td>-2</td>\n",
       "      <td>1</td>\n",
       "      <td>2023-04-16 20:06:42.075</td>\n",
       "      <td>2023-04-15 11:00:00</td>\n",
       "      <td>103</td>\n",
       "      <td>106</td>\n",
       "      <td>20</td>\n",
       "      <td>105</td>\n",
       "      <td>11</td>\n",
       "      <td>-1</td>\n",
       "    </tr>\n",
       "    <tr>\n",
       "      <th>7181</th>\n",
       "      <td>490629-a665c40e82c0472c9ebe27b8ca91ec76</td>\n",
       "      <td>Hilton - toronto</td>\n",
       "      <td>-1</td>\n",
       "      <td>1</td>\n",
       "      <td>2023-01-19 09:42:32.580</td>\n",
       "      <td>2023-01-18 11:00:00</td>\n",
       "      <td>241</td>\n",
       "      <td>19</td>\n",
       "      <td>9</td>\n",
       "      <td>18</td>\n",
       "      <td>11</td>\n",
       "      <td>-1</td>\n",
       "    </tr>\n",
       "    <tr>\n",
       "      <th>7467</th>\n",
       "      <td>535912-1d604650c0004ba99fcc111cd5f3cb9c</td>\n",
       "      <td>Starwood  - toronto</td>\n",
       "      <td>-1</td>\n",
       "      <td>1</td>\n",
       "      <td>2023-02-28 11:46:07.995</td>\n",
       "      <td>2023-02-27 11:00:00</td>\n",
       "      <td>391</td>\n",
       "      <td>59</td>\n",
       "      <td>11</td>\n",
       "      <td>58</td>\n",
       "      <td>11</td>\n",
       "      <td>-1</td>\n",
       "    </tr>\n",
       "    <tr>\n",
       "      <th>7483</th>\n",
       "      <td>550229-f2303e3e13894c71a8ff49fd131e8b34</td>\n",
       "      <td>Hyatt - oklahoma city</td>\n",
       "      <td>-1</td>\n",
       "      <td>2</td>\n",
       "      <td>2023-02-16 11:56:19.410</td>\n",
       "      <td>2023-02-15 11:00:00</td>\n",
       "      <td>142</td>\n",
       "      <td>47</td>\n",
       "      <td>11</td>\n",
       "      <td>46</td>\n",
       "      <td>11</td>\n",
       "      <td>-1</td>\n",
       "    </tr>\n",
       "    <tr>\n",
       "      <th>7515</th>\n",
       "      <td>562869-68a4238d4adc4246b669bf66c43845ca</td>\n",
       "      <td>Crowne Plaza - quebec</td>\n",
       "      <td>-1</td>\n",
       "      <td>2</td>\n",
       "      <td>2023-02-15 09:53:14.145</td>\n",
       "      <td>2023-02-14 11:00:00</td>\n",
       "      <td>256</td>\n",
       "      <td>46</td>\n",
       "      <td>9</td>\n",
       "      <td>45</td>\n",
       "      <td>11</td>\n",
       "      <td>-1</td>\n",
       "    </tr>\n",
       "    <tr>\n",
       "      <th>7635</th>\n",
       "      <td>502444-57ea530e2f7d44f2af7bcf2997ddce45</td>\n",
       "      <td>Conrad  - indianapolis</td>\n",
       "      <td>-1</td>\n",
       "      <td>1</td>\n",
       "      <td>2023-06-01 11:20:12.480</td>\n",
       "      <td>2023-05-31 11:00:00</td>\n",
       "      <td>362</td>\n",
       "      <td>152</td>\n",
       "      <td>11</td>\n",
       "      <td>151</td>\n",
       "      <td>11</td>\n",
       "      <td>-1</td>\n",
       "    </tr>\n",
       "    <tr>\n",
       "      <th>8224</th>\n",
       "      <td>530118-4b5c287a469d46a4ae31b285938524ba</td>\n",
       "      <td>Extended Stay  - montreal</td>\n",
       "      <td>-1</td>\n",
       "      <td>1</td>\n",
       "      <td>2023-02-13 10:32:29.265</td>\n",
       "      <td>2023-02-12 11:00:00</td>\n",
       "      <td>437</td>\n",
       "      <td>44</td>\n",
       "      <td>10</td>\n",
       "      <td>43</td>\n",
       "      <td>11</td>\n",
       "      <td>-1</td>\n",
       "    </tr>\n",
       "    <tr>\n",
       "      <th>8988</th>\n",
       "      <td>416319-ddacfc9d2d9943c1b652c01b2c593e95</td>\n",
       "      <td>Conrad  - boston</td>\n",
       "      <td>-1</td>\n",
       "      <td>1</td>\n",
       "      <td>2023-07-15 10:22:14.970</td>\n",
       "      <td>2023-07-14 11:00:00</td>\n",
       "      <td>70</td>\n",
       "      <td>196</td>\n",
       "      <td>10</td>\n",
       "      <td>195</td>\n",
       "      <td>11</td>\n",
       "      <td>-1</td>\n",
       "    </tr>\n",
       "    <tr>\n",
       "      <th>9212</th>\n",
       "      <td>506250-134d680a8ca64d99aba801607c3ed32d</td>\n",
       "      <td>Radisson  - san antonio</td>\n",
       "      <td>-1</td>\n",
       "      <td>1</td>\n",
       "      <td>2023-07-08 11:34:58.980</td>\n",
       "      <td>2023-07-07 11:00:00</td>\n",
       "      <td>161</td>\n",
       "      <td>189</td>\n",
       "      <td>11</td>\n",
       "      <td>188</td>\n",
       "      <td>11</td>\n",
       "      <td>-1</td>\n",
       "    </tr>\n",
       "    <tr>\n",
       "      <th>9329</th>\n",
       "      <td>505771-5e21117bdbf1419eb632c0918be907a3</td>\n",
       "      <td>Hilton - boston</td>\n",
       "      <td>-1</td>\n",
       "      <td>2</td>\n",
       "      <td>2023-04-20 09:30:39.555</td>\n",
       "      <td>2023-04-19 11:00:00</td>\n",
       "      <td>289</td>\n",
       "      <td>110</td>\n",
       "      <td>9</td>\n",
       "      <td>109</td>\n",
       "      <td>11</td>\n",
       "      <td>-1</td>\n",
       "    </tr>\n",
       "    <tr>\n",
       "      <th>10626</th>\n",
       "      <td>565827-929863c95c16459ab78c9a8e8f5d438a</td>\n",
       "      <td>Conrad  - toronto</td>\n",
       "      <td>-1</td>\n",
       "      <td>1</td>\n",
       "      <td>2023-05-23 10:19:34.815</td>\n",
       "      <td>2023-05-22 11:00:00</td>\n",
       "      <td>250</td>\n",
       "      <td>143</td>\n",
       "      <td>10</td>\n",
       "      <td>142</td>\n",
       "      <td>11</td>\n",
       "      <td>-1</td>\n",
       "    </tr>\n",
       "    <tr>\n",
       "      <th>10632</th>\n",
       "      <td>504936-4de22c9efa0840b2b1469f5c92019611</td>\n",
       "      <td>NH Hotel  - new york</td>\n",
       "      <td>-1</td>\n",
       "      <td>2</td>\n",
       "      <td>2023-06-12 11:50:51.360</td>\n",
       "      <td>2023-06-11 11:00:00</td>\n",
       "      <td>156</td>\n",
       "      <td>163</td>\n",
       "      <td>11</td>\n",
       "      <td>162</td>\n",
       "      <td>11</td>\n",
       "      <td>-1</td>\n",
       "    </tr>\n",
       "    <tr>\n",
       "      <th>11163</th>\n",
       "      <td>518527-8be48202730b41dfb116591d401cda74</td>\n",
       "      <td>Accor - milwaukee</td>\n",
       "      <td>-1</td>\n",
       "      <td>2</td>\n",
       "      <td>2023-01-24 11:46:15.960</td>\n",
       "      <td>2023-01-23 11:00:00</td>\n",
       "      <td>140</td>\n",
       "      <td>24</td>\n",
       "      <td>11</td>\n",
       "      <td>23</td>\n",
       "      <td>11</td>\n",
       "      <td>-1</td>\n",
       "    </tr>\n",
       "    <tr>\n",
       "      <th>11420</th>\n",
       "      <td>549274-e9762318b4434de09638968f7fe5f2e8</td>\n",
       "      <td>Four Seasons - louisville</td>\n",
       "      <td>-1</td>\n",
       "      <td>1</td>\n",
       "      <td>2023-05-22 09:30:57.375</td>\n",
       "      <td>2023-05-21 11:00:00</td>\n",
       "      <td>81</td>\n",
       "      <td>142</td>\n",
       "      <td>9</td>\n",
       "      <td>141</td>\n",
       "      <td>11</td>\n",
       "      <td>-1</td>\n",
       "    </tr>\n",
       "    <tr>\n",
       "      <th>11889</th>\n",
       "      <td>543778-cdc9bc67fc074436ba74c4bdacaf59ad</td>\n",
       "      <td>Aman Resorts - fort worth</td>\n",
       "      <td>-1</td>\n",
       "      <td>1</td>\n",
       "      <td>2023-02-19 11:49:54.570</td>\n",
       "      <td>2023-02-18 11:00:00</td>\n",
       "      <td>92</td>\n",
       "      <td>50</td>\n",
       "      <td>11</td>\n",
       "      <td>49</td>\n",
       "      <td>11</td>\n",
       "      <td>-1</td>\n",
       "    </tr>\n",
       "  </tbody>\n",
       "</table>\n",
       "</div>"
      ]
     },
     "execution_count": 106,
     "metadata": {},
     "output_type": "execute_result"
    }
   ],
   "execution_count": 106
  },
  {
   "cell_type": "code",
   "id": "2451341e11d4558d",
   "metadata": {
    "ExecuteTime": {
     "end_time": "2025-04-21T17:30:52.829107Z",
     "start_time": "2025-04-21T17:30:52.824226Z"
    }
   },
   "source": [
    "df['nights'] = df['new_nights']"
   ],
   "outputs": [],
   "execution_count": 107
  },
  {
   "cell_type": "code",
   "id": "7d04cd1ad4b61291",
   "metadata": {
    "ExecuteTime": {
     "end_time": "2025-04-21T17:30:55.297254Z",
     "start_time": "2025-04-21T17:30:55.290021Z"
    }
   },
   "source": [
    "df.drop(columns=['new_nights'], inplace=True)"
   ],
   "outputs": [],
   "execution_count": 108
  },
  {
   "cell_type": "code",
   "id": "11087ec371a228f3",
   "metadata": {
    "ExecuteTime": {
     "end_time": "2025-04-21T17:30:57.010582Z",
     "start_time": "2025-04-21T17:30:56.989876Z"
    }
   },
   "source": [
    "df"
   ],
   "outputs": [
    {
     "data": {
      "text/plain": [
       "                                       trip_id                 hotel_name  \\\n",
       "0      582979-5475b9940ee240bf9328a0cc0bc9900c         NH Hotel  - ottawa   \n",
       "1      588386-233db0f627cf4aaaaeaa9a632daa5ec4       Accor - philadelphia   \n",
       "2      514785-863ac3b4eb984f1eb226d67955623a5d   Choice Hotels - montreal   \n",
       "3      600395-79e934e3dcf2462587a0beffbebd6783        Marriott  - memphis   \n",
       "4      474120-a87f749cf54b4f4ca9262d07080a06b2      Accor - san francisco   \n",
       "...                                        ...                        ...   \n",
       "13767  583623-70097bf1d1334cfb891ac2bd09f448ae      Shangri-La - montreal   \n",
       "13768  512377-acf089357a6b497d91eda34bb532578d     Marriott  - washington   \n",
       "13769  497042-fa163de72e234eaf9c9bc8b477fbf66a        Hyatt - san antonio   \n",
       "13770  598533-40848e5db09e46aa8f56c0c3ccdefb2d              Hyatt - macau   \n",
       "13771  610144-4e95defd2af24ea190dab8b1f563fd77  Four Seasons - louisville   \n",
       "\n",
       "       nights  rooms           check_in_time      check_out_time  \\\n",
       "0           7      1 2023-03-31 13:32:21.030 2023-04-07 11:00:00   \n",
       "1           1      1 2023-04-04 10:43:44.175 2023-04-05 11:00:00   \n",
       "2           4      1 2023-06-21 20:06:24.300 2023-06-25 11:00:00   \n",
       "3           2      2 2023-04-21 15:58:28.200 2023-04-23 11:00:00   \n",
       "4           5      2 2023-02-02 14:18:11.205 2023-02-07 11:00:00   \n",
       "...       ...    ...                     ...                 ...   \n",
       "13767       4      1 2023-02-23 17:25:07.185 2023-02-27 11:00:00   \n",
       "13768       6      1 2023-04-02 12:25:51.465 2023-04-08 11:00:00   \n",
       "13769       2      1 2023-04-13 11:40:58.350 2023-04-15 11:00:00   \n",
       "13770      12      1 2024-01-24 09:54:31.635 2024-02-05 11:00:00   \n",
       "13771       6      1 2023-07-05 17:42:22.545 2023-07-11 11:00:00   \n",
       "\n",
       "       hotel_per_room_usd  check_in_dayofyear  check_in_hour  \\\n",
       "0                     110                  90             13   \n",
       "1                     126                  94             10   \n",
       "2                      87                 172             20   \n",
       "3                     153                 111             15   \n",
       "4                     346                  33             14   \n",
       "...                   ...                 ...            ...   \n",
       "13767                 142                  54             17   \n",
       "13768                 446                  92             12   \n",
       "13769                 103                 103             11   \n",
       "13770                 114                  24              9   \n",
       "13771                 341                 186             17   \n",
       "\n",
       "       check_out_dayofyear  check_out_hour  \n",
       "0                       97              11  \n",
       "1                       95              11  \n",
       "2                      176              11  \n",
       "3                      113              11  \n",
       "4                       38              11  \n",
       "...                    ...             ...  \n",
       "13767                   58              11  \n",
       "13768                   98              11  \n",
       "13769                  105              11  \n",
       "13770                   36              11  \n",
       "13771                  192              11  \n",
       "\n",
       "[13772 rows x 11 columns]"
      ],
      "text/html": [
       "<div>\n",
       "<style scoped>\n",
       "    .dataframe tbody tr th:only-of-type {\n",
       "        vertical-align: middle;\n",
       "    }\n",
       "\n",
       "    .dataframe tbody tr th {\n",
       "        vertical-align: top;\n",
       "    }\n",
       "\n",
       "    .dataframe thead th {\n",
       "        text-align: right;\n",
       "    }\n",
       "</style>\n",
       "<table border=\"1\" class=\"dataframe\">\n",
       "  <thead>\n",
       "    <tr style=\"text-align: right;\">\n",
       "      <th></th>\n",
       "      <th>trip_id</th>\n",
       "      <th>hotel_name</th>\n",
       "      <th>nights</th>\n",
       "      <th>rooms</th>\n",
       "      <th>check_in_time</th>\n",
       "      <th>check_out_time</th>\n",
       "      <th>hotel_per_room_usd</th>\n",
       "      <th>check_in_dayofyear</th>\n",
       "      <th>check_in_hour</th>\n",
       "      <th>check_out_dayofyear</th>\n",
       "      <th>check_out_hour</th>\n",
       "    </tr>\n",
       "  </thead>\n",
       "  <tbody>\n",
       "    <tr>\n",
       "      <th>0</th>\n",
       "      <td>582979-5475b9940ee240bf9328a0cc0bc9900c</td>\n",
       "      <td>NH Hotel  - ottawa</td>\n",
       "      <td>7</td>\n",
       "      <td>1</td>\n",
       "      <td>2023-03-31 13:32:21.030</td>\n",
       "      <td>2023-04-07 11:00:00</td>\n",
       "      <td>110</td>\n",
       "      <td>90</td>\n",
       "      <td>13</td>\n",
       "      <td>97</td>\n",
       "      <td>11</td>\n",
       "    </tr>\n",
       "    <tr>\n",
       "      <th>1</th>\n",
       "      <td>588386-233db0f627cf4aaaaeaa9a632daa5ec4</td>\n",
       "      <td>Accor - philadelphia</td>\n",
       "      <td>1</td>\n",
       "      <td>1</td>\n",
       "      <td>2023-04-04 10:43:44.175</td>\n",
       "      <td>2023-04-05 11:00:00</td>\n",
       "      <td>126</td>\n",
       "      <td>94</td>\n",
       "      <td>10</td>\n",
       "      <td>95</td>\n",
       "      <td>11</td>\n",
       "    </tr>\n",
       "    <tr>\n",
       "      <th>2</th>\n",
       "      <td>514785-863ac3b4eb984f1eb226d67955623a5d</td>\n",
       "      <td>Choice Hotels - montreal</td>\n",
       "      <td>4</td>\n",
       "      <td>1</td>\n",
       "      <td>2023-06-21 20:06:24.300</td>\n",
       "      <td>2023-06-25 11:00:00</td>\n",
       "      <td>87</td>\n",
       "      <td>172</td>\n",
       "      <td>20</td>\n",
       "      <td>176</td>\n",
       "      <td>11</td>\n",
       "    </tr>\n",
       "    <tr>\n",
       "      <th>3</th>\n",
       "      <td>600395-79e934e3dcf2462587a0beffbebd6783</td>\n",
       "      <td>Marriott  - memphis</td>\n",
       "      <td>2</td>\n",
       "      <td>2</td>\n",
       "      <td>2023-04-21 15:58:28.200</td>\n",
       "      <td>2023-04-23 11:00:00</td>\n",
       "      <td>153</td>\n",
       "      <td>111</td>\n",
       "      <td>15</td>\n",
       "      <td>113</td>\n",
       "      <td>11</td>\n",
       "    </tr>\n",
       "    <tr>\n",
       "      <th>4</th>\n",
       "      <td>474120-a87f749cf54b4f4ca9262d07080a06b2</td>\n",
       "      <td>Accor - san francisco</td>\n",
       "      <td>5</td>\n",
       "      <td>2</td>\n",
       "      <td>2023-02-02 14:18:11.205</td>\n",
       "      <td>2023-02-07 11:00:00</td>\n",
       "      <td>346</td>\n",
       "      <td>33</td>\n",
       "      <td>14</td>\n",
       "      <td>38</td>\n",
       "      <td>11</td>\n",
       "    </tr>\n",
       "    <tr>\n",
       "      <th>...</th>\n",
       "      <td>...</td>\n",
       "      <td>...</td>\n",
       "      <td>...</td>\n",
       "      <td>...</td>\n",
       "      <td>...</td>\n",
       "      <td>...</td>\n",
       "      <td>...</td>\n",
       "      <td>...</td>\n",
       "      <td>...</td>\n",
       "      <td>...</td>\n",
       "      <td>...</td>\n",
       "    </tr>\n",
       "    <tr>\n",
       "      <th>13767</th>\n",
       "      <td>583623-70097bf1d1334cfb891ac2bd09f448ae</td>\n",
       "      <td>Shangri-La - montreal</td>\n",
       "      <td>4</td>\n",
       "      <td>1</td>\n",
       "      <td>2023-02-23 17:25:07.185</td>\n",
       "      <td>2023-02-27 11:00:00</td>\n",
       "      <td>142</td>\n",
       "      <td>54</td>\n",
       "      <td>17</td>\n",
       "      <td>58</td>\n",
       "      <td>11</td>\n",
       "    </tr>\n",
       "    <tr>\n",
       "      <th>13768</th>\n",
       "      <td>512377-acf089357a6b497d91eda34bb532578d</td>\n",
       "      <td>Marriott  - washington</td>\n",
       "      <td>6</td>\n",
       "      <td>1</td>\n",
       "      <td>2023-04-02 12:25:51.465</td>\n",
       "      <td>2023-04-08 11:00:00</td>\n",
       "      <td>446</td>\n",
       "      <td>92</td>\n",
       "      <td>12</td>\n",
       "      <td>98</td>\n",
       "      <td>11</td>\n",
       "    </tr>\n",
       "    <tr>\n",
       "      <th>13769</th>\n",
       "      <td>497042-fa163de72e234eaf9c9bc8b477fbf66a</td>\n",
       "      <td>Hyatt - san antonio</td>\n",
       "      <td>2</td>\n",
       "      <td>1</td>\n",
       "      <td>2023-04-13 11:40:58.350</td>\n",
       "      <td>2023-04-15 11:00:00</td>\n",
       "      <td>103</td>\n",
       "      <td>103</td>\n",
       "      <td>11</td>\n",
       "      <td>105</td>\n",
       "      <td>11</td>\n",
       "    </tr>\n",
       "    <tr>\n",
       "      <th>13770</th>\n",
       "      <td>598533-40848e5db09e46aa8f56c0c3ccdefb2d</td>\n",
       "      <td>Hyatt - macau</td>\n",
       "      <td>12</td>\n",
       "      <td>1</td>\n",
       "      <td>2024-01-24 09:54:31.635</td>\n",
       "      <td>2024-02-05 11:00:00</td>\n",
       "      <td>114</td>\n",
       "      <td>24</td>\n",
       "      <td>9</td>\n",
       "      <td>36</td>\n",
       "      <td>11</td>\n",
       "    </tr>\n",
       "    <tr>\n",
       "      <th>13771</th>\n",
       "      <td>610144-4e95defd2af24ea190dab8b1f563fd77</td>\n",
       "      <td>Four Seasons - louisville</td>\n",
       "      <td>6</td>\n",
       "      <td>1</td>\n",
       "      <td>2023-07-05 17:42:22.545</td>\n",
       "      <td>2023-07-11 11:00:00</td>\n",
       "      <td>341</td>\n",
       "      <td>186</td>\n",
       "      <td>17</td>\n",
       "      <td>192</td>\n",
       "      <td>11</td>\n",
       "    </tr>\n",
       "  </tbody>\n",
       "</table>\n",
       "<p>13772 rows × 11 columns</p>\n",
       "</div>"
      ]
     },
     "execution_count": 109,
     "metadata": {},
     "output_type": "execute_result"
    }
   ],
   "execution_count": 109
  },
  {
   "cell_type": "markdown",
   "id": "3246a3f89739538d",
   "metadata": {},
   "source": [
    "lambda function"
   ]
  },
  {
   "cell_type": "code",
   "id": "2e119b1118f34b48",
   "metadata": {
    "ExecuteTime": {
     "end_time": "2025-04-21T17:32:52.650344Z",
     "start_time": "2025-04-21T17:32:52.621296Z"
    }
   },
   "source": [
    "df['nights'] = df['nights'].apply(lambda x: abs(x) if x<0 else x)\n",
    "df"
   ],
   "outputs": [
    {
     "data": {
      "text/plain": [
       "                                       trip_id                 hotel_name  \\\n",
       "0      582979-5475b9940ee240bf9328a0cc0bc9900c         NH Hotel  - ottawa   \n",
       "1      588386-233db0f627cf4aaaaeaa9a632daa5ec4       Accor - philadelphia   \n",
       "2      514785-863ac3b4eb984f1eb226d67955623a5d   Choice Hotels - montreal   \n",
       "3      600395-79e934e3dcf2462587a0beffbebd6783        Marriott  - memphis   \n",
       "4      474120-a87f749cf54b4f4ca9262d07080a06b2      Accor - san francisco   \n",
       "...                                        ...                        ...   \n",
       "13767  583623-70097bf1d1334cfb891ac2bd09f448ae      Shangri-La - montreal   \n",
       "13768  512377-acf089357a6b497d91eda34bb532578d     Marriott  - washington   \n",
       "13769  497042-fa163de72e234eaf9c9bc8b477fbf66a        Hyatt - san antonio   \n",
       "13770  598533-40848e5db09e46aa8f56c0c3ccdefb2d              Hyatt - macau   \n",
       "13771  610144-4e95defd2af24ea190dab8b1f563fd77  Four Seasons - louisville   \n",
       "\n",
       "       nights  rooms           check_in_time      check_out_time  \\\n",
       "0           7      1 2023-03-31 13:32:21.030 2023-04-07 11:00:00   \n",
       "1           1      1 2023-04-04 10:43:44.175 2023-04-05 11:00:00   \n",
       "2           4      1 2023-06-21 20:06:24.300 2023-06-25 11:00:00   \n",
       "3           2      2 2023-04-21 15:58:28.200 2023-04-23 11:00:00   \n",
       "4           5      2 2023-02-02 14:18:11.205 2023-02-07 11:00:00   \n",
       "...       ...    ...                     ...                 ...   \n",
       "13767       4      1 2023-02-23 17:25:07.185 2023-02-27 11:00:00   \n",
       "13768       6      1 2023-04-02 12:25:51.465 2023-04-08 11:00:00   \n",
       "13769       2      1 2023-04-13 11:40:58.350 2023-04-15 11:00:00   \n",
       "13770      12      1 2024-01-24 09:54:31.635 2024-02-05 11:00:00   \n",
       "13771       6      1 2023-07-05 17:42:22.545 2023-07-11 11:00:00   \n",
       "\n",
       "       hotel_per_room_usd  check_in_dayofyear  check_in_hour  \\\n",
       "0                     110                  90             13   \n",
       "1                     126                  94             10   \n",
       "2                      87                 172             20   \n",
       "3                     153                 111             15   \n",
       "4                     346                  33             14   \n",
       "...                   ...                 ...            ...   \n",
       "13767                 142                  54             17   \n",
       "13768                 446                  92             12   \n",
       "13769                 103                 103             11   \n",
       "13770                 114                  24              9   \n",
       "13771                 341                 186             17   \n",
       "\n",
       "       check_out_dayofyear  check_out_hour  \n",
       "0                       97              11  \n",
       "1                       95              11  \n",
       "2                      176              11  \n",
       "3                      113              11  \n",
       "4                       38              11  \n",
       "...                    ...             ...  \n",
       "13767                   58              11  \n",
       "13768                   98              11  \n",
       "13769                  105              11  \n",
       "13770                   36              11  \n",
       "13771                  192              11  \n",
       "\n",
       "[13772 rows x 11 columns]"
      ],
      "text/html": [
       "<div>\n",
       "<style scoped>\n",
       "    .dataframe tbody tr th:only-of-type {\n",
       "        vertical-align: middle;\n",
       "    }\n",
       "\n",
       "    .dataframe tbody tr th {\n",
       "        vertical-align: top;\n",
       "    }\n",
       "\n",
       "    .dataframe thead th {\n",
       "        text-align: right;\n",
       "    }\n",
       "</style>\n",
       "<table border=\"1\" class=\"dataframe\">\n",
       "  <thead>\n",
       "    <tr style=\"text-align: right;\">\n",
       "      <th></th>\n",
       "      <th>trip_id</th>\n",
       "      <th>hotel_name</th>\n",
       "      <th>nights</th>\n",
       "      <th>rooms</th>\n",
       "      <th>check_in_time</th>\n",
       "      <th>check_out_time</th>\n",
       "      <th>hotel_per_room_usd</th>\n",
       "      <th>check_in_dayofyear</th>\n",
       "      <th>check_in_hour</th>\n",
       "      <th>check_out_dayofyear</th>\n",
       "      <th>check_out_hour</th>\n",
       "    </tr>\n",
       "  </thead>\n",
       "  <tbody>\n",
       "    <tr>\n",
       "      <th>0</th>\n",
       "      <td>582979-5475b9940ee240bf9328a0cc0bc9900c</td>\n",
       "      <td>NH Hotel  - ottawa</td>\n",
       "      <td>7</td>\n",
       "      <td>1</td>\n",
       "      <td>2023-03-31 13:32:21.030</td>\n",
       "      <td>2023-04-07 11:00:00</td>\n",
       "      <td>110</td>\n",
       "      <td>90</td>\n",
       "      <td>13</td>\n",
       "      <td>97</td>\n",
       "      <td>11</td>\n",
       "    </tr>\n",
       "    <tr>\n",
       "      <th>1</th>\n",
       "      <td>588386-233db0f627cf4aaaaeaa9a632daa5ec4</td>\n",
       "      <td>Accor - philadelphia</td>\n",
       "      <td>1</td>\n",
       "      <td>1</td>\n",
       "      <td>2023-04-04 10:43:44.175</td>\n",
       "      <td>2023-04-05 11:00:00</td>\n",
       "      <td>126</td>\n",
       "      <td>94</td>\n",
       "      <td>10</td>\n",
       "      <td>95</td>\n",
       "      <td>11</td>\n",
       "    </tr>\n",
       "    <tr>\n",
       "      <th>2</th>\n",
       "      <td>514785-863ac3b4eb984f1eb226d67955623a5d</td>\n",
       "      <td>Choice Hotels - montreal</td>\n",
       "      <td>4</td>\n",
       "      <td>1</td>\n",
       "      <td>2023-06-21 20:06:24.300</td>\n",
       "      <td>2023-06-25 11:00:00</td>\n",
       "      <td>87</td>\n",
       "      <td>172</td>\n",
       "      <td>20</td>\n",
       "      <td>176</td>\n",
       "      <td>11</td>\n",
       "    </tr>\n",
       "    <tr>\n",
       "      <th>3</th>\n",
       "      <td>600395-79e934e3dcf2462587a0beffbebd6783</td>\n",
       "      <td>Marriott  - memphis</td>\n",
       "      <td>2</td>\n",
       "      <td>2</td>\n",
       "      <td>2023-04-21 15:58:28.200</td>\n",
       "      <td>2023-04-23 11:00:00</td>\n",
       "      <td>153</td>\n",
       "      <td>111</td>\n",
       "      <td>15</td>\n",
       "      <td>113</td>\n",
       "      <td>11</td>\n",
       "    </tr>\n",
       "    <tr>\n",
       "      <th>4</th>\n",
       "      <td>474120-a87f749cf54b4f4ca9262d07080a06b2</td>\n",
       "      <td>Accor - san francisco</td>\n",
       "      <td>5</td>\n",
       "      <td>2</td>\n",
       "      <td>2023-02-02 14:18:11.205</td>\n",
       "      <td>2023-02-07 11:00:00</td>\n",
       "      <td>346</td>\n",
       "      <td>33</td>\n",
       "      <td>14</td>\n",
       "      <td>38</td>\n",
       "      <td>11</td>\n",
       "    </tr>\n",
       "    <tr>\n",
       "      <th>...</th>\n",
       "      <td>...</td>\n",
       "      <td>...</td>\n",
       "      <td>...</td>\n",
       "      <td>...</td>\n",
       "      <td>...</td>\n",
       "      <td>...</td>\n",
       "      <td>...</td>\n",
       "      <td>...</td>\n",
       "      <td>...</td>\n",
       "      <td>...</td>\n",
       "      <td>...</td>\n",
       "    </tr>\n",
       "    <tr>\n",
       "      <th>13767</th>\n",
       "      <td>583623-70097bf1d1334cfb891ac2bd09f448ae</td>\n",
       "      <td>Shangri-La - montreal</td>\n",
       "      <td>4</td>\n",
       "      <td>1</td>\n",
       "      <td>2023-02-23 17:25:07.185</td>\n",
       "      <td>2023-02-27 11:00:00</td>\n",
       "      <td>142</td>\n",
       "      <td>54</td>\n",
       "      <td>17</td>\n",
       "      <td>58</td>\n",
       "      <td>11</td>\n",
       "    </tr>\n",
       "    <tr>\n",
       "      <th>13768</th>\n",
       "      <td>512377-acf089357a6b497d91eda34bb532578d</td>\n",
       "      <td>Marriott  - washington</td>\n",
       "      <td>6</td>\n",
       "      <td>1</td>\n",
       "      <td>2023-04-02 12:25:51.465</td>\n",
       "      <td>2023-04-08 11:00:00</td>\n",
       "      <td>446</td>\n",
       "      <td>92</td>\n",
       "      <td>12</td>\n",
       "      <td>98</td>\n",
       "      <td>11</td>\n",
       "    </tr>\n",
       "    <tr>\n",
       "      <th>13769</th>\n",
       "      <td>497042-fa163de72e234eaf9c9bc8b477fbf66a</td>\n",
       "      <td>Hyatt - san antonio</td>\n",
       "      <td>2</td>\n",
       "      <td>1</td>\n",
       "      <td>2023-04-13 11:40:58.350</td>\n",
       "      <td>2023-04-15 11:00:00</td>\n",
       "      <td>103</td>\n",
       "      <td>103</td>\n",
       "      <td>11</td>\n",
       "      <td>105</td>\n",
       "      <td>11</td>\n",
       "    </tr>\n",
       "    <tr>\n",
       "      <th>13770</th>\n",
       "      <td>598533-40848e5db09e46aa8f56c0c3ccdefb2d</td>\n",
       "      <td>Hyatt - macau</td>\n",
       "      <td>12</td>\n",
       "      <td>1</td>\n",
       "      <td>2024-01-24 09:54:31.635</td>\n",
       "      <td>2024-02-05 11:00:00</td>\n",
       "      <td>114</td>\n",
       "      <td>24</td>\n",
       "      <td>9</td>\n",
       "      <td>36</td>\n",
       "      <td>11</td>\n",
       "    </tr>\n",
       "    <tr>\n",
       "      <th>13771</th>\n",
       "      <td>610144-4e95defd2af24ea190dab8b1f563fd77</td>\n",
       "      <td>Four Seasons - louisville</td>\n",
       "      <td>6</td>\n",
       "      <td>1</td>\n",
       "      <td>2023-07-05 17:42:22.545</td>\n",
       "      <td>2023-07-11 11:00:00</td>\n",
       "      <td>341</td>\n",
       "      <td>186</td>\n",
       "      <td>17</td>\n",
       "      <td>192</td>\n",
       "      <td>11</td>\n",
       "    </tr>\n",
       "  </tbody>\n",
       "</table>\n",
       "<p>13772 rows × 11 columns</p>\n",
       "</div>"
      ]
     },
     "execution_count": 114,
     "metadata": {},
     "output_type": "execute_result"
    }
   ],
   "execution_count": 114
  },
  {
   "cell_type": "code",
   "id": "1e9ff05c84537455",
   "metadata": {
    "ExecuteTime": {
     "end_time": "2025-04-21T17:31:29.878387Z",
     "start_time": "2025-04-21T17:31:29.810957Z"
    }
   },
   "source": "df.to_csv('../Data/hotels_new.csv', index=False)",
   "outputs": [],
   "execution_count": 112
  },
  {
   "cell_type": "code",
   "id": "95fc98ffbad4517c",
   "metadata": {
    "ExecuteTime": {
     "end_time": "2025-04-21T17:32:13.941538Z",
     "start_time": "2025-04-21T17:32:13.717722Z"
    }
   },
   "source": [
    "df['nights'].value_counts().sort_index(ascending=True).plot(kind='bar', figsize=(8, 5))"
   ],
   "outputs": [
    {
     "data": {
      "text/plain": [
       "<Axes: xlabel='nights'>"
      ]
     },
     "execution_count": 113,
     "metadata": {},
     "output_type": "execute_result"
    },
    {
     "data": {
      "text/plain": [
       "<Figure size 800x500 with 1 Axes>"
      ],
      "image/png": "[encoded data removed]"
     },
     "metadata": {},
     "output_type": "display_data"
    }
   ],
   "execution_count": 113
  },
  {
   "cell_type": "markdown",
   "id": "54dd7e5f0bcfd175",
   "metadata": {},
   "source": [
    "# Flights"
   ]
  },
  {
   "cell_type": "code",
   "id": "c0b0705780770571",
   "metadata": {
    "ExecuteTime": {
     "end_time": "2025-04-21T17:34:27.790888Z",
     "start_time": "2025-04-21T17:34:27.763688Z"
    }
   },
   "source": "df = pd.read_csv('../data/flights.csv')",
   "outputs": [],
   "execution_count": 119
  },
  {
   "cell_type": "code",
   "id": "7e36d2960c319dd3",
   "metadata": {
    "ExecuteTime": {
     "end_time": "2025-04-21T17:34:35.552565Z",
     "start_time": "2025-04-21T17:34:35.542875Z"
    }
   },
   "source": [
    "df.head()"
   ],
   "outputs": [
    {
     "data": {
      "text/plain": [
       "                                   trip_id origin_airport    destination  \\\n",
       "0  582979-5475b9940ee240bf9328a0cc0bc9900c            RNO         ottawa   \n",
       "1  588386-233db0f627cf4aaaaeaa9a632daa5ec4            CLE   philadelphia   \n",
       "2  514785-863ac3b4eb984f1eb226d67955623a5d            FTW       montreal   \n",
       "3  600395-79e934e3dcf2462587a0beffbebd6783            HOU        memphis   \n",
       "4  474120-a87f749cf54b4f4ca9262d07080a06b2            YQB  san francisco   \n",
       "\n",
       "  destination_airport  seats  return_flight_booked  \\\n",
       "0                 YOW      1                  True   \n",
       "1                 PHL      1                  True   \n",
       "2                 YHU      1                 False   \n",
       "3                 MEM      2                  True   \n",
       "4                 SFO      2                  True   \n",
       "\n",
       "               departure_time                 return_time  checked_bags  \\\n",
       "0  2023-03-31 07:00:00.000000  2023-04-07 07:00:00.000000             1   \n",
       "1  2023-04-04 08:00:00.000000  2023-04-06 08:00:00.000000             2   \n",
       "2  2023-06-21 15:00:00.000000                         NaN             0   \n",
       "3  2023-04-21 13:00:00.000000  2023-04-24 13:00:00.000000             0   \n",
       "4  2023-02-02 07:00:00.000000  2023-02-07 07:00:00.000000             0   \n",
       "\n",
       "        trip_airline  destination_airport_lat  destination_airport_lon  \\\n",
       "0         Air Canada                   45.323                  -75.669   \n",
       "1  American Airlines                   39.872                  -75.241   \n",
       "2    Delta Air Lines                   45.517                  -73.417   \n",
       "3    Delta Air Lines                   35.042                  -89.977   \n",
       "4    Alaska Airlines                   37.619                 -122.375   \n",
       "\n",
       "   base_fare_usd  \n",
       "0         657.64  \n",
       "1         106.00  \n",
       "2         221.83  \n",
       "3         320.19  \n",
       "4        1507.83  "
      ],
      "text/html": [
       "<div>\n",
       "<style scoped>\n",
       "    .dataframe tbody tr th:only-of-type {\n",
       "        vertical-align: middle;\n",
       "    }\n",
       "\n",
       "    .dataframe tbody tr th {\n",
       "        vertical-align: top;\n",
       "    }\n",
       "\n",
       "    .dataframe thead th {\n",
       "        text-align: right;\n",
       "    }\n",
       "</style>\n",
       "<table border=\"1\" class=\"dataframe\">\n",
       "  <thead>\n",
       "    <tr style=\"text-align: right;\">\n",
       "      <th></th>\n",
       "      <th>trip_id</th>\n",
       "      <th>origin_airport</th>\n",
       "      <th>destination</th>\n",
       "      <th>destination_airport</th>\n",
       "      <th>seats</th>\n",
       "      <th>return_flight_booked</th>\n",
       "      <th>departure_time</th>\n",
       "      <th>return_time</th>\n",
       "      <th>checked_bags</th>\n",
       "      <th>trip_airline</th>\n",
       "      <th>destination_airport_lat</th>\n",
       "      <th>destination_airport_lon</th>\n",
       "      <th>base_fare_usd</th>\n",
       "    </tr>\n",
       "  </thead>\n",
       "  <tbody>\n",
       "    <tr>\n",
       "      <th>0</th>\n",
       "      <td>582979-5475b9940ee240bf9328a0cc0bc9900c</td>\n",
       "      <td>RNO</td>\n",
       "      <td>ottawa</td>\n",
       "      <td>YOW</td>\n",
       "      <td>1</td>\n",
       "      <td>True</td>\n",
       "      <td>2023-03-31 07:00:00.000000</td>\n",
       "      <td>2023-04-07 07:00:00.000000</td>\n",
       "      <td>1</td>\n",
       "      <td>Air Canada</td>\n",
       "      <td>45.323</td>\n",
       "      <td>-75.669</td>\n",
       "      <td>657.64</td>\n",
       "    </tr>\n",
       "    <tr>\n",
       "      <th>1</th>\n",
       "      <td>588386-233db0f627cf4aaaaeaa9a632daa5ec4</td>\n",
       "      <td>CLE</td>\n",
       "      <td>philadelphia</td>\n",
       "      <td>PHL</td>\n",
       "      <td>1</td>\n",
       "      <td>True</td>\n",
       "      <td>2023-04-04 08:00:00.000000</td>\n",
       "      <td>2023-04-06 08:00:00.000000</td>\n",
       "      <td>2</td>\n",
       "      <td>American Airlines</td>\n",
       "      <td>39.872</td>\n",
       "      <td>-75.241</td>\n",
       "      <td>106.00</td>\n",
       "    </tr>\n",
       "    <tr>\n",
       "      <th>2</th>\n",
       "      <td>514785-863ac3b4eb984f1eb226d67955623a5d</td>\n",
       "      <td>FTW</td>\n",
       "      <td>montreal</td>\n",
       "      <td>YHU</td>\n",
       "      <td>1</td>\n",
       "      <td>False</td>\n",
       "      <td>2023-06-21 15:00:00.000000</td>\n",
       "      <td>NaN</td>\n",
       "      <td>0</td>\n",
       "      <td>Delta Air Lines</td>\n",
       "      <td>45.517</td>\n",
       "      <td>-73.417</td>\n",
       "      <td>221.83</td>\n",
       "    </tr>\n",
       "    <tr>\n",
       "      <th>3</th>\n",
       "      <td>600395-79e934e3dcf2462587a0beffbebd6783</td>\n",
       "      <td>HOU</td>\n",
       "      <td>memphis</td>\n",
       "      <td>MEM</td>\n",
       "      <td>2</td>\n",
       "      <td>True</td>\n",
       "      <td>2023-04-21 13:00:00.000000</td>\n",
       "      <td>2023-04-24 13:00:00.000000</td>\n",
       "      <td>0</td>\n",
       "      <td>Delta Air Lines</td>\n",
       "      <td>35.042</td>\n",
       "      <td>-89.977</td>\n",
       "      <td>320.19</td>\n",
       "    </tr>\n",
       "    <tr>\n",
       "      <th>4</th>\n",
       "      <td>474120-a87f749cf54b4f4ca9262d07080a06b2</td>\n",
       "      <td>YQB</td>\n",
       "      <td>san francisco</td>\n",
       "      <td>SFO</td>\n",
       "      <td>2</td>\n",
       "      <td>True</td>\n",
       "      <td>2023-02-02 07:00:00.000000</td>\n",
       "      <td>2023-02-07 07:00:00.000000</td>\n",
       "      <td>0</td>\n",
       "      <td>Alaska Airlines</td>\n",
       "      <td>37.619</td>\n",
       "      <td>-122.375</td>\n",
       "      <td>1507.83</td>\n",
       "    </tr>\n",
       "  </tbody>\n",
       "</table>\n",
       "</div>"
      ]
     },
     "execution_count": 120,
     "metadata": {},
     "output_type": "execute_result"
    }
   ],
   "execution_count": 120
  },
  {
   "cell_type": "code",
   "id": "dd5c36c641f434f4",
   "metadata": {
    "ExecuteTime": {
     "end_time": "2025-04-21T17:35:47.982654Z",
     "start_time": "2025-04-21T17:35:47.945114Z"
    }
   },
   "source": [
    "df.info()"
   ],
   "outputs": [
    {
     "name": "stdout",
     "output_type": "stream",
     "text": [
      "<class 'pandas.core.frame.DataFrame'>\n",
      "RangeIndex: 13193 entries, 0 to 13192\n",
      "Data columns (total 13 columns):\n",
      " #   Column                   Non-Null Count  Dtype  \n",
      "---  ------                   --------------  -----  \n",
      " 0   trip_id                  13193 non-null  object \n",
      " 1   origin_airport           13193 non-null  object \n",
      " 2   destination              13193 non-null  object \n",
      " 3   destination_airport      13193 non-null  object \n",
      " 4   seats                    13193 non-null  int64  \n",
      " 5   return_flight_booked     13193 non-null  bool   \n",
      " 6   departure_time           13193 non-null  object \n",
      " 7   return_time              12620 non-null  object \n",
      " 8   checked_bags             13193 non-null  int64  \n",
      " 9   trip_airline             13193 non-null  object \n",
      " 10  destination_airport_lat  13193 non-null  float64\n",
      " 11  destination_airport_lon  13193 non-null  float64\n",
      " 12  base_fare_usd            13193 non-null  float64\n",
      "dtypes: bool(1), float64(3), int64(2), object(7)\n",
      "memory usage: 1.2+ MB\n"
     ]
    }
   ],
   "execution_count": 121
  },
  {
   "cell_type": "code",
   "id": "c3bb7fea9f6a",
   "metadata": {
    "ExecuteTime": {
     "end_time": "2025-04-21T17:35:51.864199Z",
     "start_time": "2025-04-21T17:35:51.847122Z"
    }
   },
   "source": [
    "df.describe()"
   ],
   "outputs": [
    {
     "data": {
      "text/plain": [
       "              seats  checked_bags  destination_airport_lat  \\\n",
       "count  13193.000000  13193.000000             13193.000000   \n",
       "mean       1.200106      0.584477                38.708329   \n",
       "std        0.552416      0.653633                 6.642478   \n",
       "min        1.000000      0.000000               -37.008000   \n",
       "25%        1.000000      0.000000                33.942000   \n",
       "50%        1.000000      1.000000                39.872000   \n",
       "75%        1.000000      1.000000                42.409000   \n",
       "max        8.000000      8.000000                55.972000   \n",
       "\n",
       "       destination_airport_lon  base_fare_usd  \n",
       "count             13193.000000   13193.000000  \n",
       "mean                -90.471100     489.114071  \n",
       "std                  29.068945     675.795966  \n",
       "min                -157.927000       2.410000  \n",
       "25%                -112.383000     198.600000  \n",
       "50%                 -87.752000     377.820000  \n",
       "75%                 -75.669000     590.590000  \n",
       "max                 174.792000   14466.330000  "
      ],
      "text/html": [
       "<div>\n",
       "<style scoped>\n",
       "    .dataframe tbody tr th:only-of-type {\n",
       "        vertical-align: middle;\n",
       "    }\n",
       "\n",
       "    .dataframe tbody tr th {\n",
       "        vertical-align: top;\n",
       "    }\n",
       "\n",
       "    .dataframe thead th {\n",
       "        text-align: right;\n",
       "    }\n",
       "</style>\n",
       "<table border=\"1\" class=\"dataframe\">\n",
       "  <thead>\n",
       "    <tr style=\"text-align: right;\">\n",
       "      <th></th>\n",
       "      <th>seats</th>\n",
       "      <th>checked_bags</th>\n",
       "      <th>destination_airport_lat</th>\n",
       "      <th>destination_airport_lon</th>\n",
       "      <th>base_fare_usd</th>\n",
       "    </tr>\n",
       "  </thead>\n",
       "  <tbody>\n",
       "    <tr>\n",
       "      <th>count</th>\n",
       "      <td>13193.000000</td>\n",
       "      <td>13193.000000</td>\n",
       "      <td>13193.000000</td>\n",
       "      <td>13193.000000</td>\n",
       "      <td>13193.000000</td>\n",
       "    </tr>\n",
       "    <tr>\n",
       "      <th>mean</th>\n",
       "      <td>1.200106</td>\n",
       "      <td>0.584477</td>\n",
       "      <td>38.708329</td>\n",
       "      <td>-90.471100</td>\n",
       "      <td>489.114071</td>\n",
       "    </tr>\n",
       "    <tr>\n",
       "      <th>std</th>\n",
       "      <td>0.552416</td>\n",
       "      <td>0.653633</td>\n",
       "      <td>6.642478</td>\n",
       "      <td>29.068945</td>\n",
       "      <td>675.795966</td>\n",
       "    </tr>\n",
       "    <tr>\n",
       "      <th>min</th>\n",
       "      <td>1.000000</td>\n",
       "      <td>0.000000</td>\n",
       "      <td>-37.008000</td>\n",
       "      <td>-157.927000</td>\n",
       "      <td>2.410000</td>\n",
       "    </tr>\n",
       "    <tr>\n",
       "      <th>25%</th>\n",
       "      <td>1.000000</td>\n",
       "      <td>0.000000</td>\n",
       "      <td>33.942000</td>\n",
       "      <td>-112.383000</td>\n",
       "      <td>198.600000</td>\n",
       "    </tr>\n",
       "    <tr>\n",
       "      <th>50%</th>\n",
       "      <td>1.000000</td>\n",
       "      <td>1.000000</td>\n",
       "      <td>39.872000</td>\n",
       "      <td>-87.752000</td>\n",
       "      <td>377.820000</td>\n",
       "    </tr>\n",
       "    <tr>\n",
       "      <th>75%</th>\n",
       "      <td>1.000000</td>\n",
       "      <td>1.000000</td>\n",
       "      <td>42.409000</td>\n",
       "      <td>-75.669000</td>\n",
       "      <td>590.590000</td>\n",
       "    </tr>\n",
       "    <tr>\n",
       "      <th>max</th>\n",
       "      <td>8.000000</td>\n",
       "      <td>8.000000</td>\n",
       "      <td>55.972000</td>\n",
       "      <td>174.792000</td>\n",
       "      <td>14466.330000</td>\n",
       "    </tr>\n",
       "  </tbody>\n",
       "</table>\n",
       "</div>"
      ]
     },
     "execution_count": 122,
     "metadata": {},
     "output_type": "execute_result"
    }
   ],
   "execution_count": 122
  },
  {
   "cell_type": "code",
   "id": "da1600907491e4a6",
   "metadata": {
    "ExecuteTime": {
     "end_time": "2025-04-21T17:36:02.923771Z",
     "start_time": "2025-04-21T17:36:02.891863Z"
    }
   },
   "source": [
    "df.duplicated().sum()"
   ],
   "outputs": [
    {
     "data": {
      "text/plain": [
       "np.int64(0)"
      ]
     },
     "execution_count": 123,
     "metadata": {},
     "output_type": "execute_result"
    }
   ],
   "execution_count": 123
  },
  {
   "cell_type": "markdown",
   "id": "6f3a6fc7e6866dc8",
   "metadata": {},
   "source": [
    "## Quick plots"
   ]
  },
  {
   "cell_type": "code",
   "id": "1a2524d3fea32155",
   "metadata": {
    "ExecuteTime": {
     "end_time": "2025-04-21T17:36:09.012767Z",
     "start_time": "2025-04-21T17:36:09.009137Z"
    }
   },
   "source": [
    "df['origin_airport'].value_counts()"
   ],
   "outputs": [
    {
     "data": {
      "text/plain": [
       "origin_airport\n",
       "LGA    835\n",
       "JFK    776\n",
       "LAX    698\n",
       "DAL    265\n",
       "YYC    233\n",
       "      ... \n",
       "CVG     12\n",
       "POB     11\n",
       "GEG      9\n",
       "EDF      8\n",
       "SFF      3\n",
       "Name: count, Length: 159, dtype: int64"
      ]
     },
     "execution_count": 125,
     "metadata": {},
     "output_type": "execute_result"
    }
   ],
   "execution_count": 125
  },
  {
   "cell_type": "code",
   "id": "acb26c6de5f85d22",
   "metadata": {
    "ExecuteTime": {
     "end_time": "2025-04-21T17:36:13.669472Z",
     "start_time": "2025-04-21T17:36:13.660594Z"
    }
   },
   "source": [
    "df['destination_airport'].value_counts()"
   ],
   "outputs": [
    {
     "data": {
      "text/plain": [
       "destination_airport\n",
       "JFK    944\n",
       "LGA    924\n",
       "LSQ    514\n",
       "LAX    469\n",
       "DAL    350\n",
       "      ... \n",
       "FUK      1\n",
       "HLA      1\n",
       "JNB      1\n",
       "CTU      1\n",
       "HAN      1\n",
       "Name: count, Length: 181, dtype: int64"
      ]
     },
     "execution_count": 126,
     "metadata": {},
     "output_type": "execute_result"
    }
   ],
   "execution_count": 126
  },
  {
   "cell_type": "code",
   "id": "63d249f567bf8eda",
   "metadata": {
    "ExecuteTime": {
     "end_time": "2025-04-21T17:36:17.408442Z",
     "start_time": "2025-04-21T17:36:17.393680Z"
    }
   },
   "source": [
    "df['seats'].value_counts()"
   ],
   "outputs": [
    {
     "data": {
      "text/plain": [
       "seats\n",
       "1    11255\n",
       "2     1426\n",
       "3      367\n",
       "4      116\n",
       "5       16\n",
       "6       11\n",
       "7        1\n",
       "8        1\n",
       "Name: count, dtype: int64"
      ]
     },
     "execution_count": 127,
     "metadata": {},
     "output_type": "execute_result"
    }
   ],
   "execution_count": 127
  },
  {
   "cell_type": "code",
   "id": "e0ef0383f97fb8db",
   "metadata": {
    "ExecuteTime": {
     "end_time": "2025-04-21T17:36:33.593208Z",
     "start_time": "2025-04-21T17:36:33.587605Z"
    }
   },
   "source": [
    "df['return_flight_booked'].value_counts()"
   ],
   "outputs": [
    {
     "data": {
      "text/plain": [
       "return_flight_booked\n",
       "True     12620\n",
       "False      573\n",
       "Name: count, dtype: int64"
      ]
     },
     "execution_count": 128,
     "metadata": {},
     "output_type": "execute_result"
    }
   ],
   "execution_count": 128
  },
  {
   "cell_type": "code",
   "id": "853461ba3d0c2737",
   "metadata": {
    "ExecuteTime": {
     "end_time": "2025-04-21T17:37:54.914895Z",
     "start_time": "2025-04-21T17:37:54.807795Z"
    }
   },
   "source": "sns.kdeplot(df['base_fare_usd'], fill=True, color='blue')",
   "outputs": [
    {
     "data": {
      "text/plain": [
       "<Axes: xlabel='base_fare_usd', ylabel='Density'>"
      ]
     },
     "execution_count": 131,
     "metadata": {},
     "output_type": "execute_result"
    },
    {
     "data": {
      "text/plain": [
       "<Figure size 640x480 with 1 Axes>"
      ],
      "image/png": "[encoded data removed]"
     },
     "metadata": {},
     "output_type": "display_data"
    }
   ],
   "execution_count": 131
  },
  {
   "cell_type": "code",
   "id": "9ceff7bbe36f2356",
   "metadata": {
    "ExecuteTime": {
     "end_time": "2025-04-21T17:37:59.970062Z",
     "start_time": "2025-04-21T17:37:59.958709Z"
    }
   },
   "source": [
    "df[df['base_fare_usd']>3000]"
   ],
   "outputs": [
    {
     "data": {
      "text/plain": [
       "                                       trip_id origin_airport    destination  \\\n",
       "295    565827-22aa93ceeea24a01a41e5e1a50ceff9b            BNA          dubai   \n",
       "296    549058-8b09b587ecee48d19e2cc451a97238b8            YKZ      guangzhou   \n",
       "597    591063-b13a35b8501d4e2b913736e2ee1ed93c            YTZ   kuala lumpur   \n",
       "720    646933-59c510529f6f4e3585bdb9b2e76c68e7            JFK  san francisco   \n",
       "745    373489-6dffc799005146528b75488c2529afbe            ICT          osaka   \n",
       "...                                        ...            ...            ...   \n",
       "12833  535595-6640f8ff7ef0443691022cc60d6ef860            ATL          delhi   \n",
       "12969  528743-c62add2a7d164c03ad97fbc78850e2fa            RIV          delhi   \n",
       "13037  584115-756d51f6f8a148b389c0836c3b71fac5            IAH         taipei   \n",
       "13153  560739-b91cdfb66dee4b618b2c383cebcc4300            LCK          tokyo   \n",
       "13191  598533-40848e5db09e46aa8f56c0c3ccdefb2d            YYJ          macau   \n",
       "\n",
       "      destination_airport  seats  return_flight_booked  \\\n",
       "295                   DXB      2                  True   \n",
       "296                   CAN      2                  True   \n",
       "597                   KUL      2                  True   \n",
       "720                   SFO      4                  True   \n",
       "745                   ITM      4                  True   \n",
       "...                   ...    ...                   ...   \n",
       "12833                 DEL      5                  True   \n",
       "12969                 DEL      3                  True   \n",
       "13037                 TPE      2                  True   \n",
       "13153                 HND      2                  True   \n",
       "13191                 MFM      2                  True   \n",
       "\n",
       "                   departure_time                 return_time  checked_bags  \\\n",
       "295    2023-12-23 08:00:00.000000  2024-01-02 08:00:00.000000             1   \n",
       "296    2024-07-16 07:00:00.000000  2024-07-29 07:00:00.000000             1   \n",
       "597    2023-12-08 07:00:00.000000  2023-12-19 07:00:00.000000             1   \n",
       "720    2023-07-22 12:00:00.000000  2023-07-25 12:00:00.000000             1   \n",
       "745    2024-02-09 09:00:00.000000  2024-02-22 09:00:00.000000             3   \n",
       "...                           ...                         ...           ...   \n",
       "12833  2023-10-30 10:00:00.000000  2023-11-14 10:00:00.000000             4   \n",
       "12969  2023-09-19 17:00:00.000000  2023-10-10 17:00:00.000000             2   \n",
       "13037  2024-03-14 19:00:00.000000  2024-03-28 19:00:00.000000             1   \n",
       "13153  2024-01-17 15:00:00.000000  2024-01-31 15:00:00.000000             1   \n",
       "13191  2024-01-23 19:00:00.000000  2024-02-06 19:00:00.000000             1   \n",
       "\n",
       "                  trip_airline  destination_airport_lat  \\\n",
       "295                   Emirates                   25.255   \n",
       "296    China Southern Airlines                   23.184   \n",
       "597          American Airlines                    2.746   \n",
       "720            United Airlines                   37.619   \n",
       "745             Japan Airlines                   34.785   \n",
       "...                        ...                      ...   \n",
       "12833                Lufthansa                   28.566   \n",
       "12969        Malaysia Airlines                   28.566   \n",
       "13037  China Southern Airlines                   25.069   \n",
       "13153       All Nippon Airways                   35.765   \n",
       "13191   China Eastern Airlines                   22.149   \n",
       "\n",
       "       destination_airport_lon  base_fare_usd  \n",
       "295                     55.364        4572.97  \n",
       "296                    113.266        4194.38  \n",
       "597                    101.710        5769.63  \n",
       "720                   -122.375        3099.71  \n",
       "745                    135.438        7451.31  \n",
       "...                        ...            ...  \n",
       "12833                   77.103       11356.96  \n",
       "12969                   77.103        6966.58  \n",
       "13037                  121.552        4721.63  \n",
       "13153                  140.386        3825.76  \n",
       "13191                  113.591        3861.04  \n",
       "\n",
       "[138 rows x 13 columns]"
      ],
      "text/html": [
       "<div>\n",
       "<style scoped>\n",
       "    .dataframe tbody tr th:only-of-type {\n",
       "        vertical-align: middle;\n",
       "    }\n",
       "\n",
       "    .dataframe tbody tr th {\n",
       "        vertical-align: top;\n",
       "    }\n",
       "\n",
       "    .dataframe thead th {\n",
       "        text-align: right;\n",
       "    }\n",
       "</style>\n",
       "<table border=\"1\" class=\"dataframe\">\n",
       "  <thead>\n",
       "    <tr style=\"text-align: right;\">\n",
       "      <th></th>\n",
       "      <th>trip_id</th>\n",
       "      <th>origin_airport</th>\n",
       "      <th>destination</th>\n",
       "      <th>destination_airport</th>\n",
       "      <th>seats</th>\n",
       "      <th>return_flight_booked</th>\n",
       "      <th>departure_time</th>\n",
       "      <th>return_time</th>\n",
       "      <th>checked_bags</th>\n",
       "      <th>trip_airline</th>\n",
       "      <th>destination_airport_lat</th>\n",
       "      <th>destination_airport_lon</th>\n",
       "      <th>base_fare_usd</th>\n",
       "    </tr>\n",
       "  </thead>\n",
       "  <tbody>\n",
       "    <tr>\n",
       "      <th>295</th>\n",
       "      <td>565827-22aa93ceeea24a01a41e5e1a50ceff9b</td>\n",
       "      <td>BNA</td>\n",
       "      <td>dubai</td>\n",
       "      <td>DXB</td>\n",
       "      <td>2</td>\n",
       "      <td>True</td>\n",
       "      <td>2023-12-23 08:00:00.000000</td>\n",
       "      <td>2024-01-02 08:00:00.000000</td>\n",
       "      <td>1</td>\n",
       "      <td>Emirates</td>\n",
       "      <td>25.255</td>\n",
       "      <td>55.364</td>\n",
       "      <td>4572.97</td>\n",
       "    </tr>\n",
       "    <tr>\n",
       "      <th>296</th>\n",
       "      <td>549058-8b09b587ecee48d19e2cc451a97238b8</td>\n",
       "      <td>YKZ</td>\n",
       "      <td>guangzhou</td>\n",
       "      <td>CAN</td>\n",
       "      <td>2</td>\n",
       "      <td>True</td>\n",
       "      <td>2024-07-16 07:00:00.000000</td>\n",
       "      <td>2024-07-29 07:00:00.000000</td>\n",
       "      <td>1</td>\n",
       "      <td>China Southern Airlines</td>\n",
       "      <td>23.184</td>\n",
       "      <td>113.266</td>\n",
       "      <td>4194.38</td>\n",
       "    </tr>\n",
       "    <tr>\n",
       "      <th>597</th>\n",
       "      <td>591063-b13a35b8501d4e2b913736e2ee1ed93c</td>\n",
       "      <td>YTZ</td>\n",
       "      <td>kuala lumpur</td>\n",
       "      <td>KUL</td>\n",
       "      <td>2</td>\n",
       "      <td>True</td>\n",
       "      <td>2023-12-08 07:00:00.000000</td>\n",
       "      <td>2023-12-19 07:00:00.000000</td>\n",
       "      <td>1</td>\n",
       "      <td>American Airlines</td>\n",
       "      <td>2.746</td>\n",
       "      <td>101.710</td>\n",
       "      <td>5769.63</td>\n",
       "    </tr>\n",
       "    <tr>\n",
       "      <th>720</th>\n",
       "      <td>646933-59c510529f6f4e3585bdb9b2e76c68e7</td>\n",
       "      <td>JFK</td>\n",
       "      <td>san francisco</td>\n",
       "      <td>SFO</td>\n",
       "      <td>4</td>\n",
       "      <td>True</td>\n",
       "      <td>2023-07-22 12:00:00.000000</td>\n",
       "      <td>2023-07-25 12:00:00.000000</td>\n",
       "      <td>1</td>\n",
       "      <td>United Airlines</td>\n",
       "      <td>37.619</td>\n",
       "      <td>-122.375</td>\n",
       "      <td>3099.71</td>\n",
       "    </tr>\n",
       "    <tr>\n",
       "      <th>745</th>\n",
       "      <td>373489-6dffc799005146528b75488c2529afbe</td>\n",
       "      <td>ICT</td>\n",
       "      <td>osaka</td>\n",
       "      <td>ITM</td>\n",
       "      <td>4</td>\n",
       "      <td>True</td>\n",
       "      <td>2024-02-09 09:00:00.000000</td>\n",
       "      <td>2024-02-22 09:00:00.000000</td>\n",
       "      <td>3</td>\n",
       "      <td>Japan Airlines</td>\n",
       "      <td>34.785</td>\n",
       "      <td>135.438</td>\n",
       "      <td>7451.31</td>\n",
       "    </tr>\n",
       "    <tr>\n",
       "      <th>...</th>\n",
       "      <td>...</td>\n",
       "      <td>...</td>\n",
       "      <td>...</td>\n",
       "      <td>...</td>\n",
       "      <td>...</td>\n",
       "      <td>...</td>\n",
       "      <td>...</td>\n",
       "      <td>...</td>\n",
       "      <td>...</td>\n",
       "      <td>...</td>\n",
       "      <td>...</td>\n",
       "      <td>...</td>\n",
       "      <td>...</td>\n",
       "    </tr>\n",
       "    <tr>\n",
       "      <th>12833</th>\n",
       "      <td>535595-6640f8ff7ef0443691022cc60d6ef860</td>\n",
       "      <td>ATL</td>\n",
       "      <td>delhi</td>\n",
       "      <td>DEL</td>\n",
       "      <td>5</td>\n",
       "      <td>True</td>\n",
       "      <td>2023-10-30 10:00:00.000000</td>\n",
       "      <td>2023-11-14 10:00:00.000000</td>\n",
       "      <td>4</td>\n",
       "      <td>Lufthansa</td>\n",
       "      <td>28.566</td>\n",
       "      <td>77.103</td>\n",
       "      <td>11356.96</td>\n",
       "    </tr>\n",
       "    <tr>\n",
       "      <th>12969</th>\n",
       "      <td>528743-c62add2a7d164c03ad97fbc78850e2fa</td>\n",
       "      <td>RIV</td>\n",
       "      <td>delhi</td>\n",
       "      <td>DEL</td>\n",
       "      <td>3</td>\n",
       "      <td>True</td>\n",
       "      <td>2023-09-19 17:00:00.000000</td>\n",
       "      <td>2023-10-10 17:00:00.000000</td>\n",
       "      <td>2</td>\n",
       "      <td>Malaysia Airlines</td>\n",
       "      <td>28.566</td>\n",
       "      <td>77.103</td>\n",
       "      <td>6966.58</td>\n",
       "    </tr>\n",
       "    <tr>\n",
       "      <th>13037</th>\n",
       "      <td>584115-756d51f6f8a148b389c0836c3b71fac5</td>\n",
       "      <td>IAH</td>\n",
       "      <td>taipei</td>\n",
       "      <td>TPE</td>\n",
       "      <td>2</td>\n",
       "      <td>True</td>\n",
       "      <td>2024-03-14 19:00:00.000000</td>\n",
       "      <td>2024-03-28 19:00:00.000000</td>\n",
       "      <td>1</td>\n",
       "      <td>China Southern Airlines</td>\n",
       "      <td>25.069</td>\n",
       "      <td>121.552</td>\n",
       "      <td>4721.63</td>\n",
       "    </tr>\n",
       "    <tr>\n",
       "      <th>13153</th>\n",
       "      <td>560739-b91cdfb66dee4b618b2c383cebcc4300</td>\n",
       "      <td>LCK</td>\n",
       "      <td>tokyo</td>\n",
       "      <td>HND</td>\n",
       "      <td>2</td>\n",
       "      <td>True</td>\n",
       "      <td>2024-01-17 15:00:00.000000</td>\n",
       "      <td>2024-01-31 15:00:00.000000</td>\n",
       "      <td>1</td>\n",
       "      <td>All Nippon Airways</td>\n",
       "      <td>35.765</td>\n",
       "      <td>140.386</td>\n",
       "      <td>3825.76</td>\n",
       "    </tr>\n",
       "    <tr>\n",
       "      <th>13191</th>\n",
       "      <td>598533-40848e5db09e46aa8f56c0c3ccdefb2d</td>\n",
       "      <td>YYJ</td>\n",
       "      <td>macau</td>\n",
       "      <td>MFM</td>\n",
       "      <td>2</td>\n",
       "      <td>True</td>\n",
       "      <td>2024-01-23 19:00:00.000000</td>\n",
       "      <td>2024-02-06 19:00:00.000000</td>\n",
       "      <td>1</td>\n",
       "      <td>China Eastern Airlines</td>\n",
       "      <td>22.149</td>\n",
       "      <td>113.591</td>\n",
       "      <td>3861.04</td>\n",
       "    </tr>\n",
       "  </tbody>\n",
       "</table>\n",
       "<p>138 rows × 13 columns</p>\n",
       "</div>"
      ]
     },
     "execution_count": 132,
     "metadata": {},
     "output_type": "execute_result"
    }
   ],
   "execution_count": 132
  },
  {
   "metadata": {},
   "cell_type": "markdown",
   "source": "",
   "id": "b04b1a6b13678f9"
  },
  {
   "cell_type": "markdown",
   "id": "f1a307859991332f",
   "metadata": {},
   "source": [
    "# Sessions"
   ]
  },
  {
   "cell_type": "code",
   "id": "e3b9e57ad22efa17",
   "metadata": {
    "ExecuteTime": {
     "end_time": "2025-04-21T17:42:20.639551Z",
     "start_time": "2025-04-21T17:42:20.548443Z"
    }
   },
   "source": "df = pd.read_csv('../data/sessions.csv')",
   "outputs": [],
   "execution_count": 139
  },
  {
   "cell_type": "code",
   "id": "9699776655e1718b",
   "metadata": {
    "ExecuteTime": {
     "end_time": "2025-04-21T17:42:21.626083Z",
     "start_time": "2025-04-21T17:42:21.617156Z"
    }
   },
   "source": [
    "df.head()"
   ],
   "outputs": [
    {
     "data": {
      "text/plain": [
       "                                session_id  user_id  \\\n",
       "0  536782-40ea451ff53841b296036272519d4e7e   536782   \n",
       "1  570600-1913f4dc10e445e59765e73588e68dfd   570600   \n",
       "2  511055-89aed43aef924e97a0b4cadff654328f   511055   \n",
       "3  677209-77c593f41bd04228b89a55b3a9d34141   677209   \n",
       "4  546867-c1b3888def70494a893b025bfa3a1b80   546867   \n",
       "\n",
       "                                   trip_id               session_start  \\\n",
       "0                                      NaN  2023-01-18 19:33:00.000000   \n",
       "1                                      NaN  2023-04-28 21:24:00.000000   \n",
       "2  511055-57ed6923358d47a0a3be86eaf8128ece  2023-02-02 20:49:00.000000   \n",
       "3                                      NaN  2023-06-01 21:20:00.000000   \n",
       "4                                      NaN  2023-03-04 20:38:00.000000   \n",
       "\n",
       "                  session_end  flight_discount  hotel_discount  \\\n",
       "0  2023-01-18 19:34:20.000000            False           False   \n",
       "1  2023-04-28 21:24:16.000000            False           False   \n",
       "2  2023-02-02 20:52:39.000000             True           False   \n",
       "3  2023-06-01 21:20:24.000000            False           False   \n",
       "4  2023-03-04 20:39:08.000000            False           False   \n",
       "\n",
       "   flight_discount_amount  hotel_discount_amount  flight_booked  hotel_booked  \\\n",
       "0                     NaN                    NaN          False         False   \n",
       "1                     NaN                    NaN          False         False   \n",
       "2                     0.1                    NaN           True          True   \n",
       "3                     NaN                    NaN          False         False   \n",
       "4                     NaN                    NaN          False         False   \n",
       "\n",
       "   page_clicks  cancellation  \n",
       "0           11         False  \n",
       "1            2         False  \n",
       "2           30         False  \n",
       "3            3         False  \n",
       "4            9         False  "
      ],
      "text/html": [
       "<div>\n",
       "<style scoped>\n",
       "    .dataframe tbody tr th:only-of-type {\n",
       "        vertical-align: middle;\n",
       "    }\n",
       "\n",
       "    .dataframe tbody tr th {\n",
       "        vertical-align: top;\n",
       "    }\n",
       "\n",
       "    .dataframe thead th {\n",
       "        text-align: right;\n",
       "    }\n",
       "</style>\n",
       "<table border=\"1\" class=\"dataframe\">\n",
       "  <thead>\n",
       "    <tr style=\"text-align: right;\">\n",
       "      <th></th>\n",
       "      <th>session_id</th>\n",
       "      <th>user_id</th>\n",
       "      <th>trip_id</th>\n",
       "      <th>session_start</th>\n",
       "      <th>session_end</th>\n",
       "      <th>flight_discount</th>\n",
       "      <th>hotel_discount</th>\n",
       "      <th>flight_discount_amount</th>\n",
       "      <th>hotel_discount_amount</th>\n",
       "      <th>flight_booked</th>\n",
       "      <th>hotel_booked</th>\n",
       "      <th>page_clicks</th>\n",
       "      <th>cancellation</th>\n",
       "    </tr>\n",
       "  </thead>\n",
       "  <tbody>\n",
       "    <tr>\n",
       "      <th>0</th>\n",
       "      <td>536782-40ea451ff53841b296036272519d4e7e</td>\n",
       "      <td>536782</td>\n",
       "      <td>NaN</td>\n",
       "      <td>2023-01-18 19:33:00.000000</td>\n",
       "      <td>2023-01-18 19:34:20.000000</td>\n",
       "      <td>False</td>\n",
       "      <td>False</td>\n",
       "      <td>NaN</td>\n",
       "      <td>NaN</td>\n",
       "      <td>False</td>\n",
       "      <td>False</td>\n",
       "      <td>11</td>\n",
       "      <td>False</td>\n",
       "    </tr>\n",
       "    <tr>\n",
       "      <th>1</th>\n",
       "      <td>570600-1913f4dc10e445e59765e73588e68dfd</td>\n",
       "      <td>570600</td>\n",
       "      <td>NaN</td>\n",
       "      <td>2023-04-28 21:24:00.000000</td>\n",
       "      <td>2023-04-28 21:24:16.000000</td>\n",
       "      <td>False</td>\n",
       "      <td>False</td>\n",
       "      <td>NaN</td>\n",
       "      <td>NaN</td>\n",
       "      <td>False</td>\n",
       "      <td>False</td>\n",
       "      <td>2</td>\n",
       "      <td>False</td>\n",
       "    </tr>\n",
       "    <tr>\n",
       "      <th>2</th>\n",
       "      <td>511055-89aed43aef924e97a0b4cadff654328f</td>\n",
       "      <td>511055</td>\n",
       "      <td>511055-57ed6923358d47a0a3be86eaf8128ece</td>\n",
       "      <td>2023-02-02 20:49:00.000000</td>\n",
       "      <td>2023-02-02 20:52:39.000000</td>\n",
       "      <td>True</td>\n",
       "      <td>False</td>\n",
       "      <td>0.1</td>\n",
       "      <td>NaN</td>\n",
       "      <td>True</td>\n",
       "      <td>True</td>\n",
       "      <td>30</td>\n",
       "      <td>False</td>\n",
       "    </tr>\n",
       "    <tr>\n",
       "      <th>3</th>\n",
       "      <td>677209-77c593f41bd04228b89a55b3a9d34141</td>\n",
       "      <td>677209</td>\n",
       "      <td>NaN</td>\n",
       "      <td>2023-06-01 21:20:00.000000</td>\n",
       "      <td>2023-06-01 21:20:24.000000</td>\n",
       "      <td>False</td>\n",
       "      <td>False</td>\n",
       "      <td>NaN</td>\n",
       "      <td>NaN</td>\n",
       "      <td>False</td>\n",
       "      <td>False</td>\n",
       "      <td>3</td>\n",
       "      <td>False</td>\n",
       "    </tr>\n",
       "    <tr>\n",
       "      <th>4</th>\n",
       "      <td>546867-c1b3888def70494a893b025bfa3a1b80</td>\n",
       "      <td>546867</td>\n",
       "      <td>NaN</td>\n",
       "      <td>2023-03-04 20:38:00.000000</td>\n",
       "      <td>2023-03-04 20:39:08.000000</td>\n",
       "      <td>False</td>\n",
       "      <td>False</td>\n",
       "      <td>NaN</td>\n",
       "      <td>NaN</td>\n",
       "      <td>False</td>\n",
       "      <td>False</td>\n",
       "      <td>9</td>\n",
       "      <td>False</td>\n",
       "    </tr>\n",
       "  </tbody>\n",
       "</table>\n",
       "</div>"
      ]
     },
     "execution_count": 140,
     "metadata": {},
     "output_type": "execute_result"
    }
   ],
   "execution_count": 140
  },
  {
   "cell_type": "code",
   "id": "9e9e0490cc17da2f",
   "metadata": {
    "ExecuteTime": {
     "end_time": "2025-04-21T17:42:24.254816Z",
     "start_time": "2025-04-21T17:42:24.229802Z"
    }
   },
   "source": [
    "df.info()"
   ],
   "outputs": [
    {
     "name": "stdout",
     "output_type": "stream",
     "text": [
      "<class 'pandas.core.frame.DataFrame'>\n",
      "RangeIndex: 47436 entries, 0 to 47435\n",
      "Data columns (total 13 columns):\n",
      " #   Column                  Non-Null Count  Dtype  \n",
      "---  ------                  --------------  -----  \n",
      " 0   session_id              47436 non-null  object \n",
      " 1   user_id                 47436 non-null  int64  \n",
      " 2   trip_id                 16066 non-null  object \n",
      " 3   session_start           47436 non-null  object \n",
      " 4   session_end             47436 non-null  object \n",
      " 5   flight_discount         47436 non-null  bool   \n",
      " 6   hotel_discount          47436 non-null  bool   \n",
      " 7   flight_discount_amount  7971 non-null   float64\n",
      " 8   hotel_discount_amount   6015 non-null   float64\n",
      " 9   flight_booked           47436 non-null  bool   \n",
      " 10  hotel_booked            47436 non-null  bool   \n",
      " 11  page_clicks             47436 non-null  int64  \n",
      " 12  cancellation            47436 non-null  bool   \n",
      "dtypes: bool(5), float64(2), int64(2), object(4)\n",
      "memory usage: 3.1+ MB\n"
     ]
    }
   ],
   "execution_count": 141
  },
  {
   "cell_type": "code",
   "id": "aa6a3ba380de54ca",
   "metadata": {
    "ExecuteTime": {
     "end_time": "2025-04-21T17:42:27.225009Z",
     "start_time": "2025-04-21T17:42:27.193293Z"
    }
   },
   "source": [
    "df.describe()"
   ],
   "outputs": [
    {
     "data": {
      "text/plain": [
       "             user_id  flight_discount_amount  hotel_discount_amount  \\\n",
       "count   47436.000000             7971.000000            6015.000000   \n",
       "mean   547497.276246                0.139725               0.112211   \n",
       "std     63772.497096                0.083942               0.062231   \n",
       "min     94883.000000                0.050000               0.050000   \n",
       "25%    519383.000000                0.100000               0.050000   \n",
       "50%    542095.000000                0.100000               0.100000   \n",
       "75%    575823.000000                0.200000               0.150000   \n",
       "max    844489.000000                0.600000               0.450000   \n",
       "\n",
       "        page_clicks  \n",
       "count  47436.000000  \n",
       "mean      17.598153  \n",
       "std       21.533788  \n",
       "min        1.000000  \n",
       "25%        6.000000  \n",
       "50%       13.000000  \n",
       "75%       22.000000  \n",
       "max      566.000000  "
      ],
      "text/html": [
       "<div>\n",
       "<style scoped>\n",
       "    .dataframe tbody tr th:only-of-type {\n",
       "        vertical-align: middle;\n",
       "    }\n",
       "\n",
       "    .dataframe tbody tr th {\n",
       "        vertical-align: top;\n",
       "    }\n",
       "\n",
       "    .dataframe thead th {\n",
       "        text-align: right;\n",
       "    }\n",
       "</style>\n",
       "<table border=\"1\" class=\"dataframe\">\n",
       "  <thead>\n",
       "    <tr style=\"text-align: right;\">\n",
       "      <th></th>\n",
       "      <th>user_id</th>\n",
       "      <th>flight_discount_amount</th>\n",
       "      <th>hotel_discount_amount</th>\n",
       "      <th>page_clicks</th>\n",
       "    </tr>\n",
       "  </thead>\n",
       "  <tbody>\n",
       "    <tr>\n",
       "      <th>count</th>\n",
       "      <td>47436.000000</td>\n",
       "      <td>7971.000000</td>\n",
       "      <td>6015.000000</td>\n",
       "      <td>47436.000000</td>\n",
       "    </tr>\n",
       "    <tr>\n",
       "      <th>mean</th>\n",
       "      <td>547497.276246</td>\n",
       "      <td>0.139725</td>\n",
       "      <td>0.112211</td>\n",
       "      <td>17.598153</td>\n",
       "    </tr>\n",
       "    <tr>\n",
       "      <th>std</th>\n",
       "      <td>63772.497096</td>\n",
       "      <td>0.083942</td>\n",
       "      <td>0.062231</td>\n",
       "      <td>21.533788</td>\n",
       "    </tr>\n",
       "    <tr>\n",
       "      <th>min</th>\n",
       "      <td>94883.000000</td>\n",
       "      <td>0.050000</td>\n",
       "      <td>0.050000</td>\n",
       "      <td>1.000000</td>\n",
       "    </tr>\n",
       "    <tr>\n",
       "      <th>25%</th>\n",
       "      <td>519383.000000</td>\n",
       "      <td>0.100000</td>\n",
       "      <td>0.050000</td>\n",
       "      <td>6.000000</td>\n",
       "    </tr>\n",
       "    <tr>\n",
       "      <th>50%</th>\n",
       "      <td>542095.000000</td>\n",
       "      <td>0.100000</td>\n",
       "      <td>0.100000</td>\n",
       "      <td>13.000000</td>\n",
       "    </tr>\n",
       "    <tr>\n",
       "      <th>75%</th>\n",
       "      <td>575823.000000</td>\n",
       "      <td>0.200000</td>\n",
       "      <td>0.150000</td>\n",
       "      <td>22.000000</td>\n",
       "    </tr>\n",
       "    <tr>\n",
       "      <th>max</th>\n",
       "      <td>844489.000000</td>\n",
       "      <td>0.600000</td>\n",
       "      <td>0.450000</td>\n",
       "      <td>566.000000</td>\n",
       "    </tr>\n",
       "  </tbody>\n",
       "</table>\n",
       "</div>"
      ]
     },
     "execution_count": 142,
     "metadata": {},
     "output_type": "execute_result"
    }
   ],
   "execution_count": 142
  },
  {
   "cell_type": "code",
   "id": "8001f3b788f2b5f6",
   "metadata": {
    "ExecuteTime": {
     "end_time": "2025-04-21T17:42:30.733224Z",
     "start_time": "2025-04-21T17:42:30.692714Z"
    }
   },
   "source": [
    "df.duplicated().sum()"
   ],
   "outputs": [
    {
     "data": {
      "text/plain": [
       "np.int64(0)"
      ]
     },
     "execution_count": 143,
     "metadata": {},
     "output_type": "execute_result"
    }
   ],
   "execution_count": 143
  },
  {
   "cell_type": "code",
   "id": "61b52af0f364265a",
   "metadata": {
    "ExecuteTime": {
     "end_time": "2025-04-21T18:17:35.064425Z",
     "start_time": "2025-04-21T18:17:34.815983Z"
    }
   },
   "source": [
    "for column in df.select_dtypes(include=['bool']).columns:\n",
    "    # Calculate percentages\n",
    "    percentages = df[column].value_counts(normalize=True) * 100  # Normalize gives proportions, multiply by 100 for percentage\n",
    "\n",
    "    # Create a bar plot\n",
    "    plt.figure(figsize=(6, 4))\n",
    "    percentages.plot(kind='bar', color=['skyblue', 'salmon'])\n",
    "\n",
    "    # Customize the plot\n",
    "    plt.title(f'Percentage Distribution of {column}')\n",
    "    plt.xlabel(column)\n",
    "    plt.ylabel('Percentage')\n",
    "    plt.ylim(0, 100)  # Ensure the y-axis goes from 0 to 100\n",
    "    plt.xticks(rotation=0)  # Keep x-ticks horizontal\n",
    "    plt.show()"
   ],
   "outputs": [
    {
     "data": {
      "text/plain": [
       "<Figure size 600x400 with 1 Axes>"
      ],
      "image/png": "[encoded data removed]"
     },
     "metadata": {},
     "output_type": "display_data"
    },
    {
     "data": {
      "text/plain": [
       "<Figure size 600x400 with 1 Axes>"
      ],
      "image/png": "[encoded data removed]"
     },
     "metadata": {},
     "output_type": "display_data"
    },
    {
     "data": {
      "text/plain": [
       "<Figure size 600x400 with 1 Axes>"
      ],
      "image/png": "[encoded data removed]"
     },
     "metadata": {},
     "output_type": "display_data"
    },
    {
     "data": {
      "text/plain": [
       "<Figure size 600x400 with 1 Axes>"
      ],
      "image/png": "[encoded data removed]"
     },
     "metadata": {},
     "output_type": "display_data"
    },
    {
     "data": {
      "text/plain": [
       "<Figure size 600x400 with 1 Axes>"
      ],
      "image/png": "[encoded data removed]"
     },
     "metadata": {},
     "output_type": "display_data"
    }
   ],
   "execution_count": 151
  }
 ],
 "metadata": {
  "kernelspec": {
   "display_name": "Python 3 (ipykernel)",
   "language": "python",
   "name": "python3"
  },
  "language_info": {
   "codemirror_mode": {
    "name": "ipython",
    "version": 3
   },
   "file_extension": ".py",
   "mimetype": "text/x-python",
   "name": "python",
   "nbconvert_exporter": "python",
   "pygments_lexer": "ipython3",
   "version": "3.12.3"
  }
 },
 "nbformat": 4,
 "nbformat_minor": 5
}
